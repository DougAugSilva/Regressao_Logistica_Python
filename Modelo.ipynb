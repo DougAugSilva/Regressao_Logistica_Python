{
  "cells": [
    {
      "cell_type": "markdown",
      "metadata": {
        "id": "d6trLHLJlGTZ"
      },
      "source": [
        "# • Utilizando um Modelo de Regressão Logística para Estimar a Probabilide de Inadimplência de Clientes •\n"
      ]
    },
    {
      "cell_type": "markdown",
      "metadata": {
        "id": "Vw6CwE41lG9X"
      },
      "source": [
        "---\n",
        "## • Introdução •"
      ]
    },
    {
      "cell_type": "markdown",
      "metadata": {
        "id": "jpW0qt0NOwdS"
      },
      "source": [
        "### Objetivos\n",
        "Este projeto tem como objetivo a criação de um modelo pereditivo para estimar da probabiliade de inadimplecia de clientes com base nos dados de treino. Para tal foi escolhida a regreção logistica, um modelo bem conhecido para problemas de classificação, dado que ela, usualmente na forma $f(x) = \\dfrac{1}{1 + e^{-x}}$ , sendo uma função continua com dominio no conjunto do reais $\\mathbb{R}$ e imagem como sendo o intervalo $]0,1[$, permitindo assim interpretar os valores de regreção agora como probabilidades."
      ]
    },
    {
      "cell_type": "markdown",
      "metadata": {
        "id": "Drghr9vdOwmJ"
      },
      "source": [
        "### Sobre os Dados\n",
        "Os dados para este projeto froma retirados de quatro conjuntos no formarto `.csv` com informações sobre os clientes que foram utilizados no treinamento,teste e ajuste do modelo. Os conjuntos de dados utilizados são:\n",
        " - base_cadastral\n",
        " - base_info\n",
        " - base_pagamentos_desenvolvimento\n",
        " - base_pagamentos_teste\n"
      ]
    },
    {
      "cell_type": "markdown",
      "metadata": {
        "id": "khkiRBQUOwuM"
      },
      "source": [
        "### Ferramentas Utilizadas\n",
        "Segue alista de ferramentas, linguagens e bibliotecas utilizadas nesse projeto, bem como suas justificativas de escolha.\n",
        "\n",
        "- `Python:` Linguagem de programação com uma grande gama de ferramentas para modelagem matemérica e estatística, bem como várias bibliotecas com funções que facilitam o processo de criação de modelos de *machine learning*.\n",
        "\n",
        "- `Visual Studio Code:` Escolhi esse por ser o editor de código fonte gratuito ao qual eu estou acostumado a utilizar em meus projétos.\n",
        "\n",
        "- `Jupyter Notebook:` Por ser uma ferramenta que permite a combinar comandos em python, juntamente com as explicações em markdawn e apresentação dos gráficos.\n",
        "\n",
        "- `Pandas:` Biblioteca do Python utilizada para manipulação e tratamento dos dados.\n",
        "\n",
        "- `Sklearn:`Biblioteca do Python com funções de machine learning e modelgame estatística.\n",
        "\n",
        "- `Numpy:` Biblioteca do Python que possui várias funções matemáticas e estatístias que facilitam a construção de arrays e modelgame matemática.\n",
        "\n",
        "- `Matplotlib:` Biblioteca do Python que possui várias funções de plotagem de gráficos.\n",
        "\n",
        "- `Seaborn:` Mais uma biblioteca do Python para visualização de gráficos.\n",
        "\n",
        "Segue também junto com esse Notebook Jupyter, um arquivo `requirements.txt` com as respectivas versões de cada biblioteca."
      ]
    },
    {
      "cell_type": "markdown",
      "metadata": {
        "id": "0Hcy5THiH4VQ"
      },
      "source": [
        "\n",
        "\n",
        "### Etapas do Desenvolvimento do Modelo\n",
        "1. **Análise Exploratória dos Dados:** Tem por objetivo ter uma primeira visão dos dados, permitindo assim a verificação de valores *missing* ou *outliers* a serem tratados em futuros tratamentos de *Feature Engineering*.\n",
        "\n",
        "\n",
        "2. **Tratamento dos Dados:** Parte muito importante para que o modelo seja bom na predição, possui várias etapas, sendo algumas realizar *Feature Engineering* nas datas (separando mês de ano, de dia e etc..), tratamento dos valores *missing* nas variáveis numéricas e categóricas, separação de dados de treino e teste e dentre outros processos.\n",
        "\n",
        "\n",
        "3. **Treinamento o Modelo:** Após a preparação dos dados e sua separação em treinamento e teste, vamos realizar o treinamento do modelo ajustando os valores dos coeficientes de regressão pela minimização da função de custo, depois aplicar a função logística para obtermos a probabilidade da variável *target* dada as variáveis preditoras.\n",
        "\n",
        "\n",
        "4. **Avaliando o Modelo:** Dados os primeiros resultados do treinamento, será feito uma avaliação do desempenho do modelo com base em algumas métricas, como avaliação de *overfitting* e *underfitting*, *Classification Report*, *Recall* dentre outras.\n",
        "\n",
        "\n",
        "5. **Aprimorando o Modelo:** Feita a avaliação e ajuste do modelo, será aplicado técnicas *Recursive Feature Elimination*, *validação cruzada* dentre outras para seleção das variáveis mais significativas para o modelo, e melhora do desempenho deste.\n",
        "\n",
        "\n",
        "6. **Aplicando o Modelo:** Feitos os ajuste necessários, podemos aplicar o modelo no conjunto de dados de validação, que contém informações de clientes que ainda não realizaram o pagamento, para assim prevermos suas respectivas probabilidades de inadimplência ou não.\n",
        "\n",
        "\n",
        "7. **Considerações Finais:** Elencando os principais pontos positivos e negativos sobre o modelo, bem como recomendando possíveis aprimoramentos futuros.\n",
        "\n",
        "\n",
        "\n"
      ]
    },
    {
      "cell_type": "markdown",
      "metadata": {
        "id": "sywzgR0gjHmw"
      },
      "source": [
        "---\n",
        "## 1. Análise Exploratória dos Dados\n"
      ]
    },
    {
      "cell_type": "markdown",
      "metadata": {
        "id": "4Pb7Fq4ijK2-"
      },
      "source": [
        "### 1.1. Instalando e Importando Bibliotecas"
      ]
    },
    {
      "cell_type": "code",
      "execution_count": 1,
      "metadata": {},
      "outputs": [
        {
          "name": "stdout",
          "output_type": "stream",
          "text": [
            "Requirement already satisfied: pandas in c:\\users\\d0ugl\\appdata\\local\\programs\\python\\python312\\lib\\site-packages (2.3.1)\n",
            "Requirement already satisfied: numpy in c:\\users\\d0ugl\\appdata\\local\\programs\\python\\python312\\lib\\site-packages (2.2.1)\n",
            "Requirement already satisfied: matplotlib in c:\\users\\d0ugl\\appdata\\local\\programs\\python\\python312\\lib\\site-packages (3.10.3)\n",
            "Requirement already satisfied: seaborn in c:\\users\\d0ugl\\appdata\\local\\programs\\python\\python312\\lib\\site-packages (0.13.2)\n",
            "Requirement already satisfied: scikit-learn in c:\\users\\d0ugl\\appdata\\local\\programs\\python\\python312\\lib\\site-packages (1.7.0)\n",
            "Requirement already satisfied: python-dateutil>=2.8.2 in c:\\users\\d0ugl\\appdata\\local\\programs\\python\\python312\\lib\\site-packages (from pandas) (2.9.0.post0)\n",
            "Requirement already satisfied: pytz>=2020.1 in c:\\users\\d0ugl\\appdata\\local\\programs\\python\\python312\\lib\\site-packages (from pandas) (2025.2)\n",
            "Requirement already satisfied: tzdata>=2022.7 in c:\\users\\d0ugl\\appdata\\local\\programs\\python\\python312\\lib\\site-packages (from pandas) (2025.2)\n",
            "Requirement already satisfied: contourpy>=1.0.1 in c:\\users\\d0ugl\\appdata\\local\\programs\\python\\python312\\lib\\site-packages (from matplotlib) (1.3.2)\n",
            "Requirement already satisfied: cycler>=0.10 in c:\\users\\d0ugl\\appdata\\local\\programs\\python\\python312\\lib\\site-packages (from matplotlib) (0.12.1)\n",
            "Requirement already satisfied: fonttools>=4.22.0 in c:\\users\\d0ugl\\appdata\\local\\programs\\python\\python312\\lib\\site-packages (from matplotlib) (4.58.5)\n",
            "Requirement already satisfied: kiwisolver>=1.3.1 in c:\\users\\d0ugl\\appdata\\local\\programs\\python\\python312\\lib\\site-packages (from matplotlib) (1.4.8)\n",
            "Requirement already satisfied: packaging>=20.0 in c:\\users\\d0ugl\\appdata\\local\\programs\\python\\python312\\lib\\site-packages (from matplotlib) (24.2)\n",
            "Requirement already satisfied: pillow>=8 in c:\\users\\d0ugl\\appdata\\local\\programs\\python\\python312\\lib\\site-packages (from matplotlib) (11.3.0)\n",
            "Requirement already satisfied: pyparsing>=2.3.1 in c:\\users\\d0ugl\\appdata\\local\\programs\\python\\python312\\lib\\site-packages (from matplotlib) (3.2.3)\n",
            "Requirement already satisfied: scipy>=1.8.0 in c:\\users\\d0ugl\\appdata\\local\\programs\\python\\python312\\lib\\site-packages (from scikit-learn) (1.16.0)\n",
            "Requirement already satisfied: joblib>=1.2.0 in c:\\users\\d0ugl\\appdata\\local\\programs\\python\\python312\\lib\\site-packages (from scikit-learn) (1.5.1)\n",
            "Requirement already satisfied: threadpoolctl>=3.1.0 in c:\\users\\d0ugl\\appdata\\local\\programs\\python\\python312\\lib\\site-packages (from scikit-learn) (3.6.0)\n",
            "Requirement already satisfied: six>=1.5 in c:\\users\\d0ugl\\appdata\\local\\programs\\python\\python312\\lib\\site-packages (from python-dateutil>=2.8.2->pandas) (1.17.0)\n"
          ]
        },
        {
          "name": "stderr",
          "output_type": "stream",
          "text": [
            "\n",
            "[notice] A new release of pip is available: 24.0 -> 25.1.1\n",
            "[notice] To update, run: python.exe -m pip install --upgrade pip\n"
          ]
        }
      ],
      "source": [
        "!pip install pandas numpy matplotlib seaborn scikit-learn\n"
      ]
    },
    {
      "cell_type": "code",
      "execution_count": 2,
      "metadata": {
        "id": "6tPlbWNmXcwT"
      },
      "outputs": [],
      "source": [
        "import pandas as pd   #manipulação dos dados\n",
        "import numpy as np    #funçoes matemáticas\n",
        "import matplotlib.pyplot as plt   #criação de gráficos\n",
        "import seaborn as sns   #mais funções matemáticas\n",
        "import sklearn  #funçõs de machine learning\n",
        "%matplotlib inline"
      ]
    },
    {
      "cell_type": "markdown",
      "metadata": {
        "id": "n4ccjZz6YPXA"
      },
      "source": [
        "### 1.2. Importando os Dados"
      ]
    },
    {
      "cell_type": "code",
      "execution_count": null,
      "metadata": {
        "id": "nPMM5ky477t7"
      },
      "outputs": [],
      "source": [
        "#mude para os caminhos dos arquivos em seu computador\n",
        "dados_cad = r'D:\\1 - CODIGOS\\Projeto Datarisk\\Projeto\\Dados\\base_cadastral.csv'\n",
        "dados_inf = r'D:\\1 - CODIGOS\\Projeto Datarisk\\Projeto\\Dados\\base_info.csv'\n",
        "dados_pag_des = r'D:\\1 - CODIGOS\\Projeto Datarisk\\Projeto\\Dados\\base_pagamentos_desenvolvimento.csv'\n",
        "dados_pag_test = r'D:\\1 - CODIGOS\\Projeto Datarisk\\Projeto\\Dados\\base_pagamentos_teste.csv'"
      ]
    },
    {
      "cell_type": "code",
      "execution_count": 4,
      "metadata": {},
      "outputs": [],
      "source": [
        "df_1 = pd.read_csv(dados_cad, sep = ';')    #base_cadastral\n",
        "df_2 = pd.read_csv(dados_inf, sep = ';')    #base_info\n",
        "df_3 = pd.read_csv(dados_pag_des, sep = ';')  #base_pagamentos_desenvolvimento\n",
        "df_4 = pd.read_csv(dados_pag_test, sep = ';') #base_pagamentos_teste"
      ]
    },
    {
      "cell_type": "markdown",
      "metadata": {
        "id": "vok2LUbDZHHM"
      },
      "source": [
        "### 1.3. Explorando os Dados"
      ]
    },
    {
      "cell_type": "code",
      "execution_count": 5,
      "metadata": {
        "colab": {
          "base_uri": "https://localhost:8080/"
        },
        "id": "MRvRHV9WZX6H",
        "outputId": "4cbf306b-0b9a-4ea9-8d83-f9beea98e432"
      },
      "outputs": [
        {
          "data": {
            "text/plain": [
              "(1315, 8)"
            ]
          },
          "execution_count": 5,
          "metadata": {},
          "output_type": "execute_result"
        }
      ],
      "source": [
        "#Verifica as dimensões de cada conjunto de dados\n",
        "df_1.shape"
      ]
    },
    {
      "cell_type": "code",
      "execution_count": 6,
      "metadata": {
        "colab": {
          "base_uri": "https://localhost:8080/"
        },
        "id": "Qq2rkiIDZtbg",
        "outputId": "a5cafac7-ff29-40e5-cd72-a7a0df4703e0"
      },
      "outputs": [
        {
          "data": {
            "text/plain": [
              "(24401, 4)"
            ]
          },
          "execution_count": 6,
          "metadata": {},
          "output_type": "execute_result"
        }
      ],
      "source": [
        "df_2.shape"
      ]
    },
    {
      "cell_type": "code",
      "execution_count": 7,
      "metadata": {
        "colab": {
          "base_uri": "https://localhost:8080/"
        },
        "id": "yGn6PgeCZtj_",
        "outputId": "f1cae10e-7a81-4a20-aa0d-fa616ff31904"
      },
      "outputs": [
        {
          "data": {
            "text/plain": [
              "(77414, 7)"
            ]
          },
          "execution_count": 7,
          "metadata": {},
          "output_type": "execute_result"
        }
      ],
      "source": [
        "df_3.shape"
      ]
    },
    {
      "cell_type": "code",
      "execution_count": 8,
      "metadata": {
        "colab": {
          "base_uri": "https://localhost:8080/"
        },
        "id": "nzOsG7foZtrx",
        "outputId": "40054303-fe70-41c4-bd14-6bd60d4350ad"
      },
      "outputs": [
        {
          "data": {
            "text/plain": [
              "(12275, 6)"
            ]
          },
          "execution_count": 8,
          "metadata": {},
          "output_type": "execute_result"
        }
      ],
      "source": [
        "df_4.shape"
      ]
    },
    {
      "cell_type": "code",
      "execution_count": 9,
      "metadata": {
        "colab": {
          "base_uri": "https://localhost:8080/",
          "height": 206
        },
        "id": "uPBkosvYZ6KR",
        "outputId": "12681db8-4fa2-4052-dba2-c94230a636b0"
      },
      "outputs": [
        {
          "data": {
            "text/html": [
              "<div>\n",
              "<style scoped>\n",
              "    .dataframe tbody tr th:only-of-type {\n",
              "        vertical-align: middle;\n",
              "    }\n",
              "\n",
              "    .dataframe tbody tr th {\n",
              "        vertical-align: top;\n",
              "    }\n",
              "\n",
              "    .dataframe thead th {\n",
              "        text-align: right;\n",
              "    }\n",
              "</style>\n",
              "<table border=\"1\" class=\"dataframe\">\n",
              "  <thead>\n",
              "    <tr style=\"text-align: right;\">\n",
              "      <th></th>\n",
              "      <th>ID_CLIENTE</th>\n",
              "      <th>DATA_CADASTRO</th>\n",
              "      <th>DDD</th>\n",
              "      <th>FLAG_PF</th>\n",
              "      <th>SEGMENTO_INDUSTRIAL</th>\n",
              "      <th>DOMINIO_EMAIL</th>\n",
              "      <th>PORTE</th>\n",
              "      <th>CEP_2_DIG</th>\n",
              "    </tr>\n",
              "  </thead>\n",
              "  <tbody>\n",
              "    <tr>\n",
              "      <th>0</th>\n",
              "      <td>1661240395903230676</td>\n",
              "      <td>2013-08-22</td>\n",
              "      <td>99</td>\n",
              "      <td>NaN</td>\n",
              "      <td>Serviços</td>\n",
              "      <td>YAHOO</td>\n",
              "      <td>PEQUENO</td>\n",
              "      <td>65</td>\n",
              "    </tr>\n",
              "    <tr>\n",
              "      <th>1</th>\n",
              "      <td>8274986328479596038</td>\n",
              "      <td>2017-01-25</td>\n",
              "      <td>31</td>\n",
              "      <td>NaN</td>\n",
              "      <td>Comércio</td>\n",
              "      <td>YAHOO</td>\n",
              "      <td>MEDIO</td>\n",
              "      <td>77</td>\n",
              "    </tr>\n",
              "    <tr>\n",
              "      <th>2</th>\n",
              "      <td>345447888460137901</td>\n",
              "      <td>2000-08-15</td>\n",
              "      <td>75</td>\n",
              "      <td>NaN</td>\n",
              "      <td>Serviços</td>\n",
              "      <td>HOTMAIL</td>\n",
              "      <td>PEQUENO</td>\n",
              "      <td>48</td>\n",
              "    </tr>\n",
              "    <tr>\n",
              "      <th>3</th>\n",
              "      <td>1003144834589372198</td>\n",
              "      <td>2017-08-06</td>\n",
              "      <td>49</td>\n",
              "      <td>NaN</td>\n",
              "      <td>Serviços</td>\n",
              "      <td>OUTLOOK</td>\n",
              "      <td>PEQUENO</td>\n",
              "      <td>89</td>\n",
              "    </tr>\n",
              "    <tr>\n",
              "      <th>4</th>\n",
              "      <td>324916756972236008</td>\n",
              "      <td>2011-02-14</td>\n",
              "      <td>88</td>\n",
              "      <td>NaN</td>\n",
              "      <td>Serviços</td>\n",
              "      <td>GMAIL</td>\n",
              "      <td>GRANDE</td>\n",
              "      <td>62</td>\n",
              "    </tr>\n",
              "  </tbody>\n",
              "</table>\n",
              "</div>"
            ],
            "text/plain": [
              "            ID_CLIENTE DATA_CADASTRO DDD FLAG_PF SEGMENTO_INDUSTRIAL  \\\n",
              "0  1661240395903230676    2013-08-22  99     NaN            Serviços   \n",
              "1  8274986328479596038    2017-01-25  31     NaN            Comércio   \n",
              "2   345447888460137901    2000-08-15  75     NaN            Serviços   \n",
              "3  1003144834589372198    2017-08-06  49     NaN            Serviços   \n",
              "4   324916756972236008    2011-02-14  88     NaN            Serviços   \n",
              "\n",
              "  DOMINIO_EMAIL    PORTE CEP_2_DIG  \n",
              "0         YAHOO  PEQUENO        65  \n",
              "1         YAHOO    MEDIO        77  \n",
              "2       HOTMAIL  PEQUENO        48  \n",
              "3       OUTLOOK  PEQUENO        89  \n",
              "4         GMAIL   GRANDE        62  "
            ]
          },
          "execution_count": 9,
          "metadata": {},
          "output_type": "execute_result"
        }
      ],
      "source": [
        "#retorna as peimeiras 5 linhas da tabela\n",
        "df_1.head() #base_cadastral"
      ]
    },
    {
      "cell_type": "code",
      "execution_count": 10,
      "metadata": {
        "colab": {
          "base_uri": "https://localhost:8080/",
          "height": 206
        },
        "id": "X7QkQSkCZ6P7",
        "outputId": "6057239b-b7b4-4486-9442-840b37976b7e"
      },
      "outputs": [
        {
          "data": {
            "text/html": [
              "<div>\n",
              "<style scoped>\n",
              "    .dataframe tbody tr th:only-of-type {\n",
              "        vertical-align: middle;\n",
              "    }\n",
              "\n",
              "    .dataframe tbody tr th {\n",
              "        vertical-align: top;\n",
              "    }\n",
              "\n",
              "    .dataframe thead th {\n",
              "        text-align: right;\n",
              "    }\n",
              "</style>\n",
              "<table border=\"1\" class=\"dataframe\">\n",
              "  <thead>\n",
              "    <tr style=\"text-align: right;\">\n",
              "      <th></th>\n",
              "      <th>ID_CLIENTE</th>\n",
              "      <th>SAFRA_REF</th>\n",
              "      <th>RENDA_MES_ANTERIOR</th>\n",
              "      <th>NO_FUNCIONARIOS</th>\n",
              "    </tr>\n",
              "  </thead>\n",
              "  <tbody>\n",
              "    <tr>\n",
              "      <th>0</th>\n",
              "      <td>1661240395903230676</td>\n",
              "      <td>2018-09</td>\n",
              "      <td>16913.0</td>\n",
              "      <td>NaN</td>\n",
              "    </tr>\n",
              "    <tr>\n",
              "      <th>1</th>\n",
              "      <td>8274986328479596038</td>\n",
              "      <td>2018-09</td>\n",
              "      <td>106430.0</td>\n",
              "      <td>141.0</td>\n",
              "    </tr>\n",
              "    <tr>\n",
              "      <th>2</th>\n",
              "      <td>345447888460137901</td>\n",
              "      <td>2018-09</td>\n",
              "      <td>707439.0</td>\n",
              "      <td>99.0</td>\n",
              "    </tr>\n",
              "    <tr>\n",
              "      <th>3</th>\n",
              "      <td>1003144834589372198</td>\n",
              "      <td>2018-09</td>\n",
              "      <td>239659.0</td>\n",
              "      <td>96.0</td>\n",
              "    </tr>\n",
              "    <tr>\n",
              "      <th>4</th>\n",
              "      <td>324916756972236008</td>\n",
              "      <td>2018-09</td>\n",
              "      <td>203123.0</td>\n",
              "      <td>103.0</td>\n",
              "    </tr>\n",
              "  </tbody>\n",
              "</table>\n",
              "</div>"
            ],
            "text/plain": [
              "            ID_CLIENTE SAFRA_REF  RENDA_MES_ANTERIOR  NO_FUNCIONARIOS\n",
              "0  1661240395903230676   2018-09             16913.0              NaN\n",
              "1  8274986328479596038   2018-09            106430.0            141.0\n",
              "2   345447888460137901   2018-09            707439.0             99.0\n",
              "3  1003144834589372198   2018-09            239659.0             96.0\n",
              "4   324916756972236008   2018-09            203123.0            103.0"
            ]
          },
          "execution_count": 10,
          "metadata": {},
          "output_type": "execute_result"
        }
      ],
      "source": [
        "df_2.head() #base_info"
      ]
    },
    {
      "cell_type": "code",
      "execution_count": 11,
      "metadata": {
        "colab": {
          "base_uri": "https://localhost:8080/",
          "height": 206
        },
        "id": "KjxkJElKZ6Wm",
        "outputId": "6e6c1aa7-2abf-47d5-8f4d-2eabb8529104"
      },
      "outputs": [
        {
          "data": {
            "text/html": [
              "<div>\n",
              "<style scoped>\n",
              "    .dataframe tbody tr th:only-of-type {\n",
              "        vertical-align: middle;\n",
              "    }\n",
              "\n",
              "    .dataframe tbody tr th {\n",
              "        vertical-align: top;\n",
              "    }\n",
              "\n",
              "    .dataframe thead th {\n",
              "        text-align: right;\n",
              "    }\n",
              "</style>\n",
              "<table border=\"1\" class=\"dataframe\">\n",
              "  <thead>\n",
              "    <tr style=\"text-align: right;\">\n",
              "      <th></th>\n",
              "      <th>ID_CLIENTE</th>\n",
              "      <th>SAFRA_REF</th>\n",
              "      <th>DATA_EMISSAO_DOCUMENTO</th>\n",
              "      <th>DATA_PAGAMENTO</th>\n",
              "      <th>DATA_VENCIMENTO</th>\n",
              "      <th>VALOR_A_PAGAR</th>\n",
              "      <th>TAXA</th>\n",
              "    </tr>\n",
              "  </thead>\n",
              "  <tbody>\n",
              "    <tr>\n",
              "      <th>0</th>\n",
              "      <td>1661240395903230676</td>\n",
              "      <td>2018-08</td>\n",
              "      <td>2018-08-17</td>\n",
              "      <td>2018-09-06</td>\n",
              "      <td>2018-09-06</td>\n",
              "      <td>35516.41</td>\n",
              "      <td>6.99</td>\n",
              "    </tr>\n",
              "    <tr>\n",
              "      <th>1</th>\n",
              "      <td>1661240395903230676</td>\n",
              "      <td>2018-08</td>\n",
              "      <td>2018-08-19</td>\n",
              "      <td>2018-09-11</td>\n",
              "      <td>2018-09-10</td>\n",
              "      <td>17758.21</td>\n",
              "      <td>6.99</td>\n",
              "    </tr>\n",
              "    <tr>\n",
              "      <th>2</th>\n",
              "      <td>1661240395903230676</td>\n",
              "      <td>2018-08</td>\n",
              "      <td>2018-08-26</td>\n",
              "      <td>2018-09-18</td>\n",
              "      <td>2018-09-17</td>\n",
              "      <td>17431.96</td>\n",
              "      <td>6.99</td>\n",
              "    </tr>\n",
              "    <tr>\n",
              "      <th>3</th>\n",
              "      <td>1661240395903230676</td>\n",
              "      <td>2018-08</td>\n",
              "      <td>2018-08-30</td>\n",
              "      <td>2018-10-11</td>\n",
              "      <td>2018-10-05</td>\n",
              "      <td>1341.00</td>\n",
              "      <td>6.99</td>\n",
              "    </tr>\n",
              "    <tr>\n",
              "      <th>4</th>\n",
              "      <td>1661240395903230676</td>\n",
              "      <td>2018-08</td>\n",
              "      <td>2018-08-31</td>\n",
              "      <td>2018-09-20</td>\n",
              "      <td>2018-09-20</td>\n",
              "      <td>21309.85</td>\n",
              "      <td>6.99</td>\n",
              "    </tr>\n",
              "  </tbody>\n",
              "</table>\n",
              "</div>"
            ],
            "text/plain": [
              "            ID_CLIENTE SAFRA_REF DATA_EMISSAO_DOCUMENTO DATA_PAGAMENTO  \\\n",
              "0  1661240395903230676   2018-08             2018-08-17     2018-09-06   \n",
              "1  1661240395903230676   2018-08             2018-08-19     2018-09-11   \n",
              "2  1661240395903230676   2018-08             2018-08-26     2018-09-18   \n",
              "3  1661240395903230676   2018-08             2018-08-30     2018-10-11   \n",
              "4  1661240395903230676   2018-08             2018-08-31     2018-09-20   \n",
              "\n",
              "  DATA_VENCIMENTO  VALOR_A_PAGAR  TAXA  \n",
              "0      2018-09-06       35516.41  6.99  \n",
              "1      2018-09-10       17758.21  6.99  \n",
              "2      2018-09-17       17431.96  6.99  \n",
              "3      2018-10-05        1341.00  6.99  \n",
              "4      2018-09-20       21309.85  6.99  "
            ]
          },
          "execution_count": 11,
          "metadata": {},
          "output_type": "execute_result"
        }
      ],
      "source": [
        "df_3.head() #base_pagamentos_desenvolvimento"
      ]
    },
    {
      "cell_type": "code",
      "execution_count": 12,
      "metadata": {
        "colab": {
          "base_uri": "https://localhost:8080/",
          "height": 206
        },
        "id": "8ReWILMDZ6dn",
        "outputId": "458e8544-bd2f-40bf-9439-f21a0ed1cd34"
      },
      "outputs": [
        {
          "data": {
            "text/html": [
              "<div>\n",
              "<style scoped>\n",
              "    .dataframe tbody tr th:only-of-type {\n",
              "        vertical-align: middle;\n",
              "    }\n",
              "\n",
              "    .dataframe tbody tr th {\n",
              "        vertical-align: top;\n",
              "    }\n",
              "\n",
              "    .dataframe thead th {\n",
              "        text-align: right;\n",
              "    }\n",
              "</style>\n",
              "<table border=\"1\" class=\"dataframe\">\n",
              "  <thead>\n",
              "    <tr style=\"text-align: right;\">\n",
              "      <th></th>\n",
              "      <th>ID_CLIENTE</th>\n",
              "      <th>SAFRA_REF</th>\n",
              "      <th>DATA_EMISSAO_DOCUMENTO</th>\n",
              "      <th>DATA_VENCIMENTO</th>\n",
              "      <th>VALOR_A_PAGAR</th>\n",
              "      <th>TAXA</th>\n",
              "    </tr>\n",
              "  </thead>\n",
              "  <tbody>\n",
              "    <tr>\n",
              "      <th>0</th>\n",
              "      <td>5058298901476893676</td>\n",
              "      <td>2021-07</td>\n",
              "      <td>2021-07-14</td>\n",
              "      <td>2021-08-04</td>\n",
              "      <td>11204.75</td>\n",
              "      <td>4.99</td>\n",
              "    </tr>\n",
              "    <tr>\n",
              "      <th>1</th>\n",
              "      <td>274692171162531764</td>\n",
              "      <td>2021-07</td>\n",
              "      <td>2021-07-08</td>\n",
              "      <td>2021-08-23</td>\n",
              "      <td>60718.50</td>\n",
              "      <td>5.99</td>\n",
              "    </tr>\n",
              "    <tr>\n",
              "      <th>2</th>\n",
              "      <td>274692171162531764</td>\n",
              "      <td>2021-07</td>\n",
              "      <td>2021-07-11</td>\n",
              "      <td>2021-08-25</td>\n",
              "      <td>60718.50</td>\n",
              "      <td>5.99</td>\n",
              "    </tr>\n",
              "    <tr>\n",
              "      <th>3</th>\n",
              "      <td>274692171162531764</td>\n",
              "      <td>2021-07</td>\n",
              "      <td>2021-07-16</td>\n",
              "      <td>2021-08-30</td>\n",
              "      <td>62250.00</td>\n",
              "      <td>5.99</td>\n",
              "    </tr>\n",
              "    <tr>\n",
              "      <th>4</th>\n",
              "      <td>465309249432033993</td>\n",
              "      <td>2021-07</td>\n",
              "      <td>2021-07-05</td>\n",
              "      <td>2021-07-30</td>\n",
              "      <td>26593.95</td>\n",
              "      <td>6.99</td>\n",
              "    </tr>\n",
              "  </tbody>\n",
              "</table>\n",
              "</div>"
            ],
            "text/plain": [
              "            ID_CLIENTE SAFRA_REF DATA_EMISSAO_DOCUMENTO DATA_VENCIMENTO  \\\n",
              "0  5058298901476893676   2021-07             2021-07-14      2021-08-04   \n",
              "1   274692171162531764   2021-07             2021-07-08      2021-08-23   \n",
              "2   274692171162531764   2021-07             2021-07-11      2021-08-25   \n",
              "3   274692171162531764   2021-07             2021-07-16      2021-08-30   \n",
              "4   465309249432033993   2021-07             2021-07-05      2021-07-30   \n",
              "\n",
              "   VALOR_A_PAGAR  TAXA  \n",
              "0       11204.75  4.99  \n",
              "1       60718.50  5.99  \n",
              "2       60718.50  5.99  \n",
              "3       62250.00  5.99  \n",
              "4       26593.95  6.99  "
            ]
          },
          "execution_count": 12,
          "metadata": {},
          "output_type": "execute_result"
        }
      ],
      "source": [
        "df_4.head() #base_pagamentos_teste"
      ]
    },
    {
      "cell_type": "markdown",
      "metadata": {
        "id": "PPFh5CaZmBz4"
      },
      "source": [
        "### 1.4. Realizando o Tratamento nas Datas"
      ]
    },
    {
      "cell_type": "code",
      "execution_count": 13,
      "metadata": {
        "colab": {
          "base_uri": "https://localhost:8080/"
        },
        "id": "WNKRSG2ImQ2Y",
        "outputId": "9f797c8b-272e-43cd-ec0a-4abef6f69898"
      },
      "outputs": [
        {
          "data": {
            "text/plain": [
              "dtype('O')"
            ]
          },
          "execution_count": 13,
          "metadata": {},
          "output_type": "execute_result"
        }
      ],
      "source": [
        "df_1['DATA_CADASTRO'].dtype"
      ]
    },
    {
      "cell_type": "code",
      "execution_count": 14,
      "metadata": {
        "colab": {
          "base_uri": "https://localhost:8080/"
        },
        "id": "qJB7q_gpn_E1",
        "outputId": "11298cf2-7f73-4f13-ee7d-3a5e7924b702"
      },
      "outputs": [
        {
          "data": {
            "text/plain": [
              "dtype('O')"
            ]
          },
          "execution_count": 14,
          "metadata": {},
          "output_type": "execute_result"
        }
      ],
      "source": [
        "df_2['SAFRA_REF'].dtype"
      ]
    },
    {
      "cell_type": "code",
      "execution_count": 15,
      "metadata": {
        "colab": {
          "base_uri": "https://localhost:8080/"
        },
        "id": "MEgoVDrDn_IP",
        "outputId": "addcf667-be8a-4da9-af75-9862087c9bde"
      },
      "outputs": [
        {
          "data": {
            "text/plain": [
              "dtype('O')"
            ]
          },
          "execution_count": 15,
          "metadata": {},
          "output_type": "execute_result"
        }
      ],
      "source": [
        "df_3['DATA_PAGAMENTO'].dtype"
      ]
    },
    {
      "cell_type": "code",
      "execution_count": 16,
      "metadata": {
        "colab": {
          "base_uri": "https://localhost:8080/"
        },
        "id": "9-pMydkxoAow",
        "outputId": "99d4fcd9-3d3c-48b7-b106-de7b9d833dab"
      },
      "outputs": [
        {
          "data": {
            "text/plain": [
              "dtype('O')"
            ]
          },
          "execution_count": 16,
          "metadata": {},
          "output_type": "execute_result"
        }
      ],
      "source": [
        "df_4['DATA_EMISSAO_DOCUMENTO'].dtype"
      ]
    },
    {
      "cell_type": "markdown",
      "metadata": {
        "id": "OhD0AZI6nSj3"
      },
      "source": [
        "Podemos ver que formato da data em cada tabela está como *Object*, o que não é bom para as manipulações que precisarão ser feitas, vamos assim tratar disso."
      ]
    },
    {
      "cell_type": "code",
      "execution_count": 17,
      "metadata": {
        "id": "OJovO4dImwFZ"
      },
      "outputs": [],
      "source": [
        "df_1['DATA_CADASTRO'] = pd.to_datetime(df_1['DATA_CADASTRO'])"
      ]
    },
    {
      "cell_type": "code",
      "execution_count": 18,
      "metadata": {
        "id": "Mr5eqOB5mwK-"
      },
      "outputs": [],
      "source": [
        "df_2['SAFRA_REF'] = pd.to_datetime(df_2['SAFRA_REF'])"
      ]
    },
    {
      "cell_type": "code",
      "execution_count": 19,
      "metadata": {
        "id": "02BPI6ilmwQM"
      },
      "outputs": [],
      "source": [
        "df_3['SAFRA_REF'] = pd.to_datetime(df_3['SAFRA_REF'])\n",
        "df_3['DATA_EMISSAO_DOCUMENTO'] = pd.to_datetime(df_3['DATA_EMISSAO_DOCUMENTO'])\n",
        "df_3['DATA_PAGAMENTO'] = pd.to_datetime(df_3['DATA_PAGAMENTO'])\n",
        "df_3['DATA_VENCIMENTO'] = pd.to_datetime(df_3['DATA_VENCIMENTO'])"
      ]
    },
    {
      "cell_type": "code",
      "execution_count": 20,
      "metadata": {
        "id": "78gNPZm2oRrO"
      },
      "outputs": [],
      "source": [
        "df_4['SAFRA_REF'] = pd.to_datetime(df_4['SAFRA_REF'])\n",
        "df_4['DATA_EMISSAO_DOCUMENTO'] = pd.to_datetime(df_4['DATA_EMISSAO_DOCUMENTO'])\n",
        "df_4['DATA_VENCIMENTO'] = pd.to_datetime(df_4['DATA_VENCIMENTO'])"
      ]
    },
    {
      "cell_type": "markdown",
      "metadata": {
        "id": "FbSfNZ2jbDmf"
      },
      "source": [
        "### 1.5. Analizando as Variáveis Categóricas"
      ]
    },
    {
      "cell_type": "code",
      "execution_count": 21,
      "metadata": {
        "colab": {
          "base_uri": "https://localhost:8080/"
        },
        "id": "2vDd8A3phIpU",
        "outputId": "88d724ec-4188-4b65-92dd-195272dd9797"
      },
      "outputs": [
        {
          "name": "stdout",
          "output_type": "stream",
          "text": [
            "Existm 6 variáveis categóricas\n",
            "\n",
            "As variáveis categóricas são: ['DDD', 'FLAG_PF', 'SEGMENTO_INDUSTRIAL', 'DOMINIO_EMAIL', 'PORTE', 'CEP_2_DIG']\n"
          ]
        }
      ],
      "source": [
        "categorica_1 = [var for var in df_1.columns if df_1[var].dtype == 'O' ]\n",
        "print('Existm {} variáveis categóricas\\n'.format(len(categorica_1)))\n",
        "print('As variáveis categóricas são:', categorica_1)"
      ]
    },
    {
      "cell_type": "code",
      "execution_count": 22,
      "metadata": {
        "colab": {
          "base_uri": "https://localhost:8080/"
        },
        "id": "I4i4L2i3ltXZ",
        "outputId": "d662a59f-92c6-4aa7-93a7-9ad24c345bb8"
      },
      "outputs": [
        {
          "name": "stdout",
          "output_type": "stream",
          "text": [
            "Existm 0 variáveis categóricas\n",
            "\n",
            "As variáveis categóricas são: []\n"
          ]
        }
      ],
      "source": [
        "categorica_2 = [var for var in df_2.columns if df_2[var].dtype == 'O' ]\n",
        "print('Existm {} variáveis categóricas\\n'.format(len(categorica_2)))\n",
        "print('As variáveis categóricas são:', categorica_2)"
      ]
    },
    {
      "cell_type": "code",
      "execution_count": 23,
      "metadata": {
        "colab": {
          "base_uri": "https://localhost:8080/"
        },
        "id": "gOYIeUt4ltdH",
        "outputId": "314bf098-a3e9-43ff-b9d4-22cf749d794d"
      },
      "outputs": [
        {
          "name": "stdout",
          "output_type": "stream",
          "text": [
            "Existm 0 variáveis categóricas\n",
            "\n",
            "As variáveis categóricas são: []\n"
          ]
        }
      ],
      "source": [
        "categorica_3 = [var for var in df_3.columns if df_3[var].dtype == 'O' ]\n",
        "print('Existm {} variáveis categóricas\\n'.format(len(categorica_3)))\n",
        "print('As variáveis categóricas são:', categorica_3)"
      ]
    },
    {
      "cell_type": "code",
      "execution_count": 24,
      "metadata": {
        "colab": {
          "base_uri": "https://localhost:8080/"
        },
        "id": "e7Z6UpsAltjR",
        "outputId": "a25f8466-c582-4ccf-e277-bd810d4a33d2"
      },
      "outputs": [
        {
          "name": "stdout",
          "output_type": "stream",
          "text": [
            "Existm 0 variáveis categóricas\n",
            "\n",
            "As variáveis categóricas são: []\n"
          ]
        }
      ],
      "source": [
        "categorica_4 = [var for var in df_4.columns if df_4[var].dtype == 'O' ]\n",
        "print('Existm {} variáveis categóricas\\n'.format(len(categorica_4)))\n",
        "print('As variáveis categóricas são:', categorica_4)"
      ]
    },
    {
      "cell_type": "markdown",
      "metadata": {
        "id": "CD-rJDMxtabj"
      },
      "source": [
        "Concluimos que a única tabela com variáveis categóricas é **base_cadastral**, e também a quantidade e nome das variáveis categóricas nessa tabela."
      ]
    },
    {
      "cell_type": "markdown",
      "metadata": {
        "id": "nLe_d4P_EKfJ"
      },
      "source": [
        "#### Verificando valores *missing* nas variáveis categóricas"
      ]
    },
    {
      "cell_type": "code",
      "execution_count": 25,
      "metadata": {
        "colab": {
          "base_uri": "https://localhost:8080/",
          "height": 272
        },
        "id": "D8LXIElyDo3w",
        "outputId": "071f1d45-7079-45be-b786-5fa375d42fa0"
      },
      "outputs": [
        {
          "data": {
            "text/plain": [
              "DDD                     237\n",
              "FLAG_PF                1249\n",
              "SEGMENTO_INDUSTRIAL      83\n",
              "DOMINIO_EMAIL            30\n",
              "PORTE                    41\n",
              "CEP_2_DIG                 0\n",
              "dtype: int64"
            ]
          },
          "execution_count": 25,
          "metadata": {},
          "output_type": "execute_result"
        }
      ],
      "source": [
        "df_1[categorica_1].isnull().sum()"
      ]
    },
    {
      "cell_type": "markdown",
      "metadata": {
        "id": "KjpdQz_4pxqN"
      },
      "source": [
        "### 1.6. Analizando as Variáveis Numéricas"
      ]
    },
    {
      "cell_type": "markdown",
      "metadata": {
        "id": "thFq7fQHq2Op"
      },
      "source": [
        "Assim como no caso das categóricas, vamos ver quantas variáveis, agora numéricas, temos de cada tabela."
      ]
    },
    {
      "cell_type": "code",
      "execution_count": 26,
      "metadata": {
        "colab": {
          "base_uri": "https://localhost:8080/"
        },
        "id": "HOWNcKnhp25o",
        "outputId": "d9fc0c9a-eac7-4f73-e840-31194666a3c2"
      },
      "outputs": [
        {
          "name": "stdout",
          "output_type": "stream",
          "text": [
            "Existm 2 variáveis numéricas\n",
            "\n",
            "As variáveis numéricas são: ['ID_CLIENTE', 'DATA_CADASTRO']\n"
          ]
        }
      ],
      "source": [
        "numerica_1 = [var for var in df_1.columns if df_1[var].dtype != 'O']\n",
        "print('Existm {} variáveis numéricas\\n'.format(len(numerica_1)))\n",
        "print('As variáveis numéricas são:', numerica_1)"
      ]
    },
    {
      "cell_type": "code",
      "execution_count": 27,
      "metadata": {
        "colab": {
          "base_uri": "https://localhost:8080/"
        },
        "id": "3-cB-XQ9qe5u",
        "outputId": "e3033dbd-dd38-45fb-84c8-8dd05a71ee18"
      },
      "outputs": [
        {
          "name": "stdout",
          "output_type": "stream",
          "text": [
            "Existm 4 variáveis numéricas\n",
            "\n",
            "As variáveis numéricas são: ['ID_CLIENTE', 'SAFRA_REF', 'RENDA_MES_ANTERIOR', 'NO_FUNCIONARIOS']\n"
          ]
        }
      ],
      "source": [
        "numerica_2 = [var for var in df_2.columns if df_2[var].dtype != 'O']\n",
        "print('Existm {} variáveis numéricas\\n'.format(len(numerica_2)))\n",
        "print('As variáveis numéricas são:', numerica_2)"
      ]
    },
    {
      "cell_type": "code",
      "execution_count": 28,
      "metadata": {
        "colab": {
          "base_uri": "https://localhost:8080/"
        },
        "id": "V4t4ELS3qe8h",
        "outputId": "82a0ab63-b5fa-4cca-f9f7-4c9b80e9c154"
      },
      "outputs": [
        {
          "name": "stdout",
          "output_type": "stream",
          "text": [
            "Existm 7 variáveis numéricas\n",
            "\n",
            "As variáveis numéricas são: ['ID_CLIENTE', 'SAFRA_REF', 'DATA_EMISSAO_DOCUMENTO', 'DATA_PAGAMENTO', 'DATA_VENCIMENTO', 'VALOR_A_PAGAR', 'TAXA']\n"
          ]
        }
      ],
      "source": [
        "numerica_3 = [var for var in df_3.columns if df_3[var].dtype != 'O']\n",
        "print('Existm {} variáveis numéricas\\n'.format(len(numerica_3)))\n",
        "print('As variáveis numéricas são:', numerica_3)"
      ]
    },
    {
      "cell_type": "code",
      "execution_count": 29,
      "metadata": {
        "colab": {
          "base_uri": "https://localhost:8080/"
        },
        "id": "wfdlBtH5qe_D",
        "outputId": "c988765c-431e-4339-ed64-ac2596abc0c7"
      },
      "outputs": [
        {
          "name": "stdout",
          "output_type": "stream",
          "text": [
            "Existm 6 variáveis numéricas\n",
            "\n",
            "As variáveis numéricas são: ['ID_CLIENTE', 'SAFRA_REF', 'DATA_EMISSAO_DOCUMENTO', 'DATA_VENCIMENTO', 'VALOR_A_PAGAR', 'TAXA']\n"
          ]
        }
      ],
      "source": [
        "numerica_4 = [var for var in df_4.columns if df_4[var].dtype != 'O']\n",
        "print('Existm {} variáveis numéricas\\n'.format(len(numerica_4)))\n",
        "print('As variáveis numéricas são:', numerica_4)"
      ]
    },
    {
      "cell_type": "markdown",
      "metadata": {
        "id": "nHofBbxmsG_k"
      },
      "source": [
        "Com isso, temos também uma lista das variáveis numéricas de cada tabela.\n"
      ]
    },
    {
      "cell_type": "markdown",
      "metadata": {
        "id": "SlfFCqYxrLgu"
      },
      "source": [
        "#### Verificando valores *missing* nas variáveis numéricas"
      ]
    },
    {
      "cell_type": "code",
      "execution_count": 30,
      "metadata": {
        "colab": {
          "base_uri": "https://localhost:8080/",
          "height": 147
        },
        "id": "WqOmhDLCrTPm",
        "outputId": "700ad581-128e-44c8-e297-d86dcd9e15e7"
      },
      "outputs": [
        {
          "data": {
            "text/plain": [
              "ID_CLIENTE       0\n",
              "DATA_CADASTRO    0\n",
              "dtype: int64"
            ]
          },
          "execution_count": 30,
          "metadata": {},
          "output_type": "execute_result"
        }
      ],
      "source": [
        "df_1[numerica_1].isnull().sum()"
      ]
    },
    {
      "cell_type": "code",
      "execution_count": 31,
      "metadata": {
        "colab": {
          "base_uri": "https://localhost:8080/",
          "height": 209
        },
        "id": "ANqixBGTr5Pk",
        "outputId": "00d62e8b-bf27-4291-ce20-5c5279a4df52"
      },
      "outputs": [
        {
          "data": {
            "text/plain": [
              "ID_CLIENTE               0\n",
              "SAFRA_REF                0\n",
              "RENDA_MES_ANTERIOR     717\n",
              "NO_FUNCIONARIOS       1252\n",
              "dtype: int64"
            ]
          },
          "execution_count": 31,
          "metadata": {},
          "output_type": "execute_result"
        }
      ],
      "source": [
        "df_2[numerica_2].isnull().sum()"
      ]
    },
    {
      "cell_type": "code",
      "execution_count": 32,
      "metadata": {
        "colab": {
          "base_uri": "https://localhost:8080/",
          "height": 303
        },
        "id": "HPT3H2-qr5St",
        "outputId": "d906df5f-f587-4c6c-91d9-bd09ee11eeb2"
      },
      "outputs": [
        {
          "data": {
            "text/plain": [
              "ID_CLIENTE                   0\n",
              "SAFRA_REF                    0\n",
              "DATA_EMISSAO_DOCUMENTO       0\n",
              "DATA_PAGAMENTO               0\n",
              "DATA_VENCIMENTO              0\n",
              "VALOR_A_PAGAR             1170\n",
              "TAXA                         0\n",
              "dtype: int64"
            ]
          },
          "execution_count": 32,
          "metadata": {},
          "output_type": "execute_result"
        }
      ],
      "source": [
        "df_3[numerica_3].isnull().sum()"
      ]
    },
    {
      "cell_type": "code",
      "execution_count": 33,
      "metadata": {
        "colab": {
          "base_uri": "https://localhost:8080/",
          "height": 272
        },
        "id": "0AlZL4XCr5ts",
        "outputId": "f0633c0a-eb8f-4845-a0dd-d8835a16affb"
      },
      "outputs": [
        {
          "data": {
            "text/plain": [
              "ID_CLIENTE                  0\n",
              "SAFRA_REF                   0\n",
              "DATA_EMISSAO_DOCUMENTO      0\n",
              "DATA_VENCIMENTO             0\n",
              "VALOR_A_PAGAR             131\n",
              "TAXA                        0\n",
              "dtype: int64"
            ]
          },
          "execution_count": 33,
          "metadata": {},
          "output_type": "execute_result"
        }
      ],
      "source": [
        "df_4[numerica_4].isnull().sum()"
      ]
    },
    {
      "cell_type": "markdown",
      "metadata": {
        "id": "OClblUgsshiQ"
      },
      "source": [
        "Note que temos alguns valores nulos de variáveis numéricas em algumas tabelas, tais valores deverão ser tratados mais adiante."
      ]
    },
    {
      "cell_type": "markdown",
      "metadata": {
        "id": "bSBFwf_fuMLL"
      },
      "source": [
        "#### Verificando *Outliers* nas variáveis numéricas"
      ]
    },
    {
      "cell_type": "markdown",
      "metadata": {
        "id": "E4TmNilxyBO1"
      },
      "source": [
        "Note que, nesse contexto, não faz sentido avaliar as estatísticas do `ID_CLIENTE`, dado que esta variável não possui significado quantitativo, mas serve apenas para distinção entre os clientes. Deste modo, vamos verificar outliers apenas refrente as datas. Isso pode ser feito por uma descrição dos dados e pela visualização dos histogramas das frequências."
      ]
    },
    {
      "cell_type": "code",
      "execution_count": 34,
      "metadata": {
        "colab": {
          "base_uri": "https://localhost:8080/"
        },
        "id": "70Qp0r8UuVW6",
        "outputId": "9017219e-0da2-45dd-f9c7-ca8f96d55876"
      },
      "outputs": [
        {
          "name": "stdout",
          "output_type": "stream",
          "text": [
            "count                             1315\n",
            "mean     2013-07-25 11:06:53.384030208\n",
            "min                2000-08-15 00:00:00\n",
            "25%                2011-02-14 00:00:00\n",
            "50%                2014-11-17 00:00:00\n",
            "75%                2018-10-26 12:00:00\n",
            "max                2021-07-18 00:00:00\n",
            "Name: DATA_CADASTRO, dtype: object\n"
          ]
        }
      ],
      "source": [
        "#Nos dá um resumo das estatísticas básicas dos dados\n",
        "print(df_1['DATA_CADASTRO'].describe())"
      ]
    },
    {
      "cell_type": "code",
      "execution_count": 35,
      "metadata": {
        "colab": {
          "base_uri": "https://localhost:8080/"
        },
        "id": "XV0XmnA5zda9",
        "outputId": "0a1f1349-77ce-424f-d32f-5809251a9c18"
      },
      "outputs": [
        {
          "name": "stdout",
          "output_type": "stream",
          "text": [
            "count                            24401\n",
            "mean     2020-05-05 20:33:41.228638208\n",
            "min                2018-09-01 00:00:00\n",
            "25%                2019-07-01 00:00:00\n",
            "50%                2020-06-01 00:00:00\n",
            "75%                2021-03-01 00:00:00\n",
            "max                2021-12-01 00:00:00\n",
            "Name: SAFRA_REF, dtype: object\n"
          ]
        }
      ],
      "source": [
        "print(df_2['SAFRA_REF'].describe())"
      ]
    },
    {
      "cell_type": "code",
      "execution_count": 36,
      "metadata": {
        "colab": {
          "base_uri": "https://localhost:8080/"
        },
        "id": "yUKVaxPjzdjl",
        "outputId": "e1bc0c00-2560-46a6-cf2b-1ef02280d21b"
      },
      "outputs": [
        {
          "name": "stdout",
          "output_type": "stream",
          "text": [
            "count                            77414\n",
            "mean     2020-01-19 03:57:55.743405312\n",
            "min                2018-08-01 00:00:00\n",
            "25%                2019-05-01 00:00:00\n",
            "50%                2020-01-01 00:00:00\n",
            "75%                2020-10-01 00:00:00\n",
            "max                2021-06-01 00:00:00\n",
            "Name: SAFRA_REF, dtype: object\n",
            "count                            77414\n",
            "mean     2020-02-02 21:01:42.400082688\n",
            "min                2018-08-17 00:00:00\n",
            "25%                2019-05-21 00:00:00\n",
            "50%                2020-01-27 00:00:00\n",
            "75%                2020-10-27 00:00:00\n",
            "max                2021-06-30 00:00:00\n",
            "Name: DATA_EMISSAO_DOCUMENTO, dtype: object\n",
            "count                            77414\n",
            "mean     2020-02-26 00:36:28.627380224\n",
            "min                2018-06-19 00:00:00\n",
            "25%                2019-06-13 00:00:00\n",
            "50%                2020-02-19 00:00:00\n",
            "75%                2020-11-18 00:00:00\n",
            "max                2021-11-24 00:00:00\n",
            "Name: DATA_PAGAMENTO, dtype: object\n",
            "count                            77414\n",
            "mean     2020-02-26 04:43:20.087839232\n",
            "min                2017-11-27 00:00:00\n",
            "25%                2019-06-13 00:00:00\n",
            "50%                2020-02-18 00:00:00\n",
            "75%                2020-11-18 00:00:00\n",
            "max                2027-03-31 00:00:00\n",
            "Name: DATA_VENCIMENTO, dtype: object\n"
          ]
        }
      ],
      "source": [
        "print(df_3['SAFRA_REF'].describe())\n",
        "print(df_3['DATA_EMISSAO_DOCUMENTO'].describe())\n",
        "print(df_3['DATA_PAGAMENTO'].describe())\n",
        "print(df_3['DATA_VENCIMENTO'].describe())"
      ]
    },
    {
      "cell_type": "code",
      "execution_count": 37,
      "metadata": {
        "colab": {
          "base_uri": "https://localhost:8080/"
        },
        "id": "RBMVMlhEzfta",
        "outputId": "0449c320-d94f-4fae-aeb9-4292dd245b70"
      },
      "outputs": [
        {
          "name": "stdout",
          "output_type": "stream",
          "text": [
            "count                            12275\n",
            "mean     2021-08-27 18:18:37.393075456\n",
            "min                2021-07-01 00:00:00\n",
            "25%                2021-08-01 00:00:00\n",
            "50%                2021-09-01 00:00:00\n",
            "75%                2021-10-01 00:00:00\n",
            "max                2021-11-01 00:00:00\n",
            "Name: SAFRA_REF, dtype: object\n",
            "count                            12275\n",
            "mean     2021-09-10 12:10:37.002036480\n",
            "min                2021-07-01 00:00:00\n",
            "25%                2021-08-06 00:00:00\n",
            "50%                2021-09-11 00:00:00\n",
            "75%                2021-10-14 00:00:00\n",
            "max                2021-11-28 00:00:00\n",
            "Name: DATA_EMISSAO_DOCUMENTO, dtype: object\n",
            "count                            12275\n",
            "mean     2021-10-02 17:53:24.073319680\n",
            "min                2021-04-26 00:00:00\n",
            "25%                2021-08-30 00:00:00\n",
            "50%                2021-10-04 00:00:00\n",
            "75%                2021-11-05 00:00:00\n",
            "max                2028-09-30 00:00:00\n",
            "Name: DATA_VENCIMENTO, dtype: object\n"
          ]
        }
      ],
      "source": [
        "print(df_4['SAFRA_REF'].describe())\n",
        "print(df_4['DATA_EMISSAO_DOCUMENTO'].describe())\n",
        "print(df_4['DATA_VENCIMENTO'].describe())"
      ]
    },
    {
      "cell_type": "code",
      "execution_count": 38,
      "metadata": {
        "colab": {
          "base_uri": "https://localhost:8080/",
          "height": 487
        },
        "id": "PwQi8NGr0pqs",
        "outputId": "0e6d93c5-381d-4cb0-8bed-e72887b03eff"
      },
      "outputs": [
        {
          "data": {
            "image/png": "[encoded data removed]",
            "text/plain": [
              "<Figure size 800x500 with 1 Axes>"
            ]
          },
          "metadata": {},
          "output_type": "display_data"
        }
      ],
      "source": [
        "#Gera um histograma da distribuição dos dados\n",
        "plt.figure(figsize=(8, 5))\n",
        "df_1['DATA_CADASTRO'].hist(bins=50)\n",
        "plt.title('DATA_CADASTRO')\n",
        "plt.xlabel('Data de Cadastro')\n",
        "plt.ylabel('Frequência')\n",
        "plt.show()"
      ]
    },
    {
      "cell_type": "code",
      "execution_count": 39,
      "metadata": {
        "colab": {
          "base_uri": "https://localhost:8080/",
          "height": 487
        },
        "id": "_kbcuwGa0pwh",
        "outputId": "727533b9-61e3-4373-8275-550798f7036f"
      },
      "outputs": [
        {
          "data": {
            "image/png": "[encoded data removed]",
            "text/plain": [
              "<Figure size 800x500 with 1 Axes>"
            ]
          },
          "metadata": {},
          "output_type": "display_data"
        }
      ],
      "source": [
        "plt.figure(figsize=(8, 5))\n",
        "df_2['SAFRA_REF'].hist(bins=60)\n",
        "plt.title('SAFRA_REF')\n",
        "plt.xlabel('Safra Ref')\n",
        "plt.ylabel('Frequência')\n",
        "plt.show()"
      ]
    },
    {
      "cell_type": "code",
      "execution_count": 40,
      "metadata": {
        "colab": {
          "base_uri": "https://localhost:8080/",
          "height": 1000
        },
        "id": "qWfLAog90p27",
        "outputId": "c00535c3-5479-42c8-9f38-35c60d4f73f2"
      },
      "outputs": [
        {
          "data": {
            "image/png": "[encoded data removed]",
            "text/plain": [
              "<Figure size 1500x1000 with 1 Axes>"
            ]
          },
          "metadata": {},
          "output_type": "display_data"
        },
        {
          "data": {
            "image/png": "[encoded data removed]",
            "text/plain": [
              "<Figure size 1500x1000 with 1 Axes>"
            ]
          },
          "metadata": {},
          "output_type": "display_data"
        },
        {
          "data": {
            "image/png": "[encoded data removed]",
            "text/plain": [
              "<Figure size 1500x1000 with 1 Axes>"
            ]
          },
          "metadata": {},
          "output_type": "display_data"
        },
        {
          "data": {
            "image/png": "[encoded data removed]",
            "text/plain": [
              "<Figure size 1500x1000 with 1 Axes>"
            ]
          },
          "metadata": {},
          "output_type": "display_data"
        }
      ],
      "source": [
        "plt.figure(figsize=(15, 10))\n",
        "plt.subplot (2, 2, 1)\n",
        "df_3['SAFRA_REF'].hist(bins=50)\n",
        "plt.title('SAFRA_REF')\n",
        "plt.xlabel('Safra Ref')\n",
        "plt.ylabel('Frequência')\n",
        "plt.show()\n",
        "\n",
        "plt.figure(figsize=(15, 10))\n",
        "plt.subplot (2, 2, 1)\n",
        "df_3['DATA_EMISSAO_DOCUMENTO'].hist(bins=50)\n",
        "plt.title('DATA_EMISSAO_DOCUMENTO')\n",
        "plt.xlabel('Data da Emissão do Documento')\n",
        "plt.ylabel('Frequência')\n",
        "plt.show()\n",
        "\n",
        "plt.figure(figsize=(15, 10))\n",
        "plt.subplot (2, 2, 1)\n",
        "df_3['DATA_PAGAMENTO'].hist(bins=50)\n",
        "plt.title('DATA_PAGAMENTO')\n",
        "plt.xlabel('Data do Pagamento')\n",
        "plt.ylabel('Frequência')\n",
        "plt.show()\n",
        "\n",
        "plt.figure(figsize=(15, 10))\n",
        "plt.subplot (2, 2, 1)\n",
        "df_3['DATA_VENCIMENTO'].hist(bins=50)\n",
        "plt.title('DATA_VENCIMENTO')\n",
        "plt.xlabel('Data do Vencimento')\n",
        "plt.ylabel('Frequência')\n",
        "plt.show()"
      ]
    },
    {
      "cell_type": "code",
      "execution_count": 41,
      "metadata": {
        "colab": {
          "base_uri": "https://localhost:8080/",
          "height": 1000
        },
        "id": "mhxbiL8Z0p9b",
        "outputId": "591a3121-4e93-4105-9559-26570faca11d"
      },
      "outputs": [
        {
          "data": {
            "image/png": "[encoded data removed]",
            "text/plain": [
              "<Figure size 1500x1000 with 1 Axes>"
            ]
          },
          "metadata": {},
          "output_type": "display_data"
        },
        {
          "data": {
            "image/png": "[encoded data removed]",
            "text/plain": [
              "<Figure size 1500x1000 with 1 Axes>"
            ]
          },
          "metadata": {},
          "output_type": "display_data"
        },
        {
          "data": {
            "image/png": "[encoded data removed]",
            "text/plain": [
              "<Figure size 1500x1000 with 1 Axes>"
            ]
          },
          "metadata": {},
          "output_type": "display_data"
        }
      ],
      "source": [
        "plt.figure(figsize=(15, 10))\n",
        "plt.subplot (2, 2, 1)\n",
        "df_4['SAFRA_REF'].hist(bins=20)\n",
        "plt.title('SAFRA_REF')\n",
        "plt.xlabel('Safra Ref')\n",
        "plt.ylabel('Frequência')\n",
        "plt.show()\n",
        "\n",
        "plt.figure(figsize=(15, 10))\n",
        "plt.subplot (2, 2, 1)\n",
        "df_4['DATA_EMISSAO_DOCUMENTO'].hist(bins=50)\n",
        "plt.title('DATA_EMISSAO_DOCUMENTO')\n",
        "plt.xlabel('Data da Emissão do Documento')\n",
        "plt.ylabel('Frequência')\n",
        "plt.show()\n",
        "\n",
        "plt.figure(figsize=(15, 10))\n",
        "plt.subplot (2, 2, 1)\n",
        "df_4['DATA_VENCIMENTO'].hist(bins=50)\n",
        "plt.title('DATA_VENCIMENTO')\n",
        "plt.xlabel('Data do Vencimento')\n",
        "plt.ylabel('Frequência')\n",
        "plt.show()"
      ]
    },
    {
      "cell_type": "markdown",
      "metadata": {
        "id": "Ofuio3XF5FP8"
      },
      "source": [
        "#### Conclusões da Análise\n"
      ]
    },
    {
      "cell_type": "markdown",
      "metadata": {
        "id": "ciYMFkmvM-6l"
      },
      "source": [
        "Notamos que os únicos valores de datas que possuem um comportamento atípico em comparação com as demais, são os da tabela `base_cadastral`, sendo a `'DATA_CADASTRO'`. Repare que existem picos em valores próximos dos anos de 2000 e 2012 respectivamente. \n",
        "\n",
        "Essas barras isoladas podem prejudicar o treinamento do modelo, em um caso ideal, é preciso conversar com quem forneceu os dados para ver se ouve algum evento nessas duas datas específicas que causou essa grande quantidade de cadasatros, de outro modo estes valores podem inserir um viés errado de que \"*quem fez cadastro nos anos de 2000 e 2011 tem uma probabilidade mairo de ser inadimplente*\", para  um melhor treinamento estes valores devem ser removidos."
      ]
    },
    {
      "cell_type": "code",
      "execution_count": 42,
      "metadata": {
        "colab": {
          "base_uri": "https://localhost:8080/",
          "height": 572
        },
        "id": "9czY-dFpAJ2M",
        "outputId": "bfbb7197-b35e-46c5-8999-1f0c395886c0"
      },
      "outputs": [
        {
          "name": "stdout",
          "output_type": "stream",
          "text": [
            "DATA_CADASTRO\n",
            "2000-08-15    162\n",
            "2011-02-14    142\n",
            "2017-08-06     18\n",
            "2012-03-11     16\n",
            "2011-02-15     12\n",
            "             ... \n",
            "2021-04-14      1\n",
            "2016-07-31      1\n",
            "2016-08-14      1\n",
            "2006-09-11      1\n",
            "2012-05-29      1\n",
            "Name: count, Length: 777, dtype: int64\n"
          ]
        },
        {
          "data": {
            "text/plain": [
              "count    777.000000\n",
              "mean       1.692407\n",
              "std        7.743761\n",
              "min        1.000000\n",
              "25%        1.000000\n",
              "50%        1.000000\n",
              "75%        1.000000\n",
              "max      162.000000\n",
              "Name: count, dtype: float64"
            ]
          },
          "execution_count": 42,
          "metadata": {},
          "output_type": "execute_result"
        }
      ],
      "source": [
        "#Confirmando o que apareceu no histograma\n",
        "frequencia_datas = df_1['DATA_CADASTRO'].value_counts()\n",
        "print(frequencia_datas)\n",
        "frequencia_datas.describe()"
      ]
    },
    {
      "cell_type": "markdown",
      "metadata": {
        "id": "FVVBfdqwBrWy"
      },
      "source": [
        "---\n",
        "## 2. Tratamento dos Dados"
      ]
    },
    {
      "cell_type": "markdown",
      "metadata": {
        "id": "d9QyRJEcKM4F"
      },
      "source": [
        "O tratamento dos dados vai ocorrer nas seguintes etapas:\n",
        "\n",
        "- Separação em Dados de Treinamento e Validação.\n",
        "- Tratamento dos Valores Missing em Cada DataFrame.\n",
        "- Tratamento de Outliers em Cada DataFrame.\n",
        "- Codificando Variavel Target (alvo).\n",
        "- Ajuste das Variáveis Para o Treinamento.\n",
        "- Definindo Conjuntos de Treino e Teste para o Treinamento do Modelo.\n",
        "- Preparando os Dados para Aplicar o Método MinMax.\n",
        "- Ajustando a Escala dos Dados com MinMax.\n"
      ]
    },
    {
      "cell_type": "markdown",
      "metadata": {
        "id": "uEvKCfZEP82r"
      },
      "source": [
        "### 2.1 Separação em Dados de Treinamento e Validação"
      ]
    },
    {
      "cell_type": "markdown",
      "metadata": {
        "id": "EUy9pjwoQSuM"
      },
      "source": [
        "Serão compilados os dados em duas tabelas separadas com os respectivos nomes de `df_treino` e `df_validacao`, sendo que ambas as tabelas vão ter o mesmo número de colunas. \n",
        "\n",
        "- O dataframe `df_treino` vai consistir nas informações dos clientes presentas na `base_pagamentos_desenvolvimento` com infromações adicionais de cada cliente e suas transações encontradas nas tabelas `base_cadastral` e `base_info`.\n",
        "- Já o dataframe `df_validacao` vai conter os dados dos clientes `base_pagamentos_teste`, também com informações adicionais sobre estes clientes e suas trasanções presentes nos dataframes `base_cadastral` e `base_info`."
      ]
    },
    {
      "cell_type": "code",
      "execution_count": 43,
      "metadata": {
        "colab": {
          "base_uri": "https://localhost:8080/",
          "height": 617
        },
        "id": "RCyD2U1QeYNm",
        "outputId": "6591828d-f231-4b83-e4af-1f2ebe0f5009"
      },
      "outputs": [
        {
          "data": {
            "text/html": [
              "<div>\n",
              "<style scoped>\n",
              "    .dataframe tbody tr th:only-of-type {\n",
              "        vertical-align: middle;\n",
              "    }\n",
              "\n",
              "    .dataframe tbody tr th {\n",
              "        vertical-align: top;\n",
              "    }\n",
              "\n",
              "    .dataframe thead th {\n",
              "        text-align: right;\n",
              "    }\n",
              "</style>\n",
              "<table border=\"1\" class=\"dataframe\">\n",
              "  <thead>\n",
              "    <tr style=\"text-align: right;\">\n",
              "      <th></th>\n",
              "      <th>ID_CLIENTE</th>\n",
              "      <th>SAFRA_REF</th>\n",
              "      <th>DATA_EMISSAO_DOCUMENTO</th>\n",
              "      <th>DATA_PAGAMENTO</th>\n",
              "      <th>DATA_VENCIMENTO</th>\n",
              "      <th>VALOR_A_PAGAR</th>\n",
              "      <th>TAXA</th>\n",
              "      <th>DATA_CADASTRO</th>\n",
              "      <th>DDD</th>\n",
              "      <th>FLAG_PF</th>\n",
              "      <th>SEGMENTO_INDUSTRIAL</th>\n",
              "      <th>DOMINIO_EMAIL</th>\n",
              "      <th>PORTE</th>\n",
              "      <th>CEP_2_DIG</th>\n",
              "      <th>RENDA_MES_ANTERIOR</th>\n",
              "      <th>NO_FUNCIONARIOS</th>\n",
              "    </tr>\n",
              "  </thead>\n",
              "  <tbody>\n",
              "    <tr>\n",
              "      <th>0</th>\n",
              "      <td>324916756972236008</td>\n",
              "      <td>2018-09-01</td>\n",
              "      <td>2018-09-02</td>\n",
              "      <td>2018-09-19</td>\n",
              "      <td>2018-09-19</td>\n",
              "      <td>21499.85</td>\n",
              "      <td>5.99</td>\n",
              "      <td>2011-02-14</td>\n",
              "      <td>88</td>\n",
              "      <td>NaN</td>\n",
              "      <td>Serviços</td>\n",
              "      <td>GMAIL</td>\n",
              "      <td>GRANDE</td>\n",
              "      <td>62</td>\n",
              "      <td>203123.0</td>\n",
              "      <td>103.0</td>\n",
              "    </tr>\n",
              "    <tr>\n",
              "      <th>1</th>\n",
              "      <td>324916756972236008</td>\n",
              "      <td>2018-09-01</td>\n",
              "      <td>2018-09-03</td>\n",
              "      <td>2018-09-19</td>\n",
              "      <td>2018-09-19</td>\n",
              "      <td>17690.72</td>\n",
              "      <td>5.99</td>\n",
              "      <td>2011-02-14</td>\n",
              "      <td>88</td>\n",
              "      <td>NaN</td>\n",
              "      <td>Serviços</td>\n",
              "      <td>GMAIL</td>\n",
              "      <td>GRANDE</td>\n",
              "      <td>62</td>\n",
              "      <td>203123.0</td>\n",
              "      <td>103.0</td>\n",
              "    </tr>\n",
              "    <tr>\n",
              "      <th>2</th>\n",
              "      <td>324916756972236008</td>\n",
              "      <td>2018-09-01</td>\n",
              "      <td>2018-09-13</td>\n",
              "      <td>2018-10-01</td>\n",
              "      <td>2018-10-01</td>\n",
              "      <td>17240.90</td>\n",
              "      <td>5.99</td>\n",
              "      <td>2011-02-14</td>\n",
              "      <td>88</td>\n",
              "      <td>NaN</td>\n",
              "      <td>Serviços</td>\n",
              "      <td>GMAIL</td>\n",
              "      <td>GRANDE</td>\n",
              "      <td>62</td>\n",
              "      <td>203123.0</td>\n",
              "      <td>103.0</td>\n",
              "    </tr>\n",
              "    <tr>\n",
              "      <th>3</th>\n",
              "      <td>324916756972236008</td>\n",
              "      <td>2018-09-01</td>\n",
              "      <td>2018-09-14</td>\n",
              "      <td>2018-10-01</td>\n",
              "      <td>2018-10-01</td>\n",
              "      <td>21474.50</td>\n",
              "      <td>5.99</td>\n",
              "      <td>2011-02-14</td>\n",
              "      <td>88</td>\n",
              "      <td>NaN</td>\n",
              "      <td>Serviços</td>\n",
              "      <td>GMAIL</td>\n",
              "      <td>GRANDE</td>\n",
              "      <td>62</td>\n",
              "      <td>203123.0</td>\n",
              "      <td>103.0</td>\n",
              "    </tr>\n",
              "    <tr>\n",
              "      <th>4</th>\n",
              "      <td>4679462479444735708</td>\n",
              "      <td>2018-09-01</td>\n",
              "      <td>2018-09-07</td>\n",
              "      <td>2018-09-24</td>\n",
              "      <td>2018-09-24</td>\n",
              "      <td>17354.30</td>\n",
              "      <td>8.99</td>\n",
              "      <td>2000-08-15</td>\n",
              "      <td>18</td>\n",
              "      <td>NaN</td>\n",
              "      <td>Indústria</td>\n",
              "      <td>HOTMAIL</td>\n",
              "      <td>GRANDE</td>\n",
              "      <td>19</td>\n",
              "      <td>53021.0</td>\n",
              "      <td>120.0</td>\n",
              "    </tr>\n",
              "    <tr>\n",
              "      <th>...</th>\n",
              "      <td>...</td>\n",
              "      <td>...</td>\n",
              "      <td>...</td>\n",
              "      <td>...</td>\n",
              "      <td>...</td>\n",
              "      <td>...</td>\n",
              "      <td>...</td>\n",
              "      <td>...</td>\n",
              "      <td>...</td>\n",
              "      <td>...</td>\n",
              "      <td>...</td>\n",
              "      <td>...</td>\n",
              "      <td>...</td>\n",
              "      <td>...</td>\n",
              "      <td>...</td>\n",
              "      <td>...</td>\n",
              "    </tr>\n",
              "    <tr>\n",
              "      <th>73472</th>\n",
              "      <td>4530631557358349711</td>\n",
              "      <td>2021-06-01</td>\n",
              "      <td>2021-06-30</td>\n",
              "      <td>2021-07-16</td>\n",
              "      <td>2021-07-16</td>\n",
              "      <td>63971.51</td>\n",
              "      <td>5.99</td>\n",
              "      <td>2000-08-15</td>\n",
              "      <td>11</td>\n",
              "      <td>NaN</td>\n",
              "      <td>Serviços</td>\n",
              "      <td>HOTMAIL</td>\n",
              "      <td>PEQUENO</td>\n",
              "      <td>55</td>\n",
              "      <td>139142.0</td>\n",
              "      <td>116.0</td>\n",
              "    </tr>\n",
              "    <tr>\n",
              "      <th>73473</th>\n",
              "      <td>2951563549197799278</td>\n",
              "      <td>2021-06-01</td>\n",
              "      <td>2021-06-30</td>\n",
              "      <td>2021-07-16</td>\n",
              "      <td>2021-07-16</td>\n",
              "      <td>89980.00</td>\n",
              "      <td>5.99</td>\n",
              "      <td>2000-08-15</td>\n",
              "      <td>11</td>\n",
              "      <td>NaN</td>\n",
              "      <td>Comércio</td>\n",
              "      <td>AOL</td>\n",
              "      <td>PEQUENO</td>\n",
              "      <td>13</td>\n",
              "      <td>280343.0</td>\n",
              "      <td>161.0</td>\n",
              "    </tr>\n",
              "    <tr>\n",
              "      <th>73474</th>\n",
              "      <td>5220206408301580591</td>\n",
              "      <td>2021-06-01</td>\n",
              "      <td>2021-06-30</td>\n",
              "      <td>2021-08-16</td>\n",
              "      <td>2021-08-16</td>\n",
              "      <td>42239.00</td>\n",
              "      <td>5.99</td>\n",
              "      <td>2021-04-08</td>\n",
              "      <td>19</td>\n",
              "      <td>NaN</td>\n",
              "      <td>Indústria</td>\n",
              "      <td>GMAIL</td>\n",
              "      <td>GRANDE</td>\n",
              "      <td>25</td>\n",
              "      <td>235315.0</td>\n",
              "      <td>87.0</td>\n",
              "    </tr>\n",
              "    <tr>\n",
              "      <th>73475</th>\n",
              "      <td>5860276371789140450</td>\n",
              "      <td>2021-06-01</td>\n",
              "      <td>2021-06-30</td>\n",
              "      <td>2021-07-16</td>\n",
              "      <td>2021-07-16</td>\n",
              "      <td>20921.50</td>\n",
              "      <td>5.99</td>\n",
              "      <td>2011-02-15</td>\n",
              "      <td>91</td>\n",
              "      <td>NaN</td>\n",
              "      <td>Serviços</td>\n",
              "      <td>HOTMAIL</td>\n",
              "      <td>GRANDE</td>\n",
              "      <td>67</td>\n",
              "      <td>100006.0</td>\n",
              "      <td>NaN</td>\n",
              "    </tr>\n",
              "    <tr>\n",
              "      <th>73476</th>\n",
              "      <td>8343941262792249232</td>\n",
              "      <td>2021-06-01</td>\n",
              "      <td>2021-06-30</td>\n",
              "      <td>2021-08-16</td>\n",
              "      <td>2021-08-16</td>\n",
              "      <td>20736.51</td>\n",
              "      <td>4.99</td>\n",
              "      <td>2019-05-28</td>\n",
              "      <td>11</td>\n",
              "      <td>NaN</td>\n",
              "      <td>Indústria</td>\n",
              "      <td>HOTMAIL</td>\n",
              "      <td>GRANDE</td>\n",
              "      <td>31</td>\n",
              "      <td>97599.0</td>\n",
              "      <td>NaN</td>\n",
              "    </tr>\n",
              "  </tbody>\n",
              "</table>\n",
              "<p>73477 rows × 16 columns</p>\n",
              "</div>"
            ],
            "text/plain": [
              "                ID_CLIENTE  SAFRA_REF DATA_EMISSAO_DOCUMENTO DATA_PAGAMENTO  \\\n",
              "0       324916756972236008 2018-09-01             2018-09-02     2018-09-19   \n",
              "1       324916756972236008 2018-09-01             2018-09-03     2018-09-19   \n",
              "2       324916756972236008 2018-09-01             2018-09-13     2018-10-01   \n",
              "3       324916756972236008 2018-09-01             2018-09-14     2018-10-01   \n",
              "4      4679462479444735708 2018-09-01             2018-09-07     2018-09-24   \n",
              "...                    ...        ...                    ...            ...   \n",
              "73472  4530631557358349711 2021-06-01             2021-06-30     2021-07-16   \n",
              "73473  2951563549197799278 2021-06-01             2021-06-30     2021-07-16   \n",
              "73474  5220206408301580591 2021-06-01             2021-06-30     2021-08-16   \n",
              "73475  5860276371789140450 2021-06-01             2021-06-30     2021-07-16   \n",
              "73476  8343941262792249232 2021-06-01             2021-06-30     2021-08-16   \n",
              "\n",
              "      DATA_VENCIMENTO  VALOR_A_PAGAR  TAXA DATA_CADASTRO DDD FLAG_PF  \\\n",
              "0          2018-09-19       21499.85  5.99    2011-02-14  88     NaN   \n",
              "1          2018-09-19       17690.72  5.99    2011-02-14  88     NaN   \n",
              "2          2018-10-01       17240.90  5.99    2011-02-14  88     NaN   \n",
              "3          2018-10-01       21474.50  5.99    2011-02-14  88     NaN   \n",
              "4          2018-09-24       17354.30  8.99    2000-08-15  18     NaN   \n",
              "...               ...            ...   ...           ...  ..     ...   \n",
              "73472      2021-07-16       63971.51  5.99    2000-08-15  11     NaN   \n",
              "73473      2021-07-16       89980.00  5.99    2000-08-15  11     NaN   \n",
              "73474      2021-08-16       42239.00  5.99    2021-04-08  19     NaN   \n",
              "73475      2021-07-16       20921.50  5.99    2011-02-15  91     NaN   \n",
              "73476      2021-08-16       20736.51  4.99    2019-05-28  11     NaN   \n",
              "\n",
              "      SEGMENTO_INDUSTRIAL DOMINIO_EMAIL    PORTE CEP_2_DIG  \\\n",
              "0                Serviços         GMAIL   GRANDE        62   \n",
              "1                Serviços         GMAIL   GRANDE        62   \n",
              "2                Serviços         GMAIL   GRANDE        62   \n",
              "3                Serviços         GMAIL   GRANDE        62   \n",
              "4               Indústria       HOTMAIL   GRANDE        19   \n",
              "...                   ...           ...      ...       ...   \n",
              "73472            Serviços       HOTMAIL  PEQUENO        55   \n",
              "73473            Comércio           AOL  PEQUENO        13   \n",
              "73474           Indústria         GMAIL   GRANDE        25   \n",
              "73475            Serviços       HOTMAIL   GRANDE        67   \n",
              "73476           Indústria       HOTMAIL   GRANDE        31   \n",
              "\n",
              "       RENDA_MES_ANTERIOR  NO_FUNCIONARIOS  \n",
              "0                203123.0            103.0  \n",
              "1                203123.0            103.0  \n",
              "2                203123.0            103.0  \n",
              "3                203123.0            103.0  \n",
              "4                 53021.0            120.0  \n",
              "...                   ...              ...  \n",
              "73472            139142.0            116.0  \n",
              "73473            280343.0            161.0  \n",
              "73474            235315.0             87.0  \n",
              "73475            100006.0              NaN  \n",
              "73476             97599.0              NaN  \n",
              "\n",
              "[73477 rows x 16 columns]"
            ]
          },
          "execution_count": 43,
          "metadata": {},
          "output_type": "execute_result"
        }
      ],
      "source": [
        "#Criando tabela dos dados de treino\n",
        "df_treino = pd.merge(df_3, df_1)\n",
        "df_treino = pd.merge(df_treino, df_2)\n",
        "df_treino"
      ]
    },
    {
      "cell_type": "code",
      "execution_count": 44,
      "metadata": {
        "colab": {
          "base_uri": "https://localhost:8080/",
          "height": 617
        },
        "id": "HhCI_DLeRY0y",
        "outputId": "0a2db0a5-0518-42f8-b9b7-7cf9afca0db1"
      },
      "outputs": [
        {
          "data": {
            "text/html": [
              "<div>\n",
              "<style scoped>\n",
              "    .dataframe tbody tr th:only-of-type {\n",
              "        vertical-align: middle;\n",
              "    }\n",
              "\n",
              "    .dataframe tbody tr th {\n",
              "        vertical-align: top;\n",
              "    }\n",
              "\n",
              "    .dataframe thead th {\n",
              "        text-align: right;\n",
              "    }\n",
              "</style>\n",
              "<table border=\"1\" class=\"dataframe\">\n",
              "  <thead>\n",
              "    <tr style=\"text-align: right;\">\n",
              "      <th></th>\n",
              "      <th>ID_CLIENTE</th>\n",
              "      <th>SAFRA_REF</th>\n",
              "      <th>DATA_EMISSAO_DOCUMENTO</th>\n",
              "      <th>DATA_VENCIMENTO</th>\n",
              "      <th>VALOR_A_PAGAR</th>\n",
              "      <th>TAXA</th>\n",
              "      <th>DATA_CADASTRO</th>\n",
              "      <th>DDD</th>\n",
              "      <th>FLAG_PF</th>\n",
              "      <th>SEGMENTO_INDUSTRIAL</th>\n",
              "      <th>DOMINIO_EMAIL</th>\n",
              "      <th>PORTE</th>\n",
              "      <th>CEP_2_DIG</th>\n",
              "      <th>RENDA_MES_ANTERIOR</th>\n",
              "      <th>NO_FUNCIONARIOS</th>\n",
              "    </tr>\n",
              "  </thead>\n",
              "  <tbody>\n",
              "    <tr>\n",
              "      <th>0</th>\n",
              "      <td>5058298901476893676</td>\n",
              "      <td>2021-07-01</td>\n",
              "      <td>2021-07-14</td>\n",
              "      <td>2021-08-04</td>\n",
              "      <td>11204.75</td>\n",
              "      <td>4.99</td>\n",
              "      <td>2014-03-30</td>\n",
              "      <td>54</td>\n",
              "      <td>NaN</td>\n",
              "      <td>Serviços</td>\n",
              "      <td>GMAIL</td>\n",
              "      <td>MEDIO</td>\n",
              "      <td>99</td>\n",
              "      <td>467430.0</td>\n",
              "      <td>NaN</td>\n",
              "    </tr>\n",
              "    <tr>\n",
              "      <th>1</th>\n",
              "      <td>274692171162531764</td>\n",
              "      <td>2021-07-01</td>\n",
              "      <td>2021-07-08</td>\n",
              "      <td>2021-08-23</td>\n",
              "      <td>60718.50</td>\n",
              "      <td>5.99</td>\n",
              "      <td>2005-08-03</td>\n",
              "      <td>19</td>\n",
              "      <td>NaN</td>\n",
              "      <td>Serviços</td>\n",
              "      <td>GMAIL</td>\n",
              "      <td>PEQUENO</td>\n",
              "      <td>13</td>\n",
              "      <td>417192.0</td>\n",
              "      <td>104.0</td>\n",
              "    </tr>\n",
              "    <tr>\n",
              "      <th>2</th>\n",
              "      <td>274692171162531764</td>\n",
              "      <td>2021-07-01</td>\n",
              "      <td>2021-07-11</td>\n",
              "      <td>2021-08-25</td>\n",
              "      <td>60718.50</td>\n",
              "      <td>5.99</td>\n",
              "      <td>2005-08-03</td>\n",
              "      <td>19</td>\n",
              "      <td>NaN</td>\n",
              "      <td>Serviços</td>\n",
              "      <td>GMAIL</td>\n",
              "      <td>PEQUENO</td>\n",
              "      <td>13</td>\n",
              "      <td>417192.0</td>\n",
              "      <td>104.0</td>\n",
              "    </tr>\n",
              "    <tr>\n",
              "      <th>3</th>\n",
              "      <td>274692171162531764</td>\n",
              "      <td>2021-07-01</td>\n",
              "      <td>2021-07-16</td>\n",
              "      <td>2021-08-30</td>\n",
              "      <td>62250.00</td>\n",
              "      <td>5.99</td>\n",
              "      <td>2005-08-03</td>\n",
              "      <td>19</td>\n",
              "      <td>NaN</td>\n",
              "      <td>Serviços</td>\n",
              "      <td>GMAIL</td>\n",
              "      <td>PEQUENO</td>\n",
              "      <td>13</td>\n",
              "      <td>417192.0</td>\n",
              "      <td>104.0</td>\n",
              "    </tr>\n",
              "    <tr>\n",
              "      <th>4</th>\n",
              "      <td>465309249432033993</td>\n",
              "      <td>2021-07-01</td>\n",
              "      <td>2021-07-05</td>\n",
              "      <td>2021-07-30</td>\n",
              "      <td>26593.95</td>\n",
              "      <td>6.99</td>\n",
              "      <td>2014-07-23</td>\n",
              "      <td>69</td>\n",
              "      <td>NaN</td>\n",
              "      <td>Comércio</td>\n",
              "      <td>GMAIL</td>\n",
              "      <td>GRANDE</td>\n",
              "      <td>76</td>\n",
              "      <td>873938.0</td>\n",
              "      <td>119.0</td>\n",
              "    </tr>\n",
              "    <tr>\n",
              "      <th>...</th>\n",
              "      <td>...</td>\n",
              "      <td>...</td>\n",
              "      <td>...</td>\n",
              "      <td>...</td>\n",
              "      <td>...</td>\n",
              "      <td>...</td>\n",
              "      <td>...</td>\n",
              "      <td>...</td>\n",
              "      <td>...</td>\n",
              "      <td>...</td>\n",
              "      <td>...</td>\n",
              "      <td>...</td>\n",
              "      <td>...</td>\n",
              "      <td>...</td>\n",
              "      <td>...</td>\n",
              "    </tr>\n",
              "    <tr>\n",
              "      <th>11825</th>\n",
              "      <td>3682570285558758138</td>\n",
              "      <td>2021-11-01</td>\n",
              "      <td>2021-11-24</td>\n",
              "      <td>2021-12-10</td>\n",
              "      <td>30867.50</td>\n",
              "      <td>4.99</td>\n",
              "      <td>2018-03-21</td>\n",
              "      <td>94</td>\n",
              "      <td>NaN</td>\n",
              "      <td>Serviços</td>\n",
              "      <td>GMAIL</td>\n",
              "      <td>GRANDE</td>\n",
              "      <td>68</td>\n",
              "      <td>197777.0</td>\n",
              "      <td>144.0</td>\n",
              "    </tr>\n",
              "    <tr>\n",
              "      <th>11826</th>\n",
              "      <td>3095686599956852697</td>\n",
              "      <td>2021-11-01</td>\n",
              "      <td>2021-11-24</td>\n",
              "      <td>2021-12-13</td>\n",
              "      <td>68024.05</td>\n",
              "      <td>6.99</td>\n",
              "      <td>2015-12-08</td>\n",
              "      <td>41</td>\n",
              "      <td>NaN</td>\n",
              "      <td>Comércio</td>\n",
              "      <td>BOL</td>\n",
              "      <td>MEDIO</td>\n",
              "      <td>83</td>\n",
              "      <td>165390.0</td>\n",
              "      <td>166.0</td>\n",
              "    </tr>\n",
              "    <tr>\n",
              "      <th>11827</th>\n",
              "      <td>4993499380140734678</td>\n",
              "      <td>2021-11-01</td>\n",
              "      <td>2021-11-25</td>\n",
              "      <td>2021-12-13</td>\n",
              "      <td>122875.35</td>\n",
              "      <td>8.99</td>\n",
              "      <td>2015-11-24</td>\n",
              "      <td>31</td>\n",
              "      <td>NaN</td>\n",
              "      <td>Serviços</td>\n",
              "      <td>GMAIL</td>\n",
              "      <td>PEQUENO</td>\n",
              "      <td>37</td>\n",
              "      <td>311422.0</td>\n",
              "      <td>150.0</td>\n",
              "    </tr>\n",
              "    <tr>\n",
              "      <th>11828</th>\n",
              "      <td>1299146298565441811</td>\n",
              "      <td>2021-11-01</td>\n",
              "      <td>2021-11-26</td>\n",
              "      <td>2021-12-13</td>\n",
              "      <td>143791.85</td>\n",
              "      <td>5.99</td>\n",
              "      <td>2000-08-15</td>\n",
              "      <td>21</td>\n",
              "      <td>NaN</td>\n",
              "      <td>Serviços</td>\n",
              "      <td>HOTMAIL</td>\n",
              "      <td>MEDIO</td>\n",
              "      <td>21</td>\n",
              "      <td>220341.0</td>\n",
              "      <td>122.0</td>\n",
              "    </tr>\n",
              "    <tr>\n",
              "      <th>11829</th>\n",
              "      <td>4061297388883391410</td>\n",
              "      <td>2021-11-01</td>\n",
              "      <td>2021-11-28</td>\n",
              "      <td>2021-12-23</td>\n",
              "      <td>23724.10</td>\n",
              "      <td>4.99</td>\n",
              "      <td>2012-03-11</td>\n",
              "      <td>47</td>\n",
              "      <td>NaN</td>\n",
              "      <td>Serviços</td>\n",
              "      <td>YAHOO</td>\n",
              "      <td>GRANDE</td>\n",
              "      <td>89</td>\n",
              "      <td>204643.0</td>\n",
              "      <td>124.0</td>\n",
              "    </tr>\n",
              "  </tbody>\n",
              "</table>\n",
              "<p>11830 rows × 15 columns</p>\n",
              "</div>"
            ],
            "text/plain": [
              "                ID_CLIENTE  SAFRA_REF DATA_EMISSAO_DOCUMENTO DATA_VENCIMENTO  \\\n",
              "0      5058298901476893676 2021-07-01             2021-07-14      2021-08-04   \n",
              "1       274692171162531764 2021-07-01             2021-07-08      2021-08-23   \n",
              "2       274692171162531764 2021-07-01             2021-07-11      2021-08-25   \n",
              "3       274692171162531764 2021-07-01             2021-07-16      2021-08-30   \n",
              "4       465309249432033993 2021-07-01             2021-07-05      2021-07-30   \n",
              "...                    ...        ...                    ...             ...   \n",
              "11825  3682570285558758138 2021-11-01             2021-11-24      2021-12-10   \n",
              "11826  3095686599956852697 2021-11-01             2021-11-24      2021-12-13   \n",
              "11827  4993499380140734678 2021-11-01             2021-11-25      2021-12-13   \n",
              "11828  1299146298565441811 2021-11-01             2021-11-26      2021-12-13   \n",
              "11829  4061297388883391410 2021-11-01             2021-11-28      2021-12-23   \n",
              "\n",
              "       VALOR_A_PAGAR  TAXA DATA_CADASTRO DDD FLAG_PF SEGMENTO_INDUSTRIAL  \\\n",
              "0           11204.75  4.99    2014-03-30  54     NaN            Serviços   \n",
              "1           60718.50  5.99    2005-08-03  19     NaN            Serviços   \n",
              "2           60718.50  5.99    2005-08-03  19     NaN            Serviços   \n",
              "3           62250.00  5.99    2005-08-03  19     NaN            Serviços   \n",
              "4           26593.95  6.99    2014-07-23  69     NaN            Comércio   \n",
              "...              ...   ...           ...  ..     ...                 ...   \n",
              "11825       30867.50  4.99    2018-03-21  94     NaN            Serviços   \n",
              "11826       68024.05  6.99    2015-12-08  41     NaN            Comércio   \n",
              "11827      122875.35  8.99    2015-11-24  31     NaN            Serviços   \n",
              "11828      143791.85  5.99    2000-08-15  21     NaN            Serviços   \n",
              "11829       23724.10  4.99    2012-03-11  47     NaN            Serviços   \n",
              "\n",
              "      DOMINIO_EMAIL    PORTE CEP_2_DIG  RENDA_MES_ANTERIOR  NO_FUNCIONARIOS  \n",
              "0             GMAIL    MEDIO        99            467430.0              NaN  \n",
              "1             GMAIL  PEQUENO        13            417192.0            104.0  \n",
              "2             GMAIL  PEQUENO        13            417192.0            104.0  \n",
              "3             GMAIL  PEQUENO        13            417192.0            104.0  \n",
              "4             GMAIL   GRANDE        76            873938.0            119.0  \n",
              "...             ...      ...       ...                 ...              ...  \n",
              "11825         GMAIL   GRANDE        68            197777.0            144.0  \n",
              "11826           BOL    MEDIO        83            165390.0            166.0  \n",
              "11827         GMAIL  PEQUENO        37            311422.0            150.0  \n",
              "11828       HOTMAIL    MEDIO        21            220341.0            122.0  \n",
              "11829         YAHOO   GRANDE        89            204643.0            124.0  \n",
              "\n",
              "[11830 rows x 15 columns]"
            ]
          },
          "execution_count": 44,
          "metadata": {},
          "output_type": "execute_result"
        }
      ],
      "source": [
        "#Criando tabela dos dados de validacao\n",
        "df_validacao = pd.merge(df_4, df_1)\n",
        "df_validacao = pd.merge(df_validacao, df_2)\n",
        "df_validacao"
      ]
    },
    {
      "cell_type": "markdown",
      "metadata": {
        "id": "dQ7OgcQvDXj4"
      },
      "source": [
        "### 2.2. Tratamento dos Valores Missing em Cada DataFrame"
      ]
    },
    {
      "cell_type": "markdown",
      "metadata": {
        "id": "1pKKKrcaNu1i"
      },
      "source": [
        "#### Tratando Missing Values das Variáveis Numéricas"
      ]
    },
    {
      "cell_type": "markdown",
      "metadata": {
        "id": "CkIzz-2pOpdH"
      },
      "source": [
        "#### Pressuposições\n",
        "\n",
        "Neste projeto vamos assumir que os valores missing são nulos ao acaso, isto é, seguem, o regime *missing completely at random (MCAR)*. Como existem outliers em alguns conjuntos de dados, será escolhido o método *median inputation*, que substitui os valoes ausentes pela mediana dos valores não nulos."
      ]
    },
    {
      "cell_type": "code",
      "execution_count": 45,
      "metadata": {
        "colab": {
          "base_uri": "https://localhost:8080/",
          "height": 585
        },
        "id": "wfsF67jJNtAy",
        "outputId": "37ca866e-4e95-495b-ba42-7044535fbe7a"
      },
      "outputs": [
        {
          "data": {
            "text/plain": [
              "ID_CLIENTE                         int64\n",
              "SAFRA_REF                 datetime64[ns]\n",
              "DATA_EMISSAO_DOCUMENTO    datetime64[ns]\n",
              "DATA_PAGAMENTO            datetime64[ns]\n",
              "DATA_VENCIMENTO           datetime64[ns]\n",
              "VALOR_A_PAGAR                    float64\n",
              "TAXA                             float64\n",
              "DATA_CADASTRO             datetime64[ns]\n",
              "DDD                               object\n",
              "FLAG_PF                           object\n",
              "SEGMENTO_INDUSTRIAL               object\n",
              "DOMINIO_EMAIL                     object\n",
              "PORTE                             object\n",
              "CEP_2_DIG                         object\n",
              "RENDA_MES_ANTERIOR               float64\n",
              "NO_FUNCIONARIOS                  float64\n",
              "dtype: object"
            ]
          },
          "execution_count": 45,
          "metadata": {},
          "output_type": "execute_result"
        }
      ],
      "source": [
        "#checando os tipos de dados em df_treino\n",
        "df_treino.dtypes"
      ]
    },
    {
      "cell_type": "code",
      "execution_count": 46,
      "metadata": {
        "colab": {
          "base_uri": "https://localhost:8080/",
          "height": 397
        },
        "id": "UlKz0ARTHuTp",
        "outputId": "655cbc35-000b-4e64-845f-55db338a5ad5"
      },
      "outputs": [
        {
          "data": {
            "text/plain": [
              "ID_CLIENTE                   0\n",
              "SAFRA_REF                    0\n",
              "DATA_EMISSAO_DOCUMENTO       0\n",
              "DATA_PAGAMENTO               0\n",
              "DATA_VENCIMENTO              0\n",
              "VALOR_A_PAGAR             1110\n",
              "TAXA                         0\n",
              "DATA_CADASTRO                0\n",
              "RENDA_MES_ANTERIOR        2195\n",
              "NO_FUNCIONARIOS           3650\n",
              "dtype: int64"
            ]
          },
          "execution_count": 46,
          "metadata": {},
          "output_type": "execute_result"
        }
      ],
      "source": [
        "#verificando a quantidade de missing values nas variáveis numéricas em df_treino\n",
        "numerica  = [var for var in df_treino.columns if df_treino[var].dtypes != 'O']\n",
        "numeros = df_treino[numerica].isnull().sum()\n",
        "numeros"
      ]
    },
    {
      "cell_type": "code",
      "execution_count": 47,
      "metadata": {
        "colab": {
          "base_uri": "https://localhost:8080/",
          "height": 89
        },
        "id": "2ktkpYQZwZcL",
        "outputId": "00b3ec54-af60-4a12-ecce-302bd57a954b"
      },
      "outputs": [
        {
          "data": {
            "text/html": [
              "<div>\n",
              "<style scoped>\n",
              "    .dataframe tbody tr th:only-of-type {\n",
              "        vertical-align: middle;\n",
              "    }\n",
              "\n",
              "    .dataframe tbody tr th {\n",
              "        vertical-align: top;\n",
              "    }\n",
              "\n",
              "    .dataframe thead th {\n",
              "        text-align: right;\n",
              "    }\n",
              "</style>\n",
              "<table border=\"1\" class=\"dataframe\">\n",
              "  <thead>\n",
              "    <tr style=\"text-align: right;\">\n",
              "      <th></th>\n",
              "      <th>VALOR_A_PAGAR</th>\n",
              "      <th>RENDA_MES_ANTERIOR</th>\n",
              "      <th>NO_FUNCIONARIOS</th>\n",
              "    </tr>\n",
              "  </thead>\n",
              "  <tbody>\n",
              "    <tr>\n",
              "      <th>0</th>\n",
              "      <td>1110</td>\n",
              "      <td>2195</td>\n",
              "      <td>3650</td>\n",
              "    </tr>\n",
              "  </tbody>\n",
              "</table>\n",
              "</div>"
            ],
            "text/plain": [
              "   VALOR_A_PAGAR  RENDA_MES_ANTERIOR  NO_FUNCIONARIOS\n",
              "0           1110                2195             3650"
            ]
          },
          "execution_count": 47,
          "metadata": {},
          "output_type": "execute_result"
        }
      ],
      "source": [
        "#seleciona apenas as variaveis com missing values\n",
        "numerica_vazios = pd.DataFrame(index=range(0,1))\n",
        "numerica_vazios['VALOR_A_PAGAR'] = numeros['VALOR_A_PAGAR']\n",
        "numerica_vazios['RENDA_MES_ANTERIOR'] = numeros['RENDA_MES_ANTERIOR']\n",
        "numerica_vazios['NO_FUNCIONARIOS'] = numeros['NO_FUNCIONARIOS']\n",
        "numerica_vazios"
      ]
    },
    {
      "cell_type": "code",
      "execution_count": 48,
      "metadata": {
        "colab": {
          "base_uri": "https://localhost:8080/"
        },
        "id": "GoWKiTIxuzrh",
        "outputId": "3551b374-4b2c-406c-ffde-c86c3a0aeea5"
      },
      "outputs": [
        {
          "name": "stderr",
          "output_type": "stream",
          "text": [
            "C:\\Users\\D0ugl\\AppData\\Local\\Temp\\ipykernel_1728\\1623909421.py:5: FutureWarning: A value is trying to be set on a copy of a DataFrame or Series through chained assignment using an inplace method.\n",
            "The behavior will change in pandas 3.0. This inplace method will never work because the intermediate object on which we are setting values always behaves as a copy.\n",
            "\n",
            "For example, when doing 'df[col].method(value, inplace=True)', try using 'df.method({col: value}, inplace=True)' or df[col] = df[col].method(value) instead, to perform the operation inplace on the original object.\n",
            "\n",
            "\n",
            "  var[col].fillna(col_mediana, inplace = True)\n",
            "C:\\Users\\D0ugl\\AppData\\Local\\Temp\\ipykernel_1728\\1623909421.py:5: FutureWarning: A value is trying to be set on a copy of a DataFrame or Series through chained assignment using an inplace method.\n",
            "The behavior will change in pandas 3.0. This inplace method will never work because the intermediate object on which we are setting values always behaves as a copy.\n",
            "\n",
            "For example, when doing 'df[col].method(value, inplace=True)', try using 'df.method({col: value}, inplace=True)' or df[col] = df[col].method(value) instead, to perform the operation inplace on the original object.\n",
            "\n",
            "\n",
            "  var[col].fillna(col_mediana, inplace = True)\n",
            "C:\\Users\\D0ugl\\AppData\\Local\\Temp\\ipykernel_1728\\1623909421.py:5: FutureWarning: A value is trying to be set on a copy of a DataFrame or Series through chained assignment using an inplace method.\n",
            "The behavior will change in pandas 3.0. This inplace method will never work because the intermediate object on which we are setting values always behaves as a copy.\n",
            "\n",
            "For example, when doing 'df[col].method(value, inplace=True)', try using 'df.method({col: value}, inplace=True)' or df[col] = df[col].method(value) instead, to perform the operation inplace on the original object.\n",
            "\n",
            "\n",
            "  var[col].fillna(col_mediana, inplace = True)\n",
            "C:\\Users\\D0ugl\\AppData\\Local\\Temp\\ipykernel_1728\\1623909421.py:5: FutureWarning: A value is trying to be set on a copy of a DataFrame or Series through chained assignment using an inplace method.\n",
            "The behavior will change in pandas 3.0. This inplace method will never work because the intermediate object on which we are setting values always behaves as a copy.\n",
            "\n",
            "For example, when doing 'df[col].method(value, inplace=True)', try using 'df.method({col: value}, inplace=True)' or df[col] = df[col].method(value) instead, to perform the operation inplace on the original object.\n",
            "\n",
            "\n",
            "  var[col].fillna(col_mediana, inplace = True)\n",
            "C:\\Users\\D0ugl\\AppData\\Local\\Temp\\ipykernel_1728\\1623909421.py:5: FutureWarning: A value is trying to be set on a copy of a DataFrame or Series through chained assignment using an inplace method.\n",
            "The behavior will change in pandas 3.0. This inplace method will never work because the intermediate object on which we are setting values always behaves as a copy.\n",
            "\n",
            "For example, when doing 'df[col].method(value, inplace=True)', try using 'df.method({col: value}, inplace=True)' or df[col] = df[col].method(value) instead, to perform the operation inplace on the original object.\n",
            "\n",
            "\n",
            "  var[col].fillna(col_mediana, inplace = True)\n",
            "C:\\Users\\D0ugl\\AppData\\Local\\Temp\\ipykernel_1728\\1623909421.py:5: FutureWarning: A value is trying to be set on a copy of a DataFrame or Series through chained assignment using an inplace method.\n",
            "The behavior will change in pandas 3.0. This inplace method will never work because the intermediate object on which we are setting values always behaves as a copy.\n",
            "\n",
            "For example, when doing 'df[col].method(value, inplace=True)', try using 'df.method({col: value}, inplace=True)' or df[col] = df[col].method(value) instead, to perform the operation inplace on the original object.\n",
            "\n",
            "\n",
            "  var[col].fillna(col_mediana, inplace = True)\n"
          ]
        }
      ],
      "source": [
        "#imputa valores aos missing values de df_treino e df_validacao com base na mediana das colunas correspondentes em df_treino\n",
        "for var in [df_treino, df_validacao]:\n",
        "  for col in numerica_vazios:\n",
        "    col_mediana = df_treino[col].median()\n",
        "    var[col].fillna(col_mediana, inplace = True)"
      ]
    },
    {
      "cell_type": "code",
      "execution_count": 49,
      "metadata": {
        "colab": {
          "base_uri": "https://localhost:8080/",
          "height": 397
        },
        "id": "tWIu4mK4vh13",
        "outputId": "e27aa2a8-41b2-4cfb-c70d-d48b5ac75327"
      },
      "outputs": [
        {
          "data": {
            "text/plain": [
              "ID_CLIENTE                0\n",
              "SAFRA_REF                 0\n",
              "DATA_EMISSAO_DOCUMENTO    0\n",
              "DATA_PAGAMENTO            0\n",
              "DATA_VENCIMENTO           0\n",
              "VALOR_A_PAGAR             0\n",
              "TAXA                      0\n",
              "DATA_CADASTRO             0\n",
              "RENDA_MES_ANTERIOR        0\n",
              "NO_FUNCIONARIOS           0\n",
              "dtype: int64"
            ]
          },
          "execution_count": 49,
          "metadata": {},
          "output_type": "execute_result"
        }
      ],
      "source": [
        "#verificando novamente a quantidade de missing values nas variáveis numéricas em df_treino\n",
        "numerica  = [var for var in df_treino.columns if df_treino[var].dtypes != 'O']\n",
        "df_treino[numerica].isnull().sum()"
      ]
    },
    {
      "cell_type": "code",
      "execution_count": 50,
      "metadata": {
        "colab": {
          "base_uri": "https://localhost:8080/",
          "height": 366
        },
        "id": "EMsekvnguTSh",
        "outputId": "6549e7b2-84c4-4141-9601-5388118072f5"
      },
      "outputs": [
        {
          "data": {
            "text/plain": [
              "ID_CLIENTE                0\n",
              "SAFRA_REF                 0\n",
              "DATA_EMISSAO_DOCUMENTO    0\n",
              "DATA_VENCIMENTO           0\n",
              "VALOR_A_PAGAR             0\n",
              "TAXA                      0\n",
              "DATA_CADASTRO             0\n",
              "RENDA_MES_ANTERIOR        0\n",
              "NO_FUNCIONARIOS           0\n",
              "dtype: int64"
            ]
          },
          "execution_count": 50,
          "metadata": {},
          "output_type": "execute_result"
        }
      ],
      "source": [
        "#verificando a quantidade de missing values nas variáveis numéricas em df_teste\n",
        "numerica  = [var for var in df_validacao.columns if df_validacao[var].dtypes != 'O']\n",
        "df_validacao[numerica].isnull().sum()"
      ]
    },
    {
      "cell_type": "markdown",
      "metadata": {
        "id": "pJPxBpAf0LUt"
      },
      "source": [
        "#### Tratando Missing Values das Variáveis Categóricas"
      ]
    },
    {
      "cell_type": "code",
      "execution_count": 51,
      "metadata": {
        "colab": {
          "base_uri": "https://localhost:8080/",
          "height": 272
        },
        "id": "xti_uLRQ0WO_",
        "outputId": "44a15e9c-e417-4f1c-d19f-12c0e8178ccf"
      },
      "outputs": [
        {
          "data": {
            "text/plain": [
              "DDD                    0.093948\n",
              "FLAG_PF                0.997877\n",
              "SEGMENTO_INDUSTRIAL    0.017611\n",
              "DOMINIO_EMAIL          0.011174\n",
              "PORTE                  0.032187\n",
              "CEP_2_DIG              0.000000\n",
              "dtype: float64"
            ]
          },
          "execution_count": 51,
          "metadata": {},
          "output_type": "execute_result"
        }
      ],
      "source": [
        "#mostra a porcentagem de missing values de cada variável categórica e\n",
        "categorica = [var for var in df_treino.columns if df_treino[var].dtypes == 'O']\n",
        "\n",
        "categorica\n",
        "df_treino[categorica].isnull().mean()"
      ]
    },
    {
      "cell_type": "code",
      "execution_count": 52,
      "metadata": {
        "colab": {
          "base_uri": "https://localhost:8080/"
        },
        "id": "phI-HLJT2cg1",
        "outputId": "8cca2696-540e-4741-c6fc-1f6fad780d23"
      },
      "outputs": [
        {
          "name": "stdout",
          "output_type": "stream",
          "text": [
            "DDD 0.0939477659675817\n",
            "FLAG_PF 0.9978768866448005\n",
            "SEGMENTO_INDUSTRIAL 0.01761095308736067\n",
            "DOMINIO_EMAIL 0.011173564516787566\n",
            "PORTE 0.032186942852865524\n"
          ]
        }
      ],
      "source": [
        "#retorna variaveis categóricas com missing values\n",
        "for col in categorica:\n",
        "  if df_treino[col].isnull().mean() > 0:\n",
        "    print(col, (df_treino[col].isnull().mean()))"
      ]
    },
    {
      "cell_type": "code",
      "execution_count": 53,
      "metadata": {
        "colab": {
          "base_uri": "https://localhost:8080/"
        },
        "collapsed": true,
        "id": "1LAc1V9D0Wcm",
        "outputId": "6c4c21cb-19c2-4f0a-acc3-4fa511e65859"
      },
      "outputs": [
        {
          "name": "stderr",
          "output_type": "stream",
          "text": [
            "C:\\Users\\D0ugl\\AppData\\Local\\Temp\\ipykernel_1728\\3395814357.py:3: FutureWarning: A value is trying to be set on a copy of a DataFrame or Series through chained assignment using an inplace method.\n",
            "The behavior will change in pandas 3.0. This inplace method will never work because the intermediate object on which we are setting values always behaves as a copy.\n",
            "\n",
            "For example, when doing 'df[col].method(value, inplace=True)', try using 'df.method({col: value}, inplace=True)' or df[col] = df[col].method(value) instead, to perform the operation inplace on the original object.\n",
            "\n",
            "\n",
            "  var2['DDD'].fillna(df_treino['DDD'].mode()[0], inplace = True)\n",
            "C:\\Users\\D0ugl\\AppData\\Local\\Temp\\ipykernel_1728\\3395814357.py:4: FutureWarning: A value is trying to be set on a copy of a DataFrame or Series through chained assignment using an inplace method.\n",
            "The behavior will change in pandas 3.0. This inplace method will never work because the intermediate object on which we are setting values always behaves as a copy.\n",
            "\n",
            "For example, when doing 'df[col].method(value, inplace=True)', try using 'df.method({col: value}, inplace=True)' or df[col] = df[col].method(value) instead, to perform the operation inplace on the original object.\n",
            "\n",
            "\n",
            "  var2['FLAG_PF'].fillna(df_treino['FLAG_PF'].mode()[0], inplace = True)\n",
            "C:\\Users\\D0ugl\\AppData\\Local\\Temp\\ipykernel_1728\\3395814357.py:5: FutureWarning: A value is trying to be set on a copy of a DataFrame or Series through chained assignment using an inplace method.\n",
            "The behavior will change in pandas 3.0. This inplace method will never work because the intermediate object on which we are setting values always behaves as a copy.\n",
            "\n",
            "For example, when doing 'df[col].method(value, inplace=True)', try using 'df.method({col: value}, inplace=True)' or df[col] = df[col].method(value) instead, to perform the operation inplace on the original object.\n",
            "\n",
            "\n",
            "  var2['SEGMENTO_INDUSTRIAL'].fillna(df_treino['SEGMENTO_INDUSTRIAL'].mode()[0], inplace = True)\n",
            "C:\\Users\\D0ugl\\AppData\\Local\\Temp\\ipykernel_1728\\3395814357.py:6: FutureWarning: A value is trying to be set on a copy of a DataFrame or Series through chained assignment using an inplace method.\n",
            "The behavior will change in pandas 3.0. This inplace method will never work because the intermediate object on which we are setting values always behaves as a copy.\n",
            "\n",
            "For example, when doing 'df[col].method(value, inplace=True)', try using 'df.method({col: value}, inplace=True)' or df[col] = df[col].method(value) instead, to perform the operation inplace on the original object.\n",
            "\n",
            "\n",
            "  var2['DOMINIO_EMAIL'].fillna(df_treino['DOMINIO_EMAIL'].mode()[0], inplace = True)\n",
            "C:\\Users\\D0ugl\\AppData\\Local\\Temp\\ipykernel_1728\\3395814357.py:7: FutureWarning: A value is trying to be set on a copy of a DataFrame or Series through chained assignment using an inplace method.\n",
            "The behavior will change in pandas 3.0. This inplace method will never work because the intermediate object on which we are setting values always behaves as a copy.\n",
            "\n",
            "For example, when doing 'df[col].method(value, inplace=True)', try using 'df.method({col: value}, inplace=True)' or df[col] = df[col].method(value) instead, to perform the operation inplace on the original object.\n",
            "\n",
            "\n",
            "  var2['PORTE'].fillna(df_treino['PORTE'].mode()[0], inplace = True)\n"
          ]
        }
      ],
      "source": [
        "#imputa valores aos missing values das variaveis categóricas, com base nos valores mais frequentes nas respectivas colunas em df_teste\n",
        "for var2 in [df_treino, df_validacao]:\n",
        "  var2['DDD'].fillna(df_treino['DDD'].mode()[0], inplace = True)\n",
        "  var2['FLAG_PF'].fillna(df_treino['FLAG_PF'].mode()[0], inplace = True)\n",
        "  var2['SEGMENTO_INDUSTRIAL'].fillna(df_treino['SEGMENTO_INDUSTRIAL'].mode()[0], inplace = True)\n",
        "  var2['DOMINIO_EMAIL'].fillna(df_treino['DOMINIO_EMAIL'].mode()[0], inplace = True)\n",
        "  var2['PORTE'].fillna(df_treino['PORTE'].mode()[0], inplace = True)"
      ]
    },
    {
      "cell_type": "code",
      "execution_count": 54,
      "metadata": {
        "colab": {
          "base_uri": "https://localhost:8080/",
          "height": 272
        },
        "id": "8kP7RaFv4a_F",
        "outputId": "ea5d38a0-753a-401a-c08d-62f9a8fc54a8"
      },
      "outputs": [
        {
          "data": {
            "text/plain": [
              "DDD                    0\n",
              "FLAG_PF                0\n",
              "SEGMENTO_INDUSTRIAL    0\n",
              "DOMINIO_EMAIL          0\n",
              "PORTE                  0\n",
              "CEP_2_DIG              0\n",
              "dtype: int64"
            ]
          },
          "execution_count": 54,
          "metadata": {},
          "output_type": "execute_result"
        }
      ],
      "source": [
        "#verifica se os valores missing das variáveis categóricas foram tartados em df_treino\n",
        "df_treino[categorica].isnull().sum()"
      ]
    },
    {
      "cell_type": "code",
      "execution_count": 55,
      "metadata": {
        "colab": {
          "base_uri": "https://localhost:8080/",
          "height": 272
        },
        "id": "nlq58Y_R4bCH",
        "outputId": "97516740-d3e3-4b70-8772-891fc3dfcc75"
      },
      "outputs": [
        {
          "data": {
            "text/plain": [
              "DDD                    0\n",
              "FLAG_PF                0\n",
              "SEGMENTO_INDUSTRIAL    0\n",
              "DOMINIO_EMAIL          0\n",
              "PORTE                  0\n",
              "CEP_2_DIG              0\n",
              "dtype: int64"
            ]
          },
          "execution_count": 55,
          "metadata": {},
          "output_type": "execute_result"
        }
      ],
      "source": [
        "#verifica se os valores missing das variáveis categóricas foram tartados em df_teste\n",
        "df_validacao[categorica].isnull().sum()"
      ]
    },
    {
      "cell_type": "code",
      "execution_count": 56,
      "metadata": {
        "colab": {
          "base_uri": "https://localhost:8080/",
          "height": 585
        },
        "id": "CYxN8Cji4687",
        "outputId": "76aeb693-22ce-44ec-9e44-79357dfad00e"
      },
      "outputs": [
        {
          "data": {
            "text/plain": [
              "ID_CLIENTE                0\n",
              "SAFRA_REF                 0\n",
              "DATA_EMISSAO_DOCUMENTO    0\n",
              "DATA_PAGAMENTO            0\n",
              "DATA_VENCIMENTO           0\n",
              "VALOR_A_PAGAR             0\n",
              "TAXA                      0\n",
              "DATA_CADASTRO             0\n",
              "DDD                       0\n",
              "FLAG_PF                   0\n",
              "SEGMENTO_INDUSTRIAL       0\n",
              "DOMINIO_EMAIL             0\n",
              "PORTE                     0\n",
              "CEP_2_DIG                 0\n",
              "RENDA_MES_ANTERIOR        0\n",
              "NO_FUNCIONARIOS           0\n",
              "dtype: int64"
            ]
          },
          "execution_count": 56,
          "metadata": {},
          "output_type": "execute_result"
        }
      ],
      "source": [
        "#verifica se todos os valores missing foram tartados em df_treino\n",
        "df_treino.isnull().sum()"
      ]
    },
    {
      "cell_type": "code",
      "execution_count": 57,
      "metadata": {
        "colab": {
          "base_uri": "https://localhost:8080/",
          "height": 554
        },
        "id": "yw2-LGTP47Ey",
        "outputId": "b79f0e8b-8d35-4b22-e56c-757e6cab96f5"
      },
      "outputs": [
        {
          "data": {
            "text/plain": [
              "ID_CLIENTE                0\n",
              "SAFRA_REF                 0\n",
              "DATA_EMISSAO_DOCUMENTO    0\n",
              "DATA_VENCIMENTO           0\n",
              "VALOR_A_PAGAR             0\n",
              "TAXA                      0\n",
              "DATA_CADASTRO             0\n",
              "DDD                       0\n",
              "FLAG_PF                   0\n",
              "SEGMENTO_INDUSTRIAL       0\n",
              "DOMINIO_EMAIL             0\n",
              "PORTE                     0\n",
              "CEP_2_DIG                 0\n",
              "RENDA_MES_ANTERIOR        0\n",
              "NO_FUNCIONARIOS           0\n",
              "dtype: int64"
            ]
          },
          "execution_count": 57,
          "metadata": {},
          "output_type": "execute_result"
        }
      ],
      "source": [
        "#verifica se todos os valores missing foram tartados em df_teste\n",
        "df_validacao.isnull().sum()"
      ]
    },
    {
      "cell_type": "markdown",
      "metadata": {
        "id": "FH5-0gEpcm1U"
      },
      "source": [
        "### 2.3. Tratamento de Outliers em Cada DataFrame"
      ]
    },
    {
      "cell_type": "markdown",
      "metadata": {
        "id": "ZppYyU8cfZdP"
      },
      "source": [
        "Como visto na seção de análise de dados, a única variavel numérica com outliers é a `DATA_CADASTRO`."
      ]
    },
    {
      "cell_type": "code",
      "execution_count": 58,
      "metadata": {
        "colab": {
          "base_uri": "https://localhost:8080/",
          "height": 423
        },
        "id": "dbtBgZSC5icw",
        "outputId": "e2c52878-b6c6-4f9a-ffd4-042dcc3727da"
      },
      "outputs": [
        {
          "data": {
            "text/html": [
              "<div>\n",
              "<style scoped>\n",
              "    .dataframe tbody tr th:only-of-type {\n",
              "        vertical-align: middle;\n",
              "    }\n",
              "\n",
              "    .dataframe tbody tr th {\n",
              "        vertical-align: top;\n",
              "    }\n",
              "\n",
              "    .dataframe thead th {\n",
              "        text-align: right;\n",
              "    }\n",
              "</style>\n",
              "<table border=\"1\" class=\"dataframe\">\n",
              "  <thead>\n",
              "    <tr style=\"text-align: right;\">\n",
              "      <th></th>\n",
              "      <th>DATA_CADASTRO</th>\n",
              "      <th>FREQUENCIAS</th>\n",
              "    </tr>\n",
              "  </thead>\n",
              "  <tbody>\n",
              "    <tr>\n",
              "      <th>0</th>\n",
              "      <td>2000-08-15</td>\n",
              "      <td>17455</td>\n",
              "    </tr>\n",
              "    <tr>\n",
              "      <th>1</th>\n",
              "      <td>2011-02-14</td>\n",
              "      <td>14242</td>\n",
              "    </tr>\n",
              "    <tr>\n",
              "      <th>2</th>\n",
              "      <td>2011-02-15</td>\n",
              "      <td>1616</td>\n",
              "    </tr>\n",
              "    <tr>\n",
              "      <th>3</th>\n",
              "      <td>2012-03-11</td>\n",
              "      <td>1236</td>\n",
              "    </tr>\n",
              "    <tr>\n",
              "      <th>4</th>\n",
              "      <td>2014-02-02</td>\n",
              "      <td>1205</td>\n",
              "    </tr>\n",
              "    <tr>\n",
              "      <th>...</th>\n",
              "      <td>...</td>\n",
              "      <td>...</td>\n",
              "    </tr>\n",
              "    <tr>\n",
              "      <th>684</th>\n",
              "      <td>2009-12-28</td>\n",
              "      <td>1</td>\n",
              "    </tr>\n",
              "    <tr>\n",
              "      <th>685</th>\n",
              "      <td>2021-01-19</td>\n",
              "      <td>1</td>\n",
              "    </tr>\n",
              "    <tr>\n",
              "      <th>686</th>\n",
              "      <td>2019-12-02</td>\n",
              "      <td>1</td>\n",
              "    </tr>\n",
              "    <tr>\n",
              "      <th>687</th>\n",
              "      <td>2019-12-30</td>\n",
              "      <td>1</td>\n",
              "    </tr>\n",
              "    <tr>\n",
              "      <th>688</th>\n",
              "      <td>2021-05-06</td>\n",
              "      <td>1</td>\n",
              "    </tr>\n",
              "  </tbody>\n",
              "</table>\n",
              "<p>689 rows × 2 columns</p>\n",
              "</div>"
            ],
            "text/plain": [
              "    DATA_CADASTRO  FREQUENCIAS\n",
              "0      2000-08-15        17455\n",
              "1      2011-02-14        14242\n",
              "2      2011-02-15         1616\n",
              "3      2012-03-11         1236\n",
              "4      2014-02-02         1205\n",
              "..            ...          ...\n",
              "684    2009-12-28            1\n",
              "685    2021-01-19            1\n",
              "686    2019-12-02            1\n",
              "687    2019-12-30            1\n",
              "688    2021-05-06            1\n",
              "\n",
              "[689 rows x 2 columns]"
            ]
          },
          "execution_count": 58,
          "metadata": {},
          "output_type": "execute_result"
        }
      ],
      "source": [
        "#define uma tabela com a frequãncia em que cada data aparece\n",
        "frequencia_datas_2 = df_treino['DATA_CADASTRO'].value_counts().reset_index()\n",
        "frequencia_datas_2.columns = ['DATA_CADASTRO', 'FREQUENCIAS']\n",
        "frequencia_datas_2"
      ]
    },
    {
      "cell_type": "code",
      "execution_count": 59,
      "metadata": {
        "colab": {
          "base_uri": "https://localhost:8080/"
        },
        "id": "7f4cxTF3tr_7",
        "outputId": "67f891c8-6522-40cd-ac0e-c5f21b6833a8"
      },
      "outputs": [
        {
          "name": "stdout",
          "output_type": "stream",
          "text": [
            "Os outliers são as datas com frequência MENOR que -212.0 e MAIOR que 292.0\n"
          ]
        }
      ],
      "source": [
        "#utiliza o método estatístico dos quartis para definir quais datas possuem frequências consideradas outliers\n",
        "IQR = frequencia_datas_2.FREQUENCIAS.quantile(0.75) - frequencia_datas_2.FREQUENCIAS.quantile(0.25)\n",
        "lim_inferior = frequencia_datas_2.FREQUENCIAS.quantile(0.25) - (IQR * 3)\n",
        "lim_superior = frequencia_datas_2.FREQUENCIAS.quantile(0.75) + (IQR * 3)\n",
        "print('Os outliers são as datas com frequência MENOR que {liminferior} e MAIOR que {limsuperior}'\n",
        ".format(liminferior=lim_inferior, limsuperior=lim_superior))"
      ]
    },
    {
      "cell_type": "code",
      "execution_count": 60,
      "metadata": {
        "colab": {
          "base_uri": "https://localhost:8080/"
        },
        "id": "W_KahWR-o54i",
        "outputId": "cab5b211-0055-40ef-dd3a-30b351e4d405"
      },
      "outputs": [
        {
          "name": "stdout",
          "output_type": "stream",
          "text": [
            "As datas com alta frequência a serem removidas:\n"
          ]
        },
        {
          "data": {
            "text/plain": [
              "[Timestamp('2000-08-15 00:00:00'),\n",
              " Timestamp('2011-02-14 00:00:00'),\n",
              " Timestamp('2011-02-15 00:00:00'),\n",
              " Timestamp('2012-03-11 00:00:00'),\n",
              " Timestamp('2014-02-02 00:00:00'),\n",
              " Timestamp('2015-12-29 00:00:00'),\n",
              " Timestamp('2014-03-02 00:00:00'),\n",
              " Timestamp('2017-08-06 00:00:00'),\n",
              " Timestamp('2008-09-11 00:00:00'),\n",
              " Timestamp('2014-01-13 00:00:00'),\n",
              " Timestamp('2014-08-14 00:00:00'),\n",
              " Timestamp('2013-10-31 00:00:00'),\n",
              " Timestamp('2009-04-01 00:00:00'),\n",
              " Timestamp('2011-05-16 00:00:00'),\n",
              " Timestamp('2015-08-16 00:00:00'),\n",
              " Timestamp('2009-03-30 00:00:00'),\n",
              " Timestamp('2007-03-19 00:00:00'),\n",
              " Timestamp('2016-11-29 00:00:00'),\n",
              " Timestamp('2007-10-17 00:00:00'),\n",
              " Timestamp('2017-09-20 00:00:00'),\n",
              " Timestamp('2012-10-01 00:00:00')]"
            ]
          },
          "execution_count": 60,
          "metadata": {},
          "output_type": "execute_result"
        }
      ],
      "source": [
        "#cria tabela com tadas as datas consideradas com frequências outliers\n",
        "datas_alta_frequencia = frequencia_datas_2[frequencia_datas_2['FREQUENCIAS'] >= 292]['DATA_CADASTRO'].tolist()\n",
        "print('As datas com alta frequência a serem removidas:')\n",
        "datas_alta_frequencia"
      ]
    },
    {
      "cell_type": "code",
      "execution_count": 61,
      "metadata": {
        "id": "GymYdvPyqtD_"
      },
      "outputs": [],
      "source": [
        "#exclui dos conjuntos de dados todas as datas com valores considerados outliers\n",
        "df_validacao_2 = df_validacao[~df_validacao['DATA_CADASTRO'].isin(datas_alta_frequencia)]\n",
        "df_treino_2 = df_treino[~df_treino['DATA_CADASTRO'].isin(datas_alta_frequencia)]"
      ]
    },
    {
      "cell_type": "markdown",
      "metadata": {
        "id": "aA66suhCI4Lt"
      },
      "source": [
        "Vamnos comparar as frequancias antes e depois da realização do tratramento."
      ]
    },
    {
      "cell_type": "code",
      "execution_count": 62,
      "metadata": {
        "colab": {
          "base_uri": "https://localhost:8080/"
        },
        "id": "0sF_0T7v6RBc",
        "outputId": "2bb153c7-6ec5-43c2-ad02-52a4555100c1"
      },
      "outputs": [
        {
          "data": {
            "text/plain": [
              "(np.int64(17455), np.int64(2480))"
            ]
          },
          "execution_count": 62,
          "metadata": {},
          "output_type": "execute_result"
        }
      ],
      "source": [
        "df_treino['DATA_CADASTRO'].value_counts().max(), df_validacao['DATA_CADASTRO'].value_counts().max()"
      ]
    },
    {
      "cell_type": "code",
      "execution_count": 63,
      "metadata": {
        "colab": {
          "base_uri": "https://localhost:8080/"
        },
        "id": "jIkBJWcQleEA",
        "outputId": "b0a9e441-ed92-47a2-c9e6-da3d68bcfdcc"
      },
      "outputs": [
        {
          "data": {
            "text/plain": [
              "(np.int64(281), np.int64(67))"
            ]
          },
          "execution_count": 63,
          "metadata": {},
          "output_type": "execute_result"
        }
      ],
      "source": [
        "df_treino_2['DATA_CADASTRO'].value_counts().max(), df_validacao_2['DATA_CADASTRO'].value_counts().max()"
      ]
    },
    {
      "cell_type": "markdown",
      "metadata": {
        "id": "wyRQy5L0UmZh"
      },
      "source": [
        "### 2.4. Codificando Variavel Target (alvo)"
      ]
    },
    {
      "cell_type": "markdown",
      "metadata": {
        "id": "-r3PR2oUDcCG"
      },
      "source": [
        "Será criado uma coluna no conjunto de dados de treino com o nome de `INADIMPLENTES`, contendo `0` para os pagementos realiados com uma diferença **menor** que 5 dias entre a `DATA_PAGAMENTO` e a `DATA_VENCIMENTO`, e `1` para pagementos com uma diferença **maior ou igual** a 5 dias."
      ]
    },
    {
      "cell_type": "code",
      "execution_count": null,
      "metadata": {
        "colab": {
          "base_uri": "https://localhost:8080/"
        },
        "id": "Ei2fEPKqFGzc",
        "outputId": "a70a88a5-8e52-4f1a-bfe1-fd5828e463eb"
      },
      "outputs": [
        {
          "name": "stderr",
          "output_type": "stream",
          "text": [
            "C:\\Users\\D0ugl\\AppData\\Local\\Temp\\ipykernel_1728\\693875081.py:2: SettingWithCopyWarning: \n",
            "A value is trying to be set on a copy of a slice from a DataFrame.\n",
            "Try using .loc[row_indexer,col_indexer] = value instead\n",
            "\n",
            "See the caveats in the documentation: https://pandas.pydata.org/pandas-docs/stable/user_guide/indexing.html#returning-a-view-versus-a-copy\n",
            "  df_treino_2['INADIMPLENTES'] = np.where(((df_treino_2['DATA_PAGAMENTO'] - df_treino_2['DATA_VENCIMENTO']).dt.days) < 5, 0, 1)\n",
            "C:\\Users\\D0ugl\\AppData\\Local\\Temp\\ipykernel_1728\\693875081.py:3: FutureWarning: Setting an item of incompatible dtype is deprecated and will raise in a future error of pandas. Value '[0 0 0 ... 0 0 0]' has dtype incompatible with int64, please explicitly cast to a compatible dtype first.\n",
            "  df_treino_2.loc[:, 'INADIMPLENTES'] = df_treino_2.loc[:, 'INADIMPLENTES'].astype('object')\n"
          ]
        }
      ],
      "source": [
        "#Definir quais pagamentos possuem uma diferença entre DATA_PAGAMENTO e DATA_VENCIMENTO maior que 5 dias\n",
        "df_treino_2['INADIMPLENTES'] = np.where(((df_treino_2['DATA_PAGAMENTO'] - df_treino_2['DATA_VENCIMENTO']).dt.days) < 5, 0, 1)\n",
        "df_treino_2.loc[:, 'INADIMPLENTES'] = df_treino_2.loc[:, 'INADIMPLENTES'].astype('object')"
      ]
    },
    {
      "cell_type": "code",
      "execution_count": 65,
      "metadata": {
        "colab": {
          "base_uri": "https://localhost:8080/",
          "height": 313
        },
        "id": "JQLCTXRsL6PU",
        "outputId": "9bfce392-6fd7-4517-913d-885ced082fae"
      },
      "outputs": [
        {
          "data": {
            "text/html": [
              "<div>\n",
              "<style scoped>\n",
              "    .dataframe tbody tr th:only-of-type {\n",
              "        vertical-align: middle;\n",
              "    }\n",
              "\n",
              "    .dataframe tbody tr th {\n",
              "        vertical-align: top;\n",
              "    }\n",
              "\n",
              "    .dataframe thead th {\n",
              "        text-align: right;\n",
              "    }\n",
              "</style>\n",
              "<table border=\"1\" class=\"dataframe\">\n",
              "  <thead>\n",
              "    <tr style=\"text-align: right;\">\n",
              "      <th></th>\n",
              "      <th>ID_CLIENTE</th>\n",
              "      <th>SAFRA_REF</th>\n",
              "      <th>DATA_EMISSAO_DOCUMENTO</th>\n",
              "      <th>DATA_PAGAMENTO</th>\n",
              "      <th>DATA_VENCIMENTO</th>\n",
              "      <th>VALOR_A_PAGAR</th>\n",
              "      <th>TAXA</th>\n",
              "      <th>DATA_CADASTRO</th>\n",
              "      <th>DDD</th>\n",
              "      <th>FLAG_PF</th>\n",
              "      <th>SEGMENTO_INDUSTRIAL</th>\n",
              "      <th>DOMINIO_EMAIL</th>\n",
              "      <th>PORTE</th>\n",
              "      <th>CEP_2_DIG</th>\n",
              "      <th>RENDA_MES_ANTERIOR</th>\n",
              "      <th>NO_FUNCIONARIOS</th>\n",
              "      <th>INADIMPLENTES</th>\n",
              "    </tr>\n",
              "  </thead>\n",
              "  <tbody>\n",
              "    <tr>\n",
              "      <th>27</th>\n",
              "      <td>2250817603281429928</td>\n",
              "      <td>2018-09-01</td>\n",
              "      <td>2018-09-06</td>\n",
              "      <td>2018-09-24</td>\n",
              "      <td>2018-09-24</td>\n",
              "      <td>97329.20</td>\n",
              "      <td>5.99</td>\n",
              "      <td>2001-05-31</td>\n",
              "      <td>51</td>\n",
              "      <td>X</td>\n",
              "      <td>Comércio</td>\n",
              "      <td>YAHOO</td>\n",
              "      <td>GRANDE</td>\n",
              "      <td>92</td>\n",
              "      <td>278795.0</td>\n",
              "      <td>99.0</td>\n",
              "      <td>0</td>\n",
              "    </tr>\n",
              "    <tr>\n",
              "      <th>28</th>\n",
              "      <td>2250817603281429928</td>\n",
              "      <td>2018-09-01</td>\n",
              "      <td>2018-09-14</td>\n",
              "      <td>2018-10-01</td>\n",
              "      <td>2018-10-01</td>\n",
              "      <td>81472.00</td>\n",
              "      <td>5.99</td>\n",
              "      <td>2001-05-31</td>\n",
              "      <td>51</td>\n",
              "      <td>X</td>\n",
              "      <td>Comércio</td>\n",
              "      <td>YAHOO</td>\n",
              "      <td>GRANDE</td>\n",
              "      <td>92</td>\n",
              "      <td>278795.0</td>\n",
              "      <td>99.0</td>\n",
              "      <td>0</td>\n",
              "    </tr>\n",
              "    <tr>\n",
              "      <th>29</th>\n",
              "      <td>5301988619224057921</td>\n",
              "      <td>2018-09-01</td>\n",
              "      <td>2018-09-10</td>\n",
              "      <td>2018-09-26</td>\n",
              "      <td>2018-09-26</td>\n",
              "      <td>56152.28</td>\n",
              "      <td>6.99</td>\n",
              "      <td>2016-02-24</td>\n",
              "      <td>67</td>\n",
              "      <td>X</td>\n",
              "      <td>Indústria</td>\n",
              "      <td>GMAIL</td>\n",
              "      <td>MEDIO</td>\n",
              "      <td>79</td>\n",
              "      <td>209440.0</td>\n",
              "      <td>107.0</td>\n",
              "      <td>0</td>\n",
              "    </tr>\n",
              "    <tr>\n",
              "      <th>34</th>\n",
              "      <td>2092588065958607289</td>\n",
              "      <td>2018-09-01</td>\n",
              "      <td>2018-09-11</td>\n",
              "      <td>2018-09-28</td>\n",
              "      <td>2018-09-28</td>\n",
              "      <td>17639.60</td>\n",
              "      <td>5.99</td>\n",
              "      <td>2006-07-18</td>\n",
              "      <td>62</td>\n",
              "      <td>X</td>\n",
              "      <td>Comércio</td>\n",
              "      <td>YAHOO</td>\n",
              "      <td>GRANDE</td>\n",
              "      <td>76</td>\n",
              "      <td>281719.0</td>\n",
              "      <td>128.0</td>\n",
              "      <td>0</td>\n",
              "    </tr>\n",
              "    <tr>\n",
              "      <th>35</th>\n",
              "      <td>2092588065958607289</td>\n",
              "      <td>2018-09-01</td>\n",
              "      <td>2018-09-14</td>\n",
              "      <td>2018-10-01</td>\n",
              "      <td>2018-10-01</td>\n",
              "      <td>22176.20</td>\n",
              "      <td>5.99</td>\n",
              "      <td>2006-07-18</td>\n",
              "      <td>62</td>\n",
              "      <td>X</td>\n",
              "      <td>Comércio</td>\n",
              "      <td>YAHOO</td>\n",
              "      <td>GRANDE</td>\n",
              "      <td>76</td>\n",
              "      <td>281719.0</td>\n",
              "      <td>128.0</td>\n",
              "      <td>0</td>\n",
              "    </tr>\n",
              "  </tbody>\n",
              "</table>\n",
              "</div>"
            ],
            "text/plain": [
              "             ID_CLIENTE  SAFRA_REF DATA_EMISSAO_DOCUMENTO DATA_PAGAMENTO  \\\n",
              "27  2250817603281429928 2018-09-01             2018-09-06     2018-09-24   \n",
              "28  2250817603281429928 2018-09-01             2018-09-14     2018-10-01   \n",
              "29  5301988619224057921 2018-09-01             2018-09-10     2018-09-26   \n",
              "34  2092588065958607289 2018-09-01             2018-09-11     2018-09-28   \n",
              "35  2092588065958607289 2018-09-01             2018-09-14     2018-10-01   \n",
              "\n",
              "   DATA_VENCIMENTO  VALOR_A_PAGAR  TAXA DATA_CADASTRO DDD FLAG_PF  \\\n",
              "27      2018-09-24       97329.20  5.99    2001-05-31  51       X   \n",
              "28      2018-10-01       81472.00  5.99    2001-05-31  51       X   \n",
              "29      2018-09-26       56152.28  6.99    2016-02-24  67       X   \n",
              "34      2018-09-28       17639.60  5.99    2006-07-18  62       X   \n",
              "35      2018-10-01       22176.20  5.99    2006-07-18  62       X   \n",
              "\n",
              "   SEGMENTO_INDUSTRIAL DOMINIO_EMAIL   PORTE CEP_2_DIG  RENDA_MES_ANTERIOR  \\\n",
              "27            Comércio         YAHOO  GRANDE        92            278795.0   \n",
              "28            Comércio         YAHOO  GRANDE        92            278795.0   \n",
              "29           Indústria         GMAIL   MEDIO        79            209440.0   \n",
              "34            Comércio         YAHOO  GRANDE        76            281719.0   \n",
              "35            Comércio         YAHOO  GRANDE        76            281719.0   \n",
              "\n",
              "    NO_FUNCIONARIOS INADIMPLENTES  \n",
              "27             99.0             0  \n",
              "28             99.0             0  \n",
              "29            107.0             0  \n",
              "34            128.0             0  \n",
              "35            128.0             0  "
            ]
          },
          "execution_count": 65,
          "metadata": {},
          "output_type": "execute_result"
        }
      ],
      "source": [
        "#Verificando que as mudanças foram feitas\n",
        "df_treino_2.head()"
      ]
    },
    {
      "cell_type": "markdown",
      "metadata": {
        "id": "ctiezXIqMHls"
      },
      "source": [
        "Podemos também realizar uma contagem de quantos valores foram considerados inadimplentes, isto é, com mais de 5 dias de atraso no pagamento."
      ]
    },
    {
      "cell_type": "code",
      "execution_count": 66,
      "metadata": {
        "colab": {
          "base_uri": "https://localhost:8080/",
          "height": 178
        },
        "id": "D95BJG7FMSFh",
        "outputId": "91e783ac-4b92-45aa-9ceb-2936d6d8327f"
      },
      "outputs": [
        {
          "data": {
            "text/plain": [
              "INADIMPLENTES\n",
              "0    26807\n",
              "1     2697\n",
              "Name: count, dtype: int64"
            ]
          },
          "execution_count": 66,
          "metadata": {},
          "output_type": "execute_result"
        }
      ],
      "source": [
        "contagem = df_treino_2['INADIMPLENTES'].value_counts()\n",
        "contagem"
      ]
    },
    {
      "cell_type": "markdown",
      "metadata": {
        "id": "okpW_9IPSJEJ"
      },
      "source": [
        "### 2.5. Ajuste das Variáveis Para o Treinamento"
      ]
    },
    {
      "cell_type": "markdown",
      "metadata": {
        "id": "7uIrv0qVSmtY"
      },
      "source": [
        "Será realizado agora uma tartamento nas colunas dos dados para o treinamento e teste do modelo, sendo que algumas colunas serão excluidas, já outras vão ser utilizadas para o cálculo de novos parâmetros, sendo que será utlizda a seguinte classsificação no tratamento:\n",
        "\n",
        "- **Variaveis categóricas:** Estas serão convertidas em valores numéricaso com legendas das categorias correspondentes.\n",
        "- **Variaveis numéricas:** Vão ser depois redimensionadas assim como as categóricas no prosso passo do processamento dos dados.\n",
        "- **Variaveis exclusão:** Serão excluidas para não inserir viéses ou atrapalahar no treinamento do modelo.\n"
      ]
    },
    {
      "cell_type": "markdown",
      "metadata": {
        "id": "zHpfJrNIjA3f"
      },
      "source": [
        "#### Variáveis e Seus Tratamentos\n",
        "\n",
        "* `ID_CLIENTE` (exclusão): Devere ser exluido pois não possuem poder preditivo, e podem causar o overfitting, pois o modelo pode \"decorar\" o Id daquele cliente, introduzindo um viés no treinamento.\n",
        "  \n",
        "* `SAFRA_REF` (categórica): Vai ser classificada como variável categórica, sendoq ue será levado em conta apenas o mês da data, para assim verificarmos se existe algum padrão de sazionalidade entre os clientes inadimplentes.\n",
        "  \n",
        "* `PRAZO_DE_CREDITO` (numérica): Será criada pela diferença entre a DATA_DE_EMISSAO_DOCUMENTO e a DATA_VENCIMENTO, represnetando assim o periodo (em dias) que o devedor tem para quitar a divida dele, podendo ter assim alguma relaão com a inadimplencia.\n",
        "  \n",
        "* `VALOR_A_PAGAR` (numérica)\n",
        "  \n",
        "* `TAXA` (numérica)\n",
        "  \n",
        "* `TEMPO_COMO_CLIENTE` (numérica): Será calculada a partir da coluna DATA_CADASTRO e a SAFRA_REF, sendo esta a a quantidade de anos que aquela cliente está cadatrado no sitema até o dia que a amostra foi coletada, medindo assim \"o quaão antigo é aquele cliente\".\n",
        "  \n",
        "* `DDD` (categórica): Será visto como categórica, pois carrega informações de cada cliente, separando este sassim em categorias de região.\n",
        "  \n",
        "* `FLAG_PF` (categórica)\n",
        "  \n",
        "* `SEGMENTO_INDUSTRIAL` (categórica)\n",
        "  \n",
        "* `DOMINIO_EMAIL` (categórica)\n",
        "  \n",
        "* `PORTE` (categórica)\n",
        "  \n",
        "* `CEP_2_DIG` (categórica): Pelos mesmos motivos do DDD\n",
        "  \n",
        "* `RENDA_MES_ANTERIOR` (numérica)\n",
        "  \n",
        "* `NO_FUNCIONARIOS` (numérica)"
      ]
    },
    {
      "cell_type": "markdown",
      "metadata": {
        "id": "YpBvtihSXqSr"
      },
      "source": [
        "#### Ajustano os Tipos das Variáveis dos Dados"
      ]
    },
    {
      "cell_type": "code",
      "execution_count": 67,
      "metadata": {
        "id": "k1fmjK7DUK1z"
      },
      "outputs": [],
      "source": [
        "#Tratando dos dados de treinamento\n",
        "\n",
        "df_treino_3 = df_treino_2.copy()\n",
        "\n",
        "#usa DATA_VENCIMENTO e DATA_EMISSAO_DOCUMENTO para o calculo de PRAZO_DE_CREDITO em dias\n",
        "df_treino_3.loc[:, 'PRAZO_DE_CREDITO'] = (df_treino_2.loc[:, 'DATA_VENCIMENTO'] - df_treino_2.loc[:, 'DATA_EMISSAO_DOCUMENTO']).dt.days\n",
        "\n",
        "#usa SAFRA_REF e DATA_CADASTRO para calcular TEMPO_COMO_CLIENTE em dias\n",
        "df_treino_3.loc[:, 'TEMPO_COMO_CLIENTE'] = (df_treino_2.loc[:, 'SAFRA_REF'] - df_treino_2.loc[:, 'DATA_CADASTRO']).dt.days\n",
        "\n",
        "#extrai os meses da safra de referencia\n",
        "df_treino_3.loc[:, 'MES_SAFRA_REF'] = df_treino_3.loc[:, 'SAFRA_REF'].dt.month.astype('object')\n",
        "\n",
        "#exclui colunas desnecessárias\n",
        "df_treino_3 = df_treino_3.drop(columns = ['ID_CLIENTE','SAFRA_REF', 'DATA_PAGAMENTO', 'DATA_VENCIMENTO', 'DATA_EMISSAO_DOCUMENTO', 'DATA_CADASTRO'])"
      ]
    },
    {
      "cell_type": "code",
      "execution_count": 68,
      "metadata": {
        "id": "yV1C6IkUmtTR"
      },
      "outputs": [],
      "source": [
        "#Tratando dos dados de validacao\n",
        "\n",
        "df_validacao_3 = df_validacao_2.copy()\n",
        "\n",
        "#usa DATA_VENCIMENTO e DATA_EMISSAO_DOCUMENTO para o calculo de PRAZO_DE_CREDITO em dias\n",
        "df_validacao_3.loc[:, 'PRAZO_DE_CREDITO'] = (df_validacao_2.loc[:, 'DATA_VENCIMENTO'] - df_validacao_2.loc[:, 'DATA_EMISSAO_DOCUMENTO']).dt.days\n",
        "\n",
        "#usa SAFRA_REF e DATA_CADASTRO para calcular TEMPO_COMO_CLIENTE em dias\n",
        "df_validacao_3.loc[:, 'TEMPO_COMO_CLIENTE'] = (df_validacao_2.loc[:, 'SAFRA_REF'] - df_validacao_2.loc[:, 'DATA_CADASTRO']).dt.days\n",
        "\n",
        "#extrai os meses da safra de referencia\n",
        "df_validacao_3.loc[:, 'MES_SAFRA_REF'] = df_validacao_3.loc[:, 'SAFRA_REF'].dt.month.astype('object')\n",
        "\n",
        "#exclui colunas desnecessárias\n",
        "df_validacao_3 = df_validacao_3.drop(columns = ['ID_CLIENTE','SAFRA_REF', 'DATA_VENCIMENTO', 'DATA_EMISSAO_DOCUMENTO', 'DATA_CADASTRO'])"
      ]
    },
    {
      "cell_type": "code",
      "execution_count": 69,
      "metadata": {
        "colab": {
          "base_uri": "https://localhost:8080/"
        },
        "id": "Utvh64HInT5O",
        "outputId": "f85124f4-41b4-485a-9f9b-d12135ae8f50"
      },
      "outputs": [
        {
          "data": {
            "text/plain": [
              "(Index(['VALOR_A_PAGAR', 'TAXA', 'DDD', 'FLAG_PF', 'SEGMENTO_INDUSTRIAL',\n",
              "        'DOMINIO_EMAIL', 'PORTE', 'CEP_2_DIG', 'RENDA_MES_ANTERIOR',\n",
              "        'NO_FUNCIONARIOS', 'INADIMPLENTES', 'PRAZO_DE_CREDITO',\n",
              "        'TEMPO_COMO_CLIENTE', 'MES_SAFRA_REF'],\n",
              "       dtype='object'),\n",
              " Index(['VALOR_A_PAGAR', 'TAXA', 'DDD', 'FLAG_PF', 'SEGMENTO_INDUSTRIAL',\n",
              "        'DOMINIO_EMAIL', 'PORTE', 'CEP_2_DIG', 'RENDA_MES_ANTERIOR',\n",
              "        'NO_FUNCIONARIOS', 'PRAZO_DE_CREDITO', 'TEMPO_COMO_CLIENTE',\n",
              "        'MES_SAFRA_REF'],\n",
              "       dtype='object'))"
            ]
          },
          "execution_count": 69,
          "metadata": {},
          "output_type": "execute_result"
        }
      ],
      "source": [
        "#verificando mudanças feitas\n",
        "df_treino_3.columns, df_validacao_3.columns"
      ]
    },
    {
      "cell_type": "markdown",
      "metadata": {
        "id": "iu2215vqzUAn"
      },
      "source": [
        "### 2.6. Definindo Conjuntos de Treino e Teste para o Treinamento do Modelo"
      ]
    },
    {
      "cell_type": "markdown",
      "metadata": {
        "id": "jd_LTgwLYAX8"
      },
      "source": [
        "#### Tratando as Variáveis Para a Mudança de Escala"
      ]
    },
    {
      "cell_type": "code",
      "execution_count": 70,
      "metadata": {
        "id": "6Bem2iI62To-"
      },
      "outputs": [],
      "source": [
        "#separando as a variavel targed das demais\n",
        "y_treinamento = pd.DataFrame()\n",
        "X_treinamento = pd.DataFrame()\n",
        "\n",
        "#conjunto de dados de validação\n",
        "X_val = df_validacao_3.copy()\n",
        "\n",
        "y_treinamento['INADIMPLENTES'] = df_treino_3['INADIMPLENTES']\n",
        "X_treinamento = df_treino_3.drop('INADIMPLENTES', axis=1)"
      ]
    },
    {
      "cell_type": "code",
      "execution_count": 71,
      "metadata": {
        "id": "89Mmlq9F1f9D"
      },
      "outputs": [],
      "source": [
        "#separando os dados para o treinamento e teste\n",
        "from sklearn.model_selection import train_test_split\n",
        "\n",
        "X_train, X_test, y_train, y_test = train_test_split(X_treinamento, y_treinamento, test_size = 0.20, random_state = 0)"
      ]
    },
    {
      "cell_type": "code",
      "execution_count": 72,
      "metadata": {
        "colab": {
          "base_uri": "https://localhost:8080/"
        },
        "id": "-UwOQll61w0B",
        "outputId": "6808cd69-c68b-40eb-ae9c-0aca3bf002ec"
      },
      "outputs": [
        {
          "data": {
            "text/plain": [
              "((23603, 13), (5901, 13), (5304, 13))"
            ]
          },
          "execution_count": 72,
          "metadata": {},
          "output_type": "execute_result"
        }
      ],
      "source": [
        "#verificando as dimensões de cada conjunto de dados\n",
        "X_train.shape, X_test.shape, X_val.shape"
      ]
    },
    {
      "cell_type": "markdown",
      "metadata": {
        "id": "lDWp93Wr4-9B"
      },
      "source": [
        "### 2.7. Preparando os Dados para Aplicar o Método MinMax"
      ]
    },
    {
      "cell_type": "markdown",
      "metadata": {
        "id": "hZ1VPwxSZqo0"
      },
      "source": [
        "Agora vamos aplicar o comando `dummies` do pandas para realizarmos o tratamento ds variáveis categóricas para o treinamento do modelo.\n",
        "Temos que mesmo que ambos os DataFrames tenham 13 colunas inicialmente, se essas 13 colunas contiverem variáveis categóricas, e as categorias dentro delas não forem idênticas entre treino e teste, o número de colunas após o `get_dummies` será diferente. \n",
        "\n",
        "Como precisamos de o mesmo número de colunas nos data frames resultanets, vamos solucionar isso combinando temporariamente os data frames `X_train`, `X_teste` e `X_val` mas é preservando os indices com `ignore_index=False`, para depois podermos separalos novamente \"*sem misturar os dados de treino, teste e validação*\"."
      ]
    },
    {
      "cell_type": "code",
      "execution_count": 73,
      "metadata": {
        "id": "KMssL7fl930V"
      },
      "outputs": [],
      "source": [
        "#Indexando cada conjunto de forma única\n",
        "index_1 = list(range(0, X_train.shape[0]))\n",
        "index_2 = list(range(X_train.shape[0], X_train.shape[0] + X_test.shape[0]))\n",
        "index_3 = list(range(X_train.shape[0] + X_test.shape[0], X_train.shape[0] + X_test.shape[0] + X_val.shape[0]))\n",
        "\n",
        "X_train.index = index_1\n",
        "X_test.index = index_2\n",
        "X_val.index = index_3"
      ]
    },
    {
      "cell_type": "code",
      "execution_count": 74,
      "metadata": {
        "id": "vOglKIuf7HGX"
      },
      "outputs": [],
      "source": [
        "#criando conjunto temporario\n",
        "X_combinado = pd.concat([X_train, X_test, X_val], ignore_index=False)"
      ]
    },
    {
      "cell_type": "code",
      "execution_count": 75,
      "metadata": {
        "colab": {
          "base_uri": "https://localhost:8080/",
          "height": 206
        },
        "id": "pBqC2rEyFuKN",
        "outputId": "c2a05edd-1778-4258-98d2-f70d9abed266"
      },
      "outputs": [
        {
          "data": {
            "text/html": [
              "<div>\n",
              "<style scoped>\n",
              "    .dataframe tbody tr th:only-of-type {\n",
              "        vertical-align: middle;\n",
              "    }\n",
              "\n",
              "    .dataframe tbody tr th {\n",
              "        vertical-align: top;\n",
              "    }\n",
              "\n",
              "    .dataframe thead th {\n",
              "        text-align: right;\n",
              "    }\n",
              "</style>\n",
              "<table border=\"1\" class=\"dataframe\">\n",
              "  <thead>\n",
              "    <tr style=\"text-align: right;\">\n",
              "      <th></th>\n",
              "      <th>DDD</th>\n",
              "      <th>FLAG_PF</th>\n",
              "      <th>SEGMENTO_INDUSTRIAL</th>\n",
              "      <th>DOMINIO_EMAIL</th>\n",
              "      <th>PORTE</th>\n",
              "      <th>CEP_2_DIG</th>\n",
              "      <th>MES_SAFRA_REF</th>\n",
              "    </tr>\n",
              "  </thead>\n",
              "  <tbody>\n",
              "    <tr>\n",
              "      <th>0</th>\n",
              "      <td>21</td>\n",
              "      <td>X</td>\n",
              "      <td>Indústria</td>\n",
              "      <td>YAHOO</td>\n",
              "      <td>GRANDE</td>\n",
              "      <td>23</td>\n",
              "      <td>3</td>\n",
              "    </tr>\n",
              "    <tr>\n",
              "      <th>1</th>\n",
              "      <td>11</td>\n",
              "      <td>X</td>\n",
              "      <td>Serviços</td>\n",
              "      <td>YAHOO</td>\n",
              "      <td>MEDIO</td>\n",
              "      <td>57</td>\n",
              "      <td>1</td>\n",
              "    </tr>\n",
              "    <tr>\n",
              "      <th>2</th>\n",
              "      <td>41</td>\n",
              "      <td>X</td>\n",
              "      <td>Comércio</td>\n",
              "      <td>GMAIL</td>\n",
              "      <td>MEDIO</td>\n",
              "      <td>80</td>\n",
              "      <td>1</td>\n",
              "    </tr>\n",
              "    <tr>\n",
              "      <th>3</th>\n",
              "      <td>32</td>\n",
              "      <td>X</td>\n",
              "      <td>Comércio</td>\n",
              "      <td>YAHOO</td>\n",
              "      <td>MEDIO</td>\n",
              "      <td>36</td>\n",
              "      <td>12</td>\n",
              "    </tr>\n",
              "    <tr>\n",
              "      <th>4</th>\n",
              "      <td>53</td>\n",
              "      <td>X</td>\n",
              "      <td>Comércio</td>\n",
              "      <td>GMAIL</td>\n",
              "      <td>GRANDE</td>\n",
              "      <td>96</td>\n",
              "      <td>6</td>\n",
              "    </tr>\n",
              "  </tbody>\n",
              "</table>\n",
              "</div>"
            ],
            "text/plain": [
              "  DDD FLAG_PF SEGMENTO_INDUSTRIAL DOMINIO_EMAIL   PORTE CEP_2_DIG  \\\n",
              "0  21       X           Indústria         YAHOO  GRANDE        23   \n",
              "1  11       X            Serviços         YAHOO   MEDIO        57   \n",
              "2  41       X            Comércio         GMAIL   MEDIO        80   \n",
              "3  32       X            Comércio         YAHOO   MEDIO        36   \n",
              "4  53       X            Comércio         GMAIL  GRANDE        96   \n",
              "\n",
              "  MES_SAFRA_REF  \n",
              "0             3  \n",
              "1             1  \n",
              "2             1  \n",
              "3            12  \n",
              "4             6  "
            ]
          },
          "execution_count": 75,
          "metadata": {},
          "output_type": "execute_result"
        }
      ],
      "source": [
        "#verificando as variáveis categóricas conjunto de treino\n",
        "var_categoricas = [var for var in X_combinado.columns if X_combinado[var].dtype == 'O' ]\n",
        "X_combinado[var_categoricas].head()"
      ]
    },
    {
      "cell_type": "markdown",
      "metadata": {
        "id": "8obb3k3EFOzA"
      },
      "source": [
        "Aplicando o método `get_dummies`"
      ]
    },
    {
      "cell_type": "code",
      "execution_count": 76,
      "metadata": {
        "id": "UBf4Lp_IFXSf"
      },
      "outputs": [],
      "source": [
        "#variáveis numéricas conjunto X_combinado\n",
        "var_numericas = [var for var in X_combinado.columns if X_combinado[var].dtype != 'O' ]"
      ]
    },
    {
      "cell_type": "code",
      "execution_count": 77,
      "metadata": {
        "id": "61qT93VYFIDl"
      },
      "outputs": [],
      "source": [
        "X_combinado = pd.concat([X_combinado[var_numericas].astype(int),\n",
        "                        pd.get_dummies(X_combinado.DDD).astype(int),\n",
        "                        pd.get_dummies(X_combinado.FLAG_PF).astype(int),\n",
        "                        pd.get_dummies(X_combinado.SEGMENTO_INDUSTRIAL).astype(int),\n",
        "                        pd.get_dummies(X_combinado.DOMINIO_EMAIL).astype(int),\n",
        "                        pd.get_dummies(X_combinado.PORTE).astype(int),\n",
        "                        pd.get_dummies(X_combinado.CEP_2_DIG).astype(int),\n",
        "                        pd.get_dummies(X_combinado.MES_SAFRA_REF).astype(int)], axis = 1)"
      ]
    },
    {
      "cell_type": "code",
      "execution_count": 78,
      "metadata": {
        "id": "iaiJhG8ZGDw6"
      },
      "outputs": [],
      "source": [
        "#separando novamente nos respectivos conjuntos de treino, teste e validação\n",
        "X_train =  X_combinado.loc[X_train.index]\n",
        "X_test =  X_combinado.loc[X_test.index]\n",
        "X_val =  X_combinado.loc[X_val.index]"
      ]
    },
    {
      "cell_type": "markdown",
      "metadata": {
        "id": "fSCBSFJGMs6v"
      },
      "source": [
        "### 2.8. Ajustando a Escala dos Dados com MinMax\n"
      ]
    },
    {
      "cell_type": "markdown",
      "metadata": {
        "id": "j00MXsOdK6M0"
      },
      "source": [
        "Para um melhor modelo, vamos ajustar as escalas dos dados, pois dados com valores numéricos maiores podem de forma errônea inserir viézes no treinamento."
      ]
    },
    {
      "cell_type": "code",
      "execution_count": 79,
      "metadata": {
        "colab": {
          "base_uri": "https://localhost:8080/",
          "height": 349
        },
        "id": "bD2ePki3HMFS",
        "outputId": "a3456cef-e9f4-4dc1-b4ab-43ec443d0fc2"
      },
      "outputs": [
        {
          "data": {
            "text/html": [
              "<div>\n",
              "<style scoped>\n",
              "    .dataframe tbody tr th:only-of-type {\n",
              "        vertical-align: middle;\n",
              "    }\n",
              "\n",
              "    .dataframe tbody tr th {\n",
              "        vertical-align: top;\n",
              "    }\n",
              "\n",
              "    .dataframe thead th {\n",
              "        text-align: right;\n",
              "    }\n",
              "</style>\n",
              "<table border=\"1\" class=\"dataframe\">\n",
              "  <thead>\n",
              "    <tr style=\"text-align: right;\">\n",
              "      <th></th>\n",
              "      <th>VALOR_A_PAGAR</th>\n",
              "      <th>TAXA</th>\n",
              "      <th>RENDA_MES_ANTERIOR</th>\n",
              "      <th>NO_FUNCIONARIOS</th>\n",
              "      <th>PRAZO_DE_CREDITO</th>\n",
              "      <th>TEMPO_COMO_CLIENTE</th>\n",
              "      <th>(1</th>\n",
              "      <th>(2</th>\n",
              "      <th>(3</th>\n",
              "      <th>(4</th>\n",
              "      <th>...</th>\n",
              "      <th>3</th>\n",
              "      <th>4</th>\n",
              "      <th>5</th>\n",
              "      <th>6</th>\n",
              "      <th>7</th>\n",
              "      <th>8</th>\n",
              "      <th>9</th>\n",
              "      <th>10</th>\n",
              "      <th>11</th>\n",
              "      <th>12</th>\n",
              "    </tr>\n",
              "  </thead>\n",
              "  <tbody>\n",
              "    <tr>\n",
              "      <th>count</th>\n",
              "      <td>2.360300e+04</td>\n",
              "      <td>23603.000000</td>\n",
              "      <td>2.360300e+04</td>\n",
              "      <td>23603.000000</td>\n",
              "      <td>23603.000000</td>\n",
              "      <td>23603.000000</td>\n",
              "      <td>23603.000000</td>\n",
              "      <td>23603.000000</td>\n",
              "      <td>23603.000000</td>\n",
              "      <td>23603.000000</td>\n",
              "      <td>...</td>\n",
              "      <td>23603.000000</td>\n",
              "      <td>23603.000000</td>\n",
              "      <td>23603.000000</td>\n",
              "      <td>23603.000000</td>\n",
              "      <td>23603.000000</td>\n",
              "      <td>23603.000000</td>\n",
              "      <td>23603.000000</td>\n",
              "      <td>23603.000000</td>\n",
              "      <td>23603.000000</td>\n",
              "      <td>23603.000000</td>\n",
              "    </tr>\n",
              "    <tr>\n",
              "      <th>mean</th>\n",
              "      <td>4.352095e+04</td>\n",
              "      <td>5.826886</td>\n",
              "      <td>2.862673e+05</td>\n",
              "      <td>117.584587</td>\n",
              "      <td>24.012541</td>\n",
              "      <td>2193.008346</td>\n",
              "      <td>0.002203</td>\n",
              "      <td>0.004533</td>\n",
              "      <td>0.000466</td>\n",
              "      <td>0.000466</td>\n",
              "      <td>...</td>\n",
              "      <td>0.086345</td>\n",
              "      <td>0.081685</td>\n",
              "      <td>0.091471</td>\n",
              "      <td>0.091641</td>\n",
              "      <td>0.059399</td>\n",
              "      <td>0.060416</td>\n",
              "      <td>0.085371</td>\n",
              "      <td>0.091726</td>\n",
              "      <td>0.090921</td>\n",
              "      <td>0.087574</td>\n",
              "    </tr>\n",
              "    <tr>\n",
              "      <th>std</th>\n",
              "      <td>4.972766e+04</td>\n",
              "      <td>1.817897</td>\n",
              "      <td>2.116259e+05</td>\n",
              "      <td>20.001144</td>\n",
              "      <td>26.969669</td>\n",
              "      <td>1588.594875</td>\n",
              "      <td>0.046887</td>\n",
              "      <td>0.067179</td>\n",
              "      <td>0.021583</td>\n",
              "      <td>0.021583</td>\n",
              "      <td>...</td>\n",
              "      <td>0.280879</td>\n",
              "      <td>0.273889</td>\n",
              "      <td>0.288284</td>\n",
              "      <td>0.288524</td>\n",
              "      <td>0.236375</td>\n",
              "      <td>0.238261</td>\n",
              "      <td>0.279438</td>\n",
              "      <td>0.288644</td>\n",
              "      <td>0.287502</td>\n",
              "      <td>0.282680</td>\n",
              "    </tr>\n",
              "    <tr>\n",
              "      <th>min</th>\n",
              "      <td>0.000000e+00</td>\n",
              "      <td>4.000000</td>\n",
              "      <td>1.050000e+02</td>\n",
              "      <td>0.000000</td>\n",
              "      <td>-420.000000</td>\n",
              "      <td>-23.000000</td>\n",
              "      <td>0.000000</td>\n",
              "      <td>0.000000</td>\n",
              "      <td>0.000000</td>\n",
              "      <td>0.000000</td>\n",
              "      <td>...</td>\n",
              "      <td>0.000000</td>\n",
              "      <td>0.000000</td>\n",
              "      <td>0.000000</td>\n",
              "      <td>0.000000</td>\n",
              "      <td>0.000000</td>\n",
              "      <td>0.000000</td>\n",
              "      <td>0.000000</td>\n",
              "      <td>0.000000</td>\n",
              "      <td>0.000000</td>\n",
              "      <td>0.000000</td>\n",
              "    </tr>\n",
              "    <tr>\n",
              "      <th>25%</th>\n",
              "      <td>1.782400e+04</td>\n",
              "      <td>5.000000</td>\n",
              "      <td>1.327480e+05</td>\n",
              "      <td>106.000000</td>\n",
              "      <td>16.000000</td>\n",
              "      <td>923.000000</td>\n",
              "      <td>0.000000</td>\n",
              "      <td>0.000000</td>\n",
              "      <td>0.000000</td>\n",
              "      <td>0.000000</td>\n",
              "      <td>...</td>\n",
              "      <td>0.000000</td>\n",
              "      <td>0.000000</td>\n",
              "      <td>0.000000</td>\n",
              "      <td>0.000000</td>\n",
              "      <td>0.000000</td>\n",
              "      <td>0.000000</td>\n",
              "      <td>0.000000</td>\n",
              "      <td>0.000000</td>\n",
              "      <td>0.000000</td>\n",
              "      <td>0.000000</td>\n",
              "    </tr>\n",
              "    <tr>\n",
              "      <th>50%</th>\n",
              "      <td>3.282300e+04</td>\n",
              "      <td>5.000000</td>\n",
              "      <td>2.405020e+05</td>\n",
              "      <td>118.000000</td>\n",
              "      <td>18.000000</td>\n",
              "      <td>1865.000000</td>\n",
              "      <td>0.000000</td>\n",
              "      <td>0.000000</td>\n",
              "      <td>0.000000</td>\n",
              "      <td>0.000000</td>\n",
              "      <td>...</td>\n",
              "      <td>0.000000</td>\n",
              "      <td>0.000000</td>\n",
              "      <td>0.000000</td>\n",
              "      <td>0.000000</td>\n",
              "      <td>0.000000</td>\n",
              "      <td>0.000000</td>\n",
              "      <td>0.000000</td>\n",
              "      <td>0.000000</td>\n",
              "      <td>0.000000</td>\n",
              "      <td>0.000000</td>\n",
              "    </tr>\n",
              "    <tr>\n",
              "      <th>75%</th>\n",
              "      <td>5.540500e+04</td>\n",
              "      <td>6.000000</td>\n",
              "      <td>3.844600e+05</td>\n",
              "      <td>129.000000</td>\n",
              "      <td>25.000000</td>\n",
              "      <td>3041.000000</td>\n",
              "      <td>0.000000</td>\n",
              "      <td>0.000000</td>\n",
              "      <td>0.000000</td>\n",
              "      <td>0.000000</td>\n",
              "      <td>...</td>\n",
              "      <td>0.000000</td>\n",
              "      <td>0.000000</td>\n",
              "      <td>0.000000</td>\n",
              "      <td>0.000000</td>\n",
              "      <td>0.000000</td>\n",
              "      <td>0.000000</td>\n",
              "      <td>0.000000</td>\n",
              "      <td>0.000000</td>\n",
              "      <td>0.000000</td>\n",
              "      <td>0.000000</td>\n",
              "    </tr>\n",
              "    <tr>\n",
              "      <th>max</th>\n",
              "      <td>4.400000e+06</td>\n",
              "      <td>11.000000</td>\n",
              "      <td>1.622248e+06</td>\n",
              "      <td>198.000000</td>\n",
              "      <td>2107.000000</td>\n",
              "      <td>7422.000000</td>\n",
              "      <td>1.000000</td>\n",
              "      <td>1.000000</td>\n",
              "      <td>1.000000</td>\n",
              "      <td>1.000000</td>\n",
              "      <td>...</td>\n",
              "      <td>1.000000</td>\n",
              "      <td>1.000000</td>\n",
              "      <td>1.000000</td>\n",
              "      <td>1.000000</td>\n",
              "      <td>1.000000</td>\n",
              "      <td>1.000000</td>\n",
              "      <td>1.000000</td>\n",
              "      <td>1.000000</td>\n",
              "      <td>1.000000</td>\n",
              "      <td>1.000000</td>\n",
              "    </tr>\n",
              "  </tbody>\n",
              "</table>\n",
              "<p>8 rows × 193 columns</p>\n",
              "</div>"
            ],
            "text/plain": [
              "       VALOR_A_PAGAR          TAXA  RENDA_MES_ANTERIOR  NO_FUNCIONARIOS  \\\n",
              "count   2.360300e+04  23603.000000        2.360300e+04     23603.000000   \n",
              "mean    4.352095e+04      5.826886        2.862673e+05       117.584587   \n",
              "std     4.972766e+04      1.817897        2.116259e+05        20.001144   \n",
              "min     0.000000e+00      4.000000        1.050000e+02         0.000000   \n",
              "25%     1.782400e+04      5.000000        1.327480e+05       106.000000   \n",
              "50%     3.282300e+04      5.000000        2.405020e+05       118.000000   \n",
              "75%     5.540500e+04      6.000000        3.844600e+05       129.000000   \n",
              "max     4.400000e+06     11.000000        1.622248e+06       198.000000   \n",
              "\n",
              "       PRAZO_DE_CREDITO  TEMPO_COMO_CLIENTE            (1            (2  \\\n",
              "count      23603.000000        23603.000000  23603.000000  23603.000000   \n",
              "mean          24.012541         2193.008346      0.002203      0.004533   \n",
              "std           26.969669         1588.594875      0.046887      0.067179   \n",
              "min         -420.000000          -23.000000      0.000000      0.000000   \n",
              "25%           16.000000          923.000000      0.000000      0.000000   \n",
              "50%           18.000000         1865.000000      0.000000      0.000000   \n",
              "75%           25.000000         3041.000000      0.000000      0.000000   \n",
              "max         2107.000000         7422.000000      1.000000      1.000000   \n",
              "\n",
              "                 (3            (4  ...             3             4  \\\n",
              "count  23603.000000  23603.000000  ...  23603.000000  23603.000000   \n",
              "mean       0.000466      0.000466  ...      0.086345      0.081685   \n",
              "std        0.021583      0.021583  ...      0.280879      0.273889   \n",
              "min        0.000000      0.000000  ...      0.000000      0.000000   \n",
              "25%        0.000000      0.000000  ...      0.000000      0.000000   \n",
              "50%        0.000000      0.000000  ...      0.000000      0.000000   \n",
              "75%        0.000000      0.000000  ...      0.000000      0.000000   \n",
              "max        1.000000      1.000000  ...      1.000000      1.000000   \n",
              "\n",
              "                  5             6             7             8             9  \\\n",
              "count  23603.000000  23603.000000  23603.000000  23603.000000  23603.000000   \n",
              "mean       0.091471      0.091641      0.059399      0.060416      0.085371   \n",
              "std        0.288284      0.288524      0.236375      0.238261      0.279438   \n",
              "min        0.000000      0.000000      0.000000      0.000000      0.000000   \n",
              "25%        0.000000      0.000000      0.000000      0.000000      0.000000   \n",
              "50%        0.000000      0.000000      0.000000      0.000000      0.000000   \n",
              "75%        0.000000      0.000000      0.000000      0.000000      0.000000   \n",
              "max        1.000000      1.000000      1.000000      1.000000      1.000000   \n",
              "\n",
              "                 10            11            12  \n",
              "count  23603.000000  23603.000000  23603.000000  \n",
              "mean       0.091726      0.090921      0.087574  \n",
              "std        0.288644      0.287502      0.282680  \n",
              "min        0.000000      0.000000      0.000000  \n",
              "25%        0.000000      0.000000      0.000000  \n",
              "50%        0.000000      0.000000      0.000000  \n",
              "75%        0.000000      0.000000      0.000000  \n",
              "max        1.000000      1.000000      1.000000  \n",
              "\n",
              "[8 rows x 193 columns]"
            ]
          },
          "execution_count": 79,
          "metadata": {},
          "output_type": "execute_result"
        }
      ],
      "source": [
        "#verificando escala autual dos dados\n",
        "X_train.describe()"
      ]
    },
    {
      "cell_type": "code",
      "execution_count": 80,
      "metadata": {
        "colab": {
          "base_uri": "https://localhost:8080/",
          "height": 349
        },
        "id": "ores1vi8HRpM",
        "outputId": "12e5f46f-d93d-43dd-a347-035ef04e8a3b"
      },
      "outputs": [
        {
          "data": {
            "text/html": [
              "<div>\n",
              "<style scoped>\n",
              "    .dataframe tbody tr th:only-of-type {\n",
              "        vertical-align: middle;\n",
              "    }\n",
              "\n",
              "    .dataframe tbody tr th {\n",
              "        vertical-align: top;\n",
              "    }\n",
              "\n",
              "    .dataframe thead th {\n",
              "        text-align: right;\n",
              "    }\n",
              "</style>\n",
              "<table border=\"1\" class=\"dataframe\">\n",
              "  <thead>\n",
              "    <tr style=\"text-align: right;\">\n",
              "      <th></th>\n",
              "      <th>VALOR_A_PAGAR</th>\n",
              "      <th>TAXA</th>\n",
              "      <th>RENDA_MES_ANTERIOR</th>\n",
              "      <th>NO_FUNCIONARIOS</th>\n",
              "      <th>PRAZO_DE_CREDITO</th>\n",
              "      <th>TEMPO_COMO_CLIENTE</th>\n",
              "      <th>(1</th>\n",
              "      <th>(2</th>\n",
              "      <th>(3</th>\n",
              "      <th>(4</th>\n",
              "      <th>...</th>\n",
              "      <th>3</th>\n",
              "      <th>4</th>\n",
              "      <th>5</th>\n",
              "      <th>6</th>\n",
              "      <th>7</th>\n",
              "      <th>8</th>\n",
              "      <th>9</th>\n",
              "      <th>10</th>\n",
              "      <th>11</th>\n",
              "      <th>12</th>\n",
              "    </tr>\n",
              "  </thead>\n",
              "  <tbody>\n",
              "    <tr>\n",
              "      <th>count</th>\n",
              "      <td>5901.000000</td>\n",
              "      <td>5901.000000</td>\n",
              "      <td>5.901000e+03</td>\n",
              "      <td>5901.000000</td>\n",
              "      <td>5901.000000</td>\n",
              "      <td>5901.000000</td>\n",
              "      <td>5901.000000</td>\n",
              "      <td>5901.000000</td>\n",
              "      <td>5901.000000</td>\n",
              "      <td>5901.000000</td>\n",
              "      <td>...</td>\n",
              "      <td>5901.000000</td>\n",
              "      <td>5901.000000</td>\n",
              "      <td>5901.000000</td>\n",
              "      <td>5901.000000</td>\n",
              "      <td>5901.000000</td>\n",
              "      <td>5901.000000</td>\n",
              "      <td>5901.000000</td>\n",
              "      <td>5901.000000</td>\n",
              "      <td>5901.000000</td>\n",
              "      <td>5901.000000</td>\n",
              "    </tr>\n",
              "    <tr>\n",
              "      <th>mean</th>\n",
              "      <td>43654.596509</td>\n",
              "      <td>5.805118</td>\n",
              "      <td>2.866230e+05</td>\n",
              "      <td>117.723606</td>\n",
              "      <td>24.208270</td>\n",
              "      <td>2161.272327</td>\n",
              "      <td>0.001525</td>\n",
              "      <td>0.006101</td>\n",
              "      <td>0.000508</td>\n",
              "      <td>0.000847</td>\n",
              "      <td>...</td>\n",
              "      <td>0.088968</td>\n",
              "      <td>0.077275</td>\n",
              "      <td>0.090493</td>\n",
              "      <td>0.097950</td>\n",
              "      <td>0.063718</td>\n",
              "      <td>0.056262</td>\n",
              "      <td>0.084731</td>\n",
              "      <td>0.084731</td>\n",
              "      <td>0.091002</td>\n",
              "      <td>0.092357</td>\n",
              "    </tr>\n",
              "    <tr>\n",
              "      <th>std</th>\n",
              "      <td>39119.486619</td>\n",
              "      <td>1.796130</td>\n",
              "      <td>2.154922e+05</td>\n",
              "      <td>20.012963</td>\n",
              "      <td>19.291445</td>\n",
              "      <td>1604.361477</td>\n",
              "      <td>0.039027</td>\n",
              "      <td>0.077875</td>\n",
              "      <td>0.022544</td>\n",
              "      <td>0.029099</td>\n",
              "      <td>...</td>\n",
              "      <td>0.284722</td>\n",
              "      <td>0.267050</td>\n",
              "      <td>0.286911</td>\n",
              "      <td>0.297272</td>\n",
              "      <td>0.244271</td>\n",
              "      <td>0.230446</td>\n",
              "      <td>0.278505</td>\n",
              "      <td>0.278505</td>\n",
              "      <td>0.287636</td>\n",
              "      <td>0.289554</td>\n",
              "    </tr>\n",
              "    <tr>\n",
              "      <th>min</th>\n",
              "      <td>6.000000</td>\n",
              "      <td>4.000000</td>\n",
              "      <td>1.050000e+02</td>\n",
              "      <td>0.000000</td>\n",
              "      <td>-256.000000</td>\n",
              "      <td>-21.000000</td>\n",
              "      <td>0.000000</td>\n",
              "      <td>0.000000</td>\n",
              "      <td>0.000000</td>\n",
              "      <td>0.000000</td>\n",
              "      <td>...</td>\n",
              "      <td>0.000000</td>\n",
              "      <td>0.000000</td>\n",
              "      <td>0.000000</td>\n",
              "      <td>0.000000</td>\n",
              "      <td>0.000000</td>\n",
              "      <td>0.000000</td>\n",
              "      <td>0.000000</td>\n",
              "      <td>0.000000</td>\n",
              "      <td>0.000000</td>\n",
              "      <td>0.000000</td>\n",
              "    </tr>\n",
              "    <tr>\n",
              "      <th>25%</th>\n",
              "      <td>17766.000000</td>\n",
              "      <td>5.000000</td>\n",
              "      <td>1.298820e+05</td>\n",
              "      <td>106.000000</td>\n",
              "      <td>16.000000</td>\n",
              "      <td>874.000000</td>\n",
              "      <td>0.000000</td>\n",
              "      <td>0.000000</td>\n",
              "      <td>0.000000</td>\n",
              "      <td>0.000000</td>\n",
              "      <td>...</td>\n",
              "      <td>0.000000</td>\n",
              "      <td>0.000000</td>\n",
              "      <td>0.000000</td>\n",
              "      <td>0.000000</td>\n",
              "      <td>0.000000</td>\n",
              "      <td>0.000000</td>\n",
              "      <td>0.000000</td>\n",
              "      <td>0.000000</td>\n",
              "      <td>0.000000</td>\n",
              "      <td>0.000000</td>\n",
              "    </tr>\n",
              "    <tr>\n",
              "      <th>50%</th>\n",
              "      <td>32902.000000</td>\n",
              "      <td>5.000000</td>\n",
              "      <td>2.405020e+05</td>\n",
              "      <td>118.000000</td>\n",
              "      <td>19.000000</td>\n",
              "      <td>1811.000000</td>\n",
              "      <td>0.000000</td>\n",
              "      <td>0.000000</td>\n",
              "      <td>0.000000</td>\n",
              "      <td>0.000000</td>\n",
              "      <td>...</td>\n",
              "      <td>0.000000</td>\n",
              "      <td>0.000000</td>\n",
              "      <td>0.000000</td>\n",
              "      <td>0.000000</td>\n",
              "      <td>0.000000</td>\n",
              "      <td>0.000000</td>\n",
              "      <td>0.000000</td>\n",
              "      <td>0.000000</td>\n",
              "      <td>0.000000</td>\n",
              "      <td>0.000000</td>\n",
              "    </tr>\n",
              "    <tr>\n",
              "      <th>75%</th>\n",
              "      <td>56463.000000</td>\n",
              "      <td>6.000000</td>\n",
              "      <td>3.786360e+05</td>\n",
              "      <td>129.000000</td>\n",
              "      <td>25.000000</td>\n",
              "      <td>3019.000000</td>\n",
              "      <td>0.000000</td>\n",
              "      <td>0.000000</td>\n",
              "      <td>0.000000</td>\n",
              "      <td>0.000000</td>\n",
              "      <td>...</td>\n",
              "      <td>0.000000</td>\n",
              "      <td>0.000000</td>\n",
              "      <td>0.000000</td>\n",
              "      <td>0.000000</td>\n",
              "      <td>0.000000</td>\n",
              "      <td>0.000000</td>\n",
              "      <td>0.000000</td>\n",
              "      <td>0.000000</td>\n",
              "      <td>0.000000</td>\n",
              "      <td>0.000000</td>\n",
              "    </tr>\n",
              "    <tr>\n",
              "      <th>max</th>\n",
              "      <td>280679.000000</td>\n",
              "      <td>11.000000</td>\n",
              "      <td>1.622248e+06</td>\n",
              "      <td>185.000000</td>\n",
              "      <td>640.000000</td>\n",
              "      <td>7422.000000</td>\n",
              "      <td>1.000000</td>\n",
              "      <td>1.000000</td>\n",
              "      <td>1.000000</td>\n",
              "      <td>1.000000</td>\n",
              "      <td>...</td>\n",
              "      <td>1.000000</td>\n",
              "      <td>1.000000</td>\n",
              "      <td>1.000000</td>\n",
              "      <td>1.000000</td>\n",
              "      <td>1.000000</td>\n",
              "      <td>1.000000</td>\n",
              "      <td>1.000000</td>\n",
              "      <td>1.000000</td>\n",
              "      <td>1.000000</td>\n",
              "      <td>1.000000</td>\n",
              "    </tr>\n",
              "  </tbody>\n",
              "</table>\n",
              "<p>8 rows × 193 columns</p>\n",
              "</div>"
            ],
            "text/plain": [
              "       VALOR_A_PAGAR         TAXA  RENDA_MES_ANTERIOR  NO_FUNCIONARIOS  \\\n",
              "count    5901.000000  5901.000000        5.901000e+03      5901.000000   \n",
              "mean    43654.596509     5.805118        2.866230e+05       117.723606   \n",
              "std     39119.486619     1.796130        2.154922e+05        20.012963   \n",
              "min         6.000000     4.000000        1.050000e+02         0.000000   \n",
              "25%     17766.000000     5.000000        1.298820e+05       106.000000   \n",
              "50%     32902.000000     5.000000        2.405020e+05       118.000000   \n",
              "75%     56463.000000     6.000000        3.786360e+05       129.000000   \n",
              "max    280679.000000    11.000000        1.622248e+06       185.000000   \n",
              "\n",
              "       PRAZO_DE_CREDITO  TEMPO_COMO_CLIENTE           (1           (2  \\\n",
              "count       5901.000000         5901.000000  5901.000000  5901.000000   \n",
              "mean          24.208270         2161.272327     0.001525     0.006101   \n",
              "std           19.291445         1604.361477     0.039027     0.077875   \n",
              "min         -256.000000          -21.000000     0.000000     0.000000   \n",
              "25%           16.000000          874.000000     0.000000     0.000000   \n",
              "50%           19.000000         1811.000000     0.000000     0.000000   \n",
              "75%           25.000000         3019.000000     0.000000     0.000000   \n",
              "max          640.000000         7422.000000     1.000000     1.000000   \n",
              "\n",
              "                (3           (4  ...            3            4            5  \\\n",
              "count  5901.000000  5901.000000  ...  5901.000000  5901.000000  5901.000000   \n",
              "mean      0.000508     0.000847  ...     0.088968     0.077275     0.090493   \n",
              "std       0.022544     0.029099  ...     0.284722     0.267050     0.286911   \n",
              "min       0.000000     0.000000  ...     0.000000     0.000000     0.000000   \n",
              "25%       0.000000     0.000000  ...     0.000000     0.000000     0.000000   \n",
              "50%       0.000000     0.000000  ...     0.000000     0.000000     0.000000   \n",
              "75%       0.000000     0.000000  ...     0.000000     0.000000     0.000000   \n",
              "max       1.000000     1.000000  ...     1.000000     1.000000     1.000000   \n",
              "\n",
              "                 6            7            8            9           10  \\\n",
              "count  5901.000000  5901.000000  5901.000000  5901.000000  5901.000000   \n",
              "mean      0.097950     0.063718     0.056262     0.084731     0.084731   \n",
              "std       0.297272     0.244271     0.230446     0.278505     0.278505   \n",
              "min       0.000000     0.000000     0.000000     0.000000     0.000000   \n",
              "25%       0.000000     0.000000     0.000000     0.000000     0.000000   \n",
              "50%       0.000000     0.000000     0.000000     0.000000     0.000000   \n",
              "75%       0.000000     0.000000     0.000000     0.000000     0.000000   \n",
              "max       1.000000     1.000000     1.000000     1.000000     1.000000   \n",
              "\n",
              "                11           12  \n",
              "count  5901.000000  5901.000000  \n",
              "mean      0.091002     0.092357  \n",
              "std       0.287636     0.289554  \n",
              "min       0.000000     0.000000  \n",
              "25%       0.000000     0.000000  \n",
              "50%       0.000000     0.000000  \n",
              "75%       0.000000     0.000000  \n",
              "max       1.000000     1.000000  \n",
              "\n",
              "[8 rows x 193 columns]"
            ]
          },
          "execution_count": 80,
          "metadata": {},
          "output_type": "execute_result"
        }
      ],
      "source": [
        "X_test.describe()"
      ]
    },
    {
      "cell_type": "code",
      "execution_count": 81,
      "metadata": {
        "id": "XlsgEK0THR0e"
      },
      "outputs": [],
      "source": [
        "#mudando os tipos de nomes das colunas para strings para aplicar o MinMax\n",
        "X_train.columns = X_train.columns.astype(str)\n",
        "X_test.columns = X_test.columns.astype(str)\n",
        "\n",
        "#selecionando os nomes atuais das colunas para depois aplicar no data frame com\n",
        "cols_1 = X_train.columns\n",
        "cols_2 = X_test.columns"
      ]
    },
    {
      "cell_type": "code",
      "execution_count": 82,
      "metadata": {
        "id": "1ZIptg10H1SU"
      },
      "outputs": [],
      "source": [
        "from sklearn.preprocessing import MinMaxScaler\n",
        "\n",
        "scalar = MinMaxScaler()\n",
        "\n",
        "#aplicando MinMax\n",
        "X_train = scalar.fit_transform(X_train)\n",
        "X_test = scalar.transform(X_test)\n",
        "\n",
        "#convertendo novamente para um conjunto de dados\n",
        "X_train = pd.DataFrame(X_train, columns = cols_1)\n",
        "X_test = pd.DataFrame(X_test, columns = cols_2)"
      ]
    },
    {
      "cell_type": "code",
      "execution_count": 83,
      "metadata": {
        "colab": {
          "base_uri": "https://localhost:8080/",
          "height": 349
        },
        "id": "CyyMhrp6H7tl",
        "outputId": "44717dd5-74de-48ee-eaa4-0f8cdd4b2149"
      },
      "outputs": [
        {
          "data": {
            "text/html": [
              "<div>\n",
              "<style scoped>\n",
              "    .dataframe tbody tr th:only-of-type {\n",
              "        vertical-align: middle;\n",
              "    }\n",
              "\n",
              "    .dataframe tbody tr th {\n",
              "        vertical-align: top;\n",
              "    }\n",
              "\n",
              "    .dataframe thead th {\n",
              "        text-align: right;\n",
              "    }\n",
              "</style>\n",
              "<table border=\"1\" class=\"dataframe\">\n",
              "  <thead>\n",
              "    <tr style=\"text-align: right;\">\n",
              "      <th></th>\n",
              "      <th>VALOR_A_PAGAR</th>\n",
              "      <th>TAXA</th>\n",
              "      <th>RENDA_MES_ANTERIOR</th>\n",
              "      <th>NO_FUNCIONARIOS</th>\n",
              "      <th>PRAZO_DE_CREDITO</th>\n",
              "      <th>TEMPO_COMO_CLIENTE</th>\n",
              "      <th>(1</th>\n",
              "      <th>(2</th>\n",
              "      <th>(3</th>\n",
              "      <th>(4</th>\n",
              "      <th>...</th>\n",
              "      <th>3</th>\n",
              "      <th>4</th>\n",
              "      <th>5</th>\n",
              "      <th>6</th>\n",
              "      <th>7</th>\n",
              "      <th>8</th>\n",
              "      <th>9</th>\n",
              "      <th>10</th>\n",
              "      <th>11</th>\n",
              "      <th>12</th>\n",
              "    </tr>\n",
              "  </thead>\n",
              "  <tbody>\n",
              "    <tr>\n",
              "      <th>count</th>\n",
              "      <td>23603.000000</td>\n",
              "      <td>23603.000000</td>\n",
              "      <td>23603.000000</td>\n",
              "      <td>23603.000000</td>\n",
              "      <td>23603.000000</td>\n",
              "      <td>23603.000000</td>\n",
              "      <td>23603.000000</td>\n",
              "      <td>23603.000000</td>\n",
              "      <td>23603.000000</td>\n",
              "      <td>23603.000000</td>\n",
              "      <td>...</td>\n",
              "      <td>23603.000000</td>\n",
              "      <td>23603.000000</td>\n",
              "      <td>23603.000000</td>\n",
              "      <td>23603.000000</td>\n",
              "      <td>23603.000000</td>\n",
              "      <td>23603.000000</td>\n",
              "      <td>23603.000000</td>\n",
              "      <td>23603.000000</td>\n",
              "      <td>23603.000000</td>\n",
              "      <td>23603.000000</td>\n",
              "    </tr>\n",
              "    <tr>\n",
              "      <th>mean</th>\n",
              "      <td>0.009891</td>\n",
              "      <td>0.260984</td>\n",
              "      <td>0.176410</td>\n",
              "      <td>0.593862</td>\n",
              "      <td>0.175707</td>\n",
              "      <td>0.297651</td>\n",
              "      <td>0.002203</td>\n",
              "      <td>0.004533</td>\n",
              "      <td>0.000466</td>\n",
              "      <td>0.000466</td>\n",
              "      <td>...</td>\n",
              "      <td>0.086345</td>\n",
              "      <td>0.081685</td>\n",
              "      <td>0.091471</td>\n",
              "      <td>0.091641</td>\n",
              "      <td>0.059399</td>\n",
              "      <td>0.060416</td>\n",
              "      <td>0.085371</td>\n",
              "      <td>0.091726</td>\n",
              "      <td>0.090921</td>\n",
              "      <td>0.087574</td>\n",
              "    </tr>\n",
              "    <tr>\n",
              "      <th>std</th>\n",
              "      <td>0.011302</td>\n",
              "      <td>0.259700</td>\n",
              "      <td>0.130461</td>\n",
              "      <td>0.101016</td>\n",
              "      <td>0.010673</td>\n",
              "      <td>0.213377</td>\n",
              "      <td>0.046887</td>\n",
              "      <td>0.067179</td>\n",
              "      <td>0.021583</td>\n",
              "      <td>0.021583</td>\n",
              "      <td>...</td>\n",
              "      <td>0.280879</td>\n",
              "      <td>0.273889</td>\n",
              "      <td>0.288284</td>\n",
              "      <td>0.288524</td>\n",
              "      <td>0.236375</td>\n",
              "      <td>0.238261</td>\n",
              "      <td>0.279438</td>\n",
              "      <td>0.288644</td>\n",
              "      <td>0.287502</td>\n",
              "      <td>0.282680</td>\n",
              "    </tr>\n",
              "    <tr>\n",
              "      <th>min</th>\n",
              "      <td>0.000000</td>\n",
              "      <td>0.000000</td>\n",
              "      <td>0.000000</td>\n",
              "      <td>0.000000</td>\n",
              "      <td>0.000000</td>\n",
              "      <td>0.000000</td>\n",
              "      <td>0.000000</td>\n",
              "      <td>0.000000</td>\n",
              "      <td>0.000000</td>\n",
              "      <td>0.000000</td>\n",
              "      <td>...</td>\n",
              "      <td>0.000000</td>\n",
              "      <td>0.000000</td>\n",
              "      <td>0.000000</td>\n",
              "      <td>0.000000</td>\n",
              "      <td>0.000000</td>\n",
              "      <td>0.000000</td>\n",
              "      <td>0.000000</td>\n",
              "      <td>0.000000</td>\n",
              "      <td>0.000000</td>\n",
              "      <td>0.000000</td>\n",
              "    </tr>\n",
              "    <tr>\n",
              "      <th>25%</th>\n",
              "      <td>0.004051</td>\n",
              "      <td>0.142857</td>\n",
              "      <td>0.081770</td>\n",
              "      <td>0.535354</td>\n",
              "      <td>0.172537</td>\n",
              "      <td>0.127065</td>\n",
              "      <td>0.000000</td>\n",
              "      <td>0.000000</td>\n",
              "      <td>0.000000</td>\n",
              "      <td>0.000000</td>\n",
              "      <td>...</td>\n",
              "      <td>0.000000</td>\n",
              "      <td>0.000000</td>\n",
              "      <td>0.000000</td>\n",
              "      <td>0.000000</td>\n",
              "      <td>0.000000</td>\n",
              "      <td>0.000000</td>\n",
              "      <td>0.000000</td>\n",
              "      <td>0.000000</td>\n",
              "      <td>0.000000</td>\n",
              "      <td>0.000000</td>\n",
              "    </tr>\n",
              "    <tr>\n",
              "      <th>50%</th>\n",
              "      <td>0.007460</td>\n",
              "      <td>0.142857</td>\n",
              "      <td>0.148197</td>\n",
              "      <td>0.595960</td>\n",
              "      <td>0.173328</td>\n",
              "      <td>0.253593</td>\n",
              "      <td>0.000000</td>\n",
              "      <td>0.000000</td>\n",
              "      <td>0.000000</td>\n",
              "      <td>0.000000</td>\n",
              "      <td>...</td>\n",
              "      <td>0.000000</td>\n",
              "      <td>0.000000</td>\n",
              "      <td>0.000000</td>\n",
              "      <td>0.000000</td>\n",
              "      <td>0.000000</td>\n",
              "      <td>0.000000</td>\n",
              "      <td>0.000000</td>\n",
              "      <td>0.000000</td>\n",
              "      <td>0.000000</td>\n",
              "      <td>0.000000</td>\n",
              "    </tr>\n",
              "    <tr>\n",
              "      <th>75%</th>\n",
              "      <td>0.012592</td>\n",
              "      <td>0.285714</td>\n",
              "      <td>0.236943</td>\n",
              "      <td>0.651515</td>\n",
              "      <td>0.176098</td>\n",
              "      <td>0.411551</td>\n",
              "      <td>0.000000</td>\n",
              "      <td>0.000000</td>\n",
              "      <td>0.000000</td>\n",
              "      <td>0.000000</td>\n",
              "      <td>...</td>\n",
              "      <td>0.000000</td>\n",
              "      <td>0.000000</td>\n",
              "      <td>0.000000</td>\n",
              "      <td>0.000000</td>\n",
              "      <td>0.000000</td>\n",
              "      <td>0.000000</td>\n",
              "      <td>0.000000</td>\n",
              "      <td>0.000000</td>\n",
              "      <td>0.000000</td>\n",
              "      <td>0.000000</td>\n",
              "    </tr>\n",
              "    <tr>\n",
              "      <th>max</th>\n",
              "      <td>1.000000</td>\n",
              "      <td>1.000000</td>\n",
              "      <td>1.000000</td>\n",
              "      <td>1.000000</td>\n",
              "      <td>1.000000</td>\n",
              "      <td>1.000000</td>\n",
              "      <td>1.000000</td>\n",
              "      <td>1.000000</td>\n",
              "      <td>1.000000</td>\n",
              "      <td>1.000000</td>\n",
              "      <td>...</td>\n",
              "      <td>1.000000</td>\n",
              "      <td>1.000000</td>\n",
              "      <td>1.000000</td>\n",
              "      <td>1.000000</td>\n",
              "      <td>1.000000</td>\n",
              "      <td>1.000000</td>\n",
              "      <td>1.000000</td>\n",
              "      <td>1.000000</td>\n",
              "      <td>1.000000</td>\n",
              "      <td>1.000000</td>\n",
              "    </tr>\n",
              "  </tbody>\n",
              "</table>\n",
              "<p>8 rows × 193 columns</p>\n",
              "</div>"
            ],
            "text/plain": [
              "       VALOR_A_PAGAR          TAXA  RENDA_MES_ANTERIOR  NO_FUNCIONARIOS  \\\n",
              "count   23603.000000  23603.000000        23603.000000     23603.000000   \n",
              "mean        0.009891      0.260984            0.176410         0.593862   \n",
              "std         0.011302      0.259700            0.130461         0.101016   \n",
              "min         0.000000      0.000000            0.000000         0.000000   \n",
              "25%         0.004051      0.142857            0.081770         0.535354   \n",
              "50%         0.007460      0.142857            0.148197         0.595960   \n",
              "75%         0.012592      0.285714            0.236943         0.651515   \n",
              "max         1.000000      1.000000            1.000000         1.000000   \n",
              "\n",
              "       PRAZO_DE_CREDITO  TEMPO_COMO_CLIENTE            (1            (2  \\\n",
              "count      23603.000000        23603.000000  23603.000000  23603.000000   \n",
              "mean           0.175707            0.297651      0.002203      0.004533   \n",
              "std            0.010673            0.213377      0.046887      0.067179   \n",
              "min            0.000000            0.000000      0.000000      0.000000   \n",
              "25%            0.172537            0.127065      0.000000      0.000000   \n",
              "50%            0.173328            0.253593      0.000000      0.000000   \n",
              "75%            0.176098            0.411551      0.000000      0.000000   \n",
              "max            1.000000            1.000000      1.000000      1.000000   \n",
              "\n",
              "                 (3            (4  ...             3             4  \\\n",
              "count  23603.000000  23603.000000  ...  23603.000000  23603.000000   \n",
              "mean       0.000466      0.000466  ...      0.086345      0.081685   \n",
              "std        0.021583      0.021583  ...      0.280879      0.273889   \n",
              "min        0.000000      0.000000  ...      0.000000      0.000000   \n",
              "25%        0.000000      0.000000  ...      0.000000      0.000000   \n",
              "50%        0.000000      0.000000  ...      0.000000      0.000000   \n",
              "75%        0.000000      0.000000  ...      0.000000      0.000000   \n",
              "max        1.000000      1.000000  ...      1.000000      1.000000   \n",
              "\n",
              "                  5             6             7             8             9  \\\n",
              "count  23603.000000  23603.000000  23603.000000  23603.000000  23603.000000   \n",
              "mean       0.091471      0.091641      0.059399      0.060416      0.085371   \n",
              "std        0.288284      0.288524      0.236375      0.238261      0.279438   \n",
              "min        0.000000      0.000000      0.000000      0.000000      0.000000   \n",
              "25%        0.000000      0.000000      0.000000      0.000000      0.000000   \n",
              "50%        0.000000      0.000000      0.000000      0.000000      0.000000   \n",
              "75%        0.000000      0.000000      0.000000      0.000000      0.000000   \n",
              "max        1.000000      1.000000      1.000000      1.000000      1.000000   \n",
              "\n",
              "                 10            11            12  \n",
              "count  23603.000000  23603.000000  23603.000000  \n",
              "mean       0.091726      0.090921      0.087574  \n",
              "std        0.288644      0.287502      0.282680  \n",
              "min        0.000000      0.000000      0.000000  \n",
              "25%        0.000000      0.000000      0.000000  \n",
              "50%        0.000000      0.000000      0.000000  \n",
              "75%        0.000000      0.000000      0.000000  \n",
              "max        1.000000      1.000000      1.000000  \n",
              "\n",
              "[8 rows x 193 columns]"
            ]
          },
          "execution_count": 83,
          "metadata": {},
          "output_type": "execute_result"
        }
      ],
      "source": [
        "#verificando mudanças feitas nos dados de treino\n",
        "X_train.describe()"
      ]
    },
    {
      "cell_type": "code",
      "execution_count": 84,
      "metadata": {
        "colab": {
          "base_uri": "https://localhost:8080/",
          "height": 349
        },
        "id": "rXdrsGOpH7xR",
        "outputId": "dbf1e4d6-a721-4dfd-b348-3437a6e94cbc"
      },
      "outputs": [
        {
          "data": {
            "text/html": [
              "<div>\n",
              "<style scoped>\n",
              "    .dataframe tbody tr th:only-of-type {\n",
              "        vertical-align: middle;\n",
              "    }\n",
              "\n",
              "    .dataframe tbody tr th {\n",
              "        vertical-align: top;\n",
              "    }\n",
              "\n",
              "    .dataframe thead th {\n",
              "        text-align: right;\n",
              "    }\n",
              "</style>\n",
              "<table border=\"1\" class=\"dataframe\">\n",
              "  <thead>\n",
              "    <tr style=\"text-align: right;\">\n",
              "      <th></th>\n",
              "      <th>VALOR_A_PAGAR</th>\n",
              "      <th>TAXA</th>\n",
              "      <th>RENDA_MES_ANTERIOR</th>\n",
              "      <th>NO_FUNCIONARIOS</th>\n",
              "      <th>PRAZO_DE_CREDITO</th>\n",
              "      <th>TEMPO_COMO_CLIENTE</th>\n",
              "      <th>(1</th>\n",
              "      <th>(2</th>\n",
              "      <th>(3</th>\n",
              "      <th>(4</th>\n",
              "      <th>...</th>\n",
              "      <th>3</th>\n",
              "      <th>4</th>\n",
              "      <th>5</th>\n",
              "      <th>6</th>\n",
              "      <th>7</th>\n",
              "      <th>8</th>\n",
              "      <th>9</th>\n",
              "      <th>10</th>\n",
              "      <th>11</th>\n",
              "      <th>12</th>\n",
              "    </tr>\n",
              "  </thead>\n",
              "  <tbody>\n",
              "    <tr>\n",
              "      <th>count</th>\n",
              "      <td>5901.000000</td>\n",
              "      <td>5901.000000</td>\n",
              "      <td>5901.000000</td>\n",
              "      <td>5901.000000</td>\n",
              "      <td>5901.000000</td>\n",
              "      <td>5901.000000</td>\n",
              "      <td>5901.000000</td>\n",
              "      <td>5901.000000</td>\n",
              "      <td>5901.000000</td>\n",
              "      <td>5901.000000</td>\n",
              "      <td>...</td>\n",
              "      <td>5901.000000</td>\n",
              "      <td>5901.000000</td>\n",
              "      <td>5901.000000</td>\n",
              "      <td>5901.000000</td>\n",
              "      <td>5901.000000</td>\n",
              "      <td>5901.000000</td>\n",
              "      <td>5901.000000</td>\n",
              "      <td>5901.000000</td>\n",
              "      <td>5901.000000</td>\n",
              "      <td>5901.000000</td>\n",
              "    </tr>\n",
              "    <tr>\n",
              "      <th>mean</th>\n",
              "      <td>0.009921</td>\n",
              "      <td>0.257874</td>\n",
              "      <td>0.176629</td>\n",
              "      <td>0.594564</td>\n",
              "      <td>0.175785</td>\n",
              "      <td>0.293388</td>\n",
              "      <td>0.001525</td>\n",
              "      <td>0.006101</td>\n",
              "      <td>0.000508</td>\n",
              "      <td>0.000847</td>\n",
              "      <td>...</td>\n",
              "      <td>0.088968</td>\n",
              "      <td>0.077275</td>\n",
              "      <td>0.090493</td>\n",
              "      <td>0.097950</td>\n",
              "      <td>0.063718</td>\n",
              "      <td>0.056262</td>\n",
              "      <td>0.084731</td>\n",
              "      <td>0.084731</td>\n",
              "      <td>0.091002</td>\n",
              "      <td>0.092357</td>\n",
              "    </tr>\n",
              "    <tr>\n",
              "      <th>std</th>\n",
              "      <td>0.008891</td>\n",
              "      <td>0.256590</td>\n",
              "      <td>0.132844</td>\n",
              "      <td>0.101076</td>\n",
              "      <td>0.007634</td>\n",
              "      <td>0.215495</td>\n",
              "      <td>0.039027</td>\n",
              "      <td>0.077875</td>\n",
              "      <td>0.022544</td>\n",
              "      <td>0.029099</td>\n",
              "      <td>...</td>\n",
              "      <td>0.284722</td>\n",
              "      <td>0.267050</td>\n",
              "      <td>0.286911</td>\n",
              "      <td>0.297272</td>\n",
              "      <td>0.244271</td>\n",
              "      <td>0.230446</td>\n",
              "      <td>0.278505</td>\n",
              "      <td>0.278505</td>\n",
              "      <td>0.287636</td>\n",
              "      <td>0.289554</td>\n",
              "    </tr>\n",
              "    <tr>\n",
              "      <th>min</th>\n",
              "      <td>0.000001</td>\n",
              "      <td>0.000000</td>\n",
              "      <td>0.000000</td>\n",
              "      <td>0.000000</td>\n",
              "      <td>0.064899</td>\n",
              "      <td>0.000269</td>\n",
              "      <td>0.000000</td>\n",
              "      <td>0.000000</td>\n",
              "      <td>0.000000</td>\n",
              "      <td>0.000000</td>\n",
              "      <td>...</td>\n",
              "      <td>0.000000</td>\n",
              "      <td>0.000000</td>\n",
              "      <td>0.000000</td>\n",
              "      <td>0.000000</td>\n",
              "      <td>0.000000</td>\n",
              "      <td>0.000000</td>\n",
              "      <td>0.000000</td>\n",
              "      <td>0.000000</td>\n",
              "      <td>0.000000</td>\n",
              "      <td>0.000000</td>\n",
              "    </tr>\n",
              "    <tr>\n",
              "      <th>25%</th>\n",
              "      <td>0.004038</td>\n",
              "      <td>0.142857</td>\n",
              "      <td>0.080003</td>\n",
              "      <td>0.535354</td>\n",
              "      <td>0.172537</td>\n",
              "      <td>0.120484</td>\n",
              "      <td>0.000000</td>\n",
              "      <td>0.000000</td>\n",
              "      <td>0.000000</td>\n",
              "      <td>0.000000</td>\n",
              "      <td>...</td>\n",
              "      <td>0.000000</td>\n",
              "      <td>0.000000</td>\n",
              "      <td>0.000000</td>\n",
              "      <td>0.000000</td>\n",
              "      <td>0.000000</td>\n",
              "      <td>0.000000</td>\n",
              "      <td>0.000000</td>\n",
              "      <td>0.000000</td>\n",
              "      <td>0.000000</td>\n",
              "      <td>0.000000</td>\n",
              "    </tr>\n",
              "    <tr>\n",
              "      <th>50%</th>\n",
              "      <td>0.007478</td>\n",
              "      <td>0.142857</td>\n",
              "      <td>0.148197</td>\n",
              "      <td>0.595960</td>\n",
              "      <td>0.173724</td>\n",
              "      <td>0.246340</td>\n",
              "      <td>0.000000</td>\n",
              "      <td>0.000000</td>\n",
              "      <td>0.000000</td>\n",
              "      <td>0.000000</td>\n",
              "      <td>...</td>\n",
              "      <td>0.000000</td>\n",
              "      <td>0.000000</td>\n",
              "      <td>0.000000</td>\n",
              "      <td>0.000000</td>\n",
              "      <td>0.000000</td>\n",
              "      <td>0.000000</td>\n",
              "      <td>0.000000</td>\n",
              "      <td>0.000000</td>\n",
              "      <td>0.000000</td>\n",
              "      <td>0.000000</td>\n",
              "    </tr>\n",
              "    <tr>\n",
              "      <th>75%</th>\n",
              "      <td>0.012832</td>\n",
              "      <td>0.285714</td>\n",
              "      <td>0.233352</td>\n",
              "      <td>0.651515</td>\n",
              "      <td>0.176098</td>\n",
              "      <td>0.408596</td>\n",
              "      <td>0.000000</td>\n",
              "      <td>0.000000</td>\n",
              "      <td>0.000000</td>\n",
              "      <td>0.000000</td>\n",
              "      <td>...</td>\n",
              "      <td>0.000000</td>\n",
              "      <td>0.000000</td>\n",
              "      <td>0.000000</td>\n",
              "      <td>0.000000</td>\n",
              "      <td>0.000000</td>\n",
              "      <td>0.000000</td>\n",
              "      <td>0.000000</td>\n",
              "      <td>0.000000</td>\n",
              "      <td>0.000000</td>\n",
              "      <td>0.000000</td>\n",
              "    </tr>\n",
              "    <tr>\n",
              "      <th>max</th>\n",
              "      <td>0.063791</td>\n",
              "      <td>1.000000</td>\n",
              "      <td>1.000000</td>\n",
              "      <td>0.934343</td>\n",
              "      <td>0.419470</td>\n",
              "      <td>1.000000</td>\n",
              "      <td>1.000000</td>\n",
              "      <td>1.000000</td>\n",
              "      <td>1.000000</td>\n",
              "      <td>1.000000</td>\n",
              "      <td>...</td>\n",
              "      <td>1.000000</td>\n",
              "      <td>1.000000</td>\n",
              "      <td>1.000000</td>\n",
              "      <td>1.000000</td>\n",
              "      <td>1.000000</td>\n",
              "      <td>1.000000</td>\n",
              "      <td>1.000000</td>\n",
              "      <td>1.000000</td>\n",
              "      <td>1.000000</td>\n",
              "      <td>1.000000</td>\n",
              "    </tr>\n",
              "  </tbody>\n",
              "</table>\n",
              "<p>8 rows × 193 columns</p>\n",
              "</div>"
            ],
            "text/plain": [
              "       VALOR_A_PAGAR         TAXA  RENDA_MES_ANTERIOR  NO_FUNCIONARIOS  \\\n",
              "count    5901.000000  5901.000000         5901.000000      5901.000000   \n",
              "mean        0.009921     0.257874            0.176629         0.594564   \n",
              "std         0.008891     0.256590            0.132844         0.101076   \n",
              "min         0.000001     0.000000            0.000000         0.000000   \n",
              "25%         0.004038     0.142857            0.080003         0.535354   \n",
              "50%         0.007478     0.142857            0.148197         0.595960   \n",
              "75%         0.012832     0.285714            0.233352         0.651515   \n",
              "max         0.063791     1.000000            1.000000         0.934343   \n",
              "\n",
              "       PRAZO_DE_CREDITO  TEMPO_COMO_CLIENTE           (1           (2  \\\n",
              "count       5901.000000         5901.000000  5901.000000  5901.000000   \n",
              "mean           0.175785            0.293388     0.001525     0.006101   \n",
              "std            0.007634            0.215495     0.039027     0.077875   \n",
              "min            0.064899            0.000269     0.000000     0.000000   \n",
              "25%            0.172537            0.120484     0.000000     0.000000   \n",
              "50%            0.173724            0.246340     0.000000     0.000000   \n",
              "75%            0.176098            0.408596     0.000000     0.000000   \n",
              "max            0.419470            1.000000     1.000000     1.000000   \n",
              "\n",
              "                (3           (4  ...            3            4            5  \\\n",
              "count  5901.000000  5901.000000  ...  5901.000000  5901.000000  5901.000000   \n",
              "mean      0.000508     0.000847  ...     0.088968     0.077275     0.090493   \n",
              "std       0.022544     0.029099  ...     0.284722     0.267050     0.286911   \n",
              "min       0.000000     0.000000  ...     0.000000     0.000000     0.000000   \n",
              "25%       0.000000     0.000000  ...     0.000000     0.000000     0.000000   \n",
              "50%       0.000000     0.000000  ...     0.000000     0.000000     0.000000   \n",
              "75%       0.000000     0.000000  ...     0.000000     0.000000     0.000000   \n",
              "max       1.000000     1.000000  ...     1.000000     1.000000     1.000000   \n",
              "\n",
              "                 6            7            8            9           10  \\\n",
              "count  5901.000000  5901.000000  5901.000000  5901.000000  5901.000000   \n",
              "mean      0.097950     0.063718     0.056262     0.084731     0.084731   \n",
              "std       0.297272     0.244271     0.230446     0.278505     0.278505   \n",
              "min       0.000000     0.000000     0.000000     0.000000     0.000000   \n",
              "25%       0.000000     0.000000     0.000000     0.000000     0.000000   \n",
              "50%       0.000000     0.000000     0.000000     0.000000     0.000000   \n",
              "75%       0.000000     0.000000     0.000000     0.000000     0.000000   \n",
              "max       1.000000     1.000000     1.000000     1.000000     1.000000   \n",
              "\n",
              "                11           12  \n",
              "count  5901.000000  5901.000000  \n",
              "mean      0.091002     0.092357  \n",
              "std       0.287636     0.289554  \n",
              "min       0.000000     0.000000  \n",
              "25%       0.000000     0.000000  \n",
              "50%       0.000000     0.000000  \n",
              "75%       0.000000     0.000000  \n",
              "max       1.000000     1.000000  \n",
              "\n",
              "[8 rows x 193 columns]"
            ]
          },
          "execution_count": 84,
          "metadata": {},
          "output_type": "execute_result"
        }
      ],
      "source": [
        "#verificando mudanças feitas nos dados de teste\n",
        "X_test.describe()"
      ]
    },
    {
      "cell_type": "markdown",
      "metadata": {
        "id": "96FbbH5AioES"
      },
      "source": [
        "---\n",
        "## 3. Treinando o Modelo"
      ]
    },
    {
      "cell_type": "markdown",
      "metadata": {
        "id": "XFPCaUJtkFb1"
      },
      "source": [
        "### 3.1. Treinadno o modelo"
      ]
    },
    {
      "cell_type": "markdown",
      "metadata": {
        "id": "dxEZshZ5LoYK"
      },
      "source": [
        "Feito todos os ajustes e tratamentos nos dados, podemos finalmente usar estes no treinamento do modelo de regrerção logistica. Essa parte será mais rápida que as etapas anteriores, pois o modelo já está implementado de forma nativa no `sklearn`."
      ]
    },
    {
      "cell_type": "code",
      "execution_count": 85,
      "metadata": {
        "id": "u8sekeRjO_gr"
      },
      "outputs": [],
      "source": [
        "#convertendo variaveis de y_train para o formato certo\n",
        "y_train = y_train.astype(int)"
      ]
    },
    {
      "cell_type": "code",
      "execution_count": 86,
      "metadata": {
        "colab": {
          "base_uri": "https://localhost:8080/",
          "height": 137
        },
        "id": "F_NRVsvtjmaB",
        "outputId": "3dad78b7-0464-41b2-d05f-9374bc2f6784"
      },
      "outputs": [
        {
          "name": "stderr",
          "output_type": "stream",
          "text": [
            "c:\\Users\\D0ugl\\AppData\\Local\\Programs\\Python\\Python312\\Lib\\site-packages\\sklearn\\utils\\validation.py:1406: DataConversionWarning: A column-vector y was passed when a 1d array was expected. Please change the shape of y to (n_samples, ), for example using ravel().\n",
            "  y = column_or_1d(y, warn=True)\n"
          ]
        },
        {
          "data": {
            "text/html": [
              "<style>#sk-container-id-1 {\n",
              "  /* Definition of color scheme common for light and dark mode */\n",
              "  --sklearn-color-text: #000;\n",
              "  --sklearn-color-text-muted: #666;\n",
              "  --sklearn-color-line: gray;\n",
              "  /* Definition of color scheme for unfitted estimators */\n",
              "  --sklearn-color-unfitted-level-0: #fff5e6;\n",
              "  --sklearn-color-unfitted-level-1: #f6e4d2;\n",
              "  --sklearn-color-unfitted-level-2: #ffe0b3;\n",
              "  --sklearn-color-unfitted-level-3: chocolate;\n",
              "  /* Definition of color scheme for fitted estimators */\n",
              "  --sklearn-color-fitted-level-0: #f0f8ff;\n",
              "  --sklearn-color-fitted-level-1: #d4ebff;\n",
              "  --sklearn-color-fitted-level-2: #b3dbfd;\n",
              "  --sklearn-color-fitted-level-3: cornflowerblue;\n",
              "\n",
              "  /* Specific color for light theme */\n",
              "  --sklearn-color-text-on-default-background: var(--sg-text-color, var(--theme-code-foreground, var(--jp-content-font-color1, black)));\n",
              "  --sklearn-color-background: var(--sg-background-color, var(--theme-background, var(--jp-layout-color0, white)));\n",
              "  --sklearn-color-border-box: var(--sg-text-color, var(--theme-code-foreground, var(--jp-content-font-color1, black)));\n",
              "  --sklearn-color-icon: #696969;\n",
              "\n",
              "  @media (prefers-color-scheme: dark) {\n",
              "    /* Redefinition of color scheme for dark theme */\n",
              "    --sklearn-color-text-on-default-background: var(--sg-text-color, var(--theme-code-foreground, var(--jp-content-font-color1, white)));\n",
              "    --sklearn-color-background: var(--sg-background-color, var(--theme-background, var(--jp-layout-color0, #111)));\n",
              "    --sklearn-color-border-box: var(--sg-text-color, var(--theme-code-foreground, var(--jp-content-font-color1, white)));\n",
              "    --sklearn-color-icon: #878787;\n",
              "  }\n",
              "}\n",
              "\n",
              "#sk-container-id-1 {\n",
              "  color: var(--sklearn-color-text);\n",
              "}\n",
              "\n",
              "#sk-container-id-1 pre {\n",
              "  padding: 0;\n",
              "}\n",
              "\n",
              "#sk-container-id-1 input.sk-hidden--visually {\n",
              "  border: 0;\n",
              "  clip: rect(1px 1px 1px 1px);\n",
              "  clip: rect(1px, 1px, 1px, 1px);\n",
              "  height: 1px;\n",
              "  margin: -1px;\n",
              "  overflow: hidden;\n",
              "  padding: 0;\n",
              "  position: absolute;\n",
              "  width: 1px;\n",
              "}\n",
              "\n",
              "#sk-container-id-1 div.sk-dashed-wrapped {\n",
              "  border: 1px dashed var(--sklearn-color-line);\n",
              "  margin: 0 0.4em 0.5em 0.4em;\n",
              "  box-sizing: border-box;\n",
              "  padding-bottom: 0.4em;\n",
              "  background-color: var(--sklearn-color-background);\n",
              "}\n",
              "\n",
              "#sk-container-id-1 div.sk-container {\n",
              "  /* jupyter's `normalize.less` sets `[hidden] { display: none; }`\n",
              "     but bootstrap.min.css set `[hidden] { display: none !important; }`\n",
              "     so we also need the `!important` here to be able to override the\n",
              "     default hidden behavior on the sphinx rendered scikit-learn.org.\n",
              "     See: https://github.com/scikit-learn/scikit-learn/issues/21755 */\n",
              "  display: inline-block !important;\n",
              "  position: relative;\n",
              "}\n",
              "\n",
              "#sk-container-id-1 div.sk-text-repr-fallback {\n",
              "  display: none;\n",
              "}\n",
              "\n",
              "div.sk-parallel-item,\n",
              "div.sk-serial,\n",
              "div.sk-item {\n",
              "  /* draw centered vertical line to link estimators */\n",
              "  background-image: linear-gradient(var(--sklearn-color-text-on-default-background), var(--sklearn-color-text-on-default-background));\n",
              "  background-size: 2px 100%;\n",
              "  background-repeat: no-repeat;\n",
              "  background-position: center center;\n",
              "}\n",
              "\n",
              "/* Parallel-specific style estimator block */\n",
              "\n",
              "#sk-container-id-1 div.sk-parallel-item::after {\n",
              "  content: \"\";\n",
              "  width: 100%;\n",
              "  border-bottom: 2px solid var(--sklearn-color-text-on-default-background);\n",
              "  flex-grow: 1;\n",
              "}\n",
              "\n",
              "#sk-container-id-1 div.sk-parallel {\n",
              "  display: flex;\n",
              "  align-items: stretch;\n",
              "  justify-content: center;\n",
              "  background-color: var(--sklearn-color-background);\n",
              "  position: relative;\n",
              "}\n",
              "\n",
              "#sk-container-id-1 div.sk-parallel-item {\n",
              "  display: flex;\n",
              "  flex-direction: column;\n",
              "}\n",
              "\n",
              "#sk-container-id-1 div.sk-parallel-item:first-child::after {\n",
              "  align-self: flex-end;\n",
              "  width: 50%;\n",
              "}\n",
              "\n",
              "#sk-container-id-1 div.sk-parallel-item:last-child::after {\n",
              "  align-self: flex-start;\n",
              "  width: 50%;\n",
              "}\n",
              "\n",
              "#sk-container-id-1 div.sk-parallel-item:only-child::after {\n",
              "  width: 0;\n",
              "}\n",
              "\n",
              "/* Serial-specific style estimator block */\n",
              "\n",
              "#sk-container-id-1 div.sk-serial {\n",
              "  display: flex;\n",
              "  flex-direction: column;\n",
              "  align-items: center;\n",
              "  background-color: var(--sklearn-color-background);\n",
              "  padding-right: 1em;\n",
              "  padding-left: 1em;\n",
              "}\n",
              "\n",
              "\n",
              "/* Toggleable style: style used for estimator/Pipeline/ColumnTransformer box that is\n",
              "clickable and can be expanded/collapsed.\n",
              "- Pipeline and ColumnTransformer use this feature and define the default style\n",
              "- Estimators will overwrite some part of the style using the `sk-estimator` class\n",
              "*/\n",
              "\n",
              "/* Pipeline and ColumnTransformer style (default) */\n",
              "\n",
              "#sk-container-id-1 div.sk-toggleable {\n",
              "  /* Default theme specific background. It is overwritten whether we have a\n",
              "  specific estimator or a Pipeline/ColumnTransformer */\n",
              "  background-color: var(--sklearn-color-background);\n",
              "}\n",
              "\n",
              "/* Toggleable label */\n",
              "#sk-container-id-1 label.sk-toggleable__label {\n",
              "  cursor: pointer;\n",
              "  display: flex;\n",
              "  width: 100%;\n",
              "  margin-bottom: 0;\n",
              "  padding: 0.5em;\n",
              "  box-sizing: border-box;\n",
              "  text-align: center;\n",
              "  align-items: start;\n",
              "  justify-content: space-between;\n",
              "  gap: 0.5em;\n",
              "}\n",
              "\n",
              "#sk-container-id-1 label.sk-toggleable__label .caption {\n",
              "  font-size: 0.6rem;\n",
              "  font-weight: lighter;\n",
              "  color: var(--sklearn-color-text-muted);\n",
              "}\n",
              "\n",
              "#sk-container-id-1 label.sk-toggleable__label-arrow:before {\n",
              "  /* Arrow on the left of the label */\n",
              "  content: \"▸\";\n",
              "  float: left;\n",
              "  margin-right: 0.25em;\n",
              "  color: var(--sklearn-color-icon);\n",
              "}\n",
              "\n",
              "#sk-container-id-1 label.sk-toggleable__label-arrow:hover:before {\n",
              "  color: var(--sklearn-color-text);\n",
              "}\n",
              "\n",
              "/* Toggleable content - dropdown */\n",
              "\n",
              "#sk-container-id-1 div.sk-toggleable__content {\n",
              "  display: none;\n",
              "  text-align: left;\n",
              "  /* unfitted */\n",
              "  background-color: var(--sklearn-color-unfitted-level-0);\n",
              "}\n",
              "\n",
              "#sk-container-id-1 div.sk-toggleable__content.fitted {\n",
              "  /* fitted */\n",
              "  background-color: var(--sklearn-color-fitted-level-0);\n",
              "}\n",
              "\n",
              "#sk-container-id-1 div.sk-toggleable__content pre {\n",
              "  margin: 0.2em;\n",
              "  border-radius: 0.25em;\n",
              "  color: var(--sklearn-color-text);\n",
              "  /* unfitted */\n",
              "  background-color: var(--sklearn-color-unfitted-level-0);\n",
              "}\n",
              "\n",
              "#sk-container-id-1 div.sk-toggleable__content.fitted pre {\n",
              "  /* unfitted */\n",
              "  background-color: var(--sklearn-color-fitted-level-0);\n",
              "}\n",
              "\n",
              "#sk-container-id-1 input.sk-toggleable__control:checked~div.sk-toggleable__content {\n",
              "  /* Expand drop-down */\n",
              "  display: block;\n",
              "  width: 100%;\n",
              "  overflow: visible;\n",
              "}\n",
              "\n",
              "#sk-container-id-1 input.sk-toggleable__control:checked~label.sk-toggleable__label-arrow:before {\n",
              "  content: \"▾\";\n",
              "}\n",
              "\n",
              "/* Pipeline/ColumnTransformer-specific style */\n",
              "\n",
              "#sk-container-id-1 div.sk-label input.sk-toggleable__control:checked~label.sk-toggleable__label {\n",
              "  color: var(--sklearn-color-text);\n",
              "  background-color: var(--sklearn-color-unfitted-level-2);\n",
              "}\n",
              "\n",
              "#sk-container-id-1 div.sk-label.fitted input.sk-toggleable__control:checked~label.sk-toggleable__label {\n",
              "  background-color: var(--sklearn-color-fitted-level-2);\n",
              "}\n",
              "\n",
              "/* Estimator-specific style */\n",
              "\n",
              "/* Colorize estimator box */\n",
              "#sk-container-id-1 div.sk-estimator input.sk-toggleable__control:checked~label.sk-toggleable__label {\n",
              "  /* unfitted */\n",
              "  background-color: var(--sklearn-color-unfitted-level-2);\n",
              "}\n",
              "\n",
              "#sk-container-id-1 div.sk-estimator.fitted input.sk-toggleable__control:checked~label.sk-toggleable__label {\n",
              "  /* fitted */\n",
              "  background-color: var(--sklearn-color-fitted-level-2);\n",
              "}\n",
              "\n",
              "#sk-container-id-1 div.sk-label label.sk-toggleable__label,\n",
              "#sk-container-id-1 div.sk-label label {\n",
              "  /* The background is the default theme color */\n",
              "  color: var(--sklearn-color-text-on-default-background);\n",
              "}\n",
              "\n",
              "/* On hover, darken the color of the background */\n",
              "#sk-container-id-1 div.sk-label:hover label.sk-toggleable__label {\n",
              "  color: var(--sklearn-color-text);\n",
              "  background-color: var(--sklearn-color-unfitted-level-2);\n",
              "}\n",
              "\n",
              "/* Label box, darken color on hover, fitted */\n",
              "#sk-container-id-1 div.sk-label.fitted:hover label.sk-toggleable__label.fitted {\n",
              "  color: var(--sklearn-color-text);\n",
              "  background-color: var(--sklearn-color-fitted-level-2);\n",
              "}\n",
              "\n",
              "/* Estimator label */\n",
              "\n",
              "#sk-container-id-1 div.sk-label label {\n",
              "  font-family: monospace;\n",
              "  font-weight: bold;\n",
              "  display: inline-block;\n",
              "  line-height: 1.2em;\n",
              "}\n",
              "\n",
              "#sk-container-id-1 div.sk-label-container {\n",
              "  text-align: center;\n",
              "}\n",
              "\n",
              "/* Estimator-specific */\n",
              "#sk-container-id-1 div.sk-estimator {\n",
              "  font-family: monospace;\n",
              "  border: 1px dotted var(--sklearn-color-border-box);\n",
              "  border-radius: 0.25em;\n",
              "  box-sizing: border-box;\n",
              "  margin-bottom: 0.5em;\n",
              "  /* unfitted */\n",
              "  background-color: var(--sklearn-color-unfitted-level-0);\n",
              "}\n",
              "\n",
              "#sk-container-id-1 div.sk-estimator.fitted {\n",
              "  /* fitted */\n",
              "  background-color: var(--sklearn-color-fitted-level-0);\n",
              "}\n",
              "\n",
              "/* on hover */\n",
              "#sk-container-id-1 div.sk-estimator:hover {\n",
              "  /* unfitted */\n",
              "  background-color: var(--sklearn-color-unfitted-level-2);\n",
              "}\n",
              "\n",
              "#sk-container-id-1 div.sk-estimator.fitted:hover {\n",
              "  /* fitted */\n",
              "  background-color: var(--sklearn-color-fitted-level-2);\n",
              "}\n",
              "\n",
              "/* Specification for estimator info (e.g. \"i\" and \"?\") */\n",
              "\n",
              "/* Common style for \"i\" and \"?\" */\n",
              "\n",
              ".sk-estimator-doc-link,\n",
              "a:link.sk-estimator-doc-link,\n",
              "a:visited.sk-estimator-doc-link {\n",
              "  float: right;\n",
              "  font-size: smaller;\n",
              "  line-height: 1em;\n",
              "  font-family: monospace;\n",
              "  background-color: var(--sklearn-color-background);\n",
              "  border-radius: 1em;\n",
              "  height: 1em;\n",
              "  width: 1em;\n",
              "  text-decoration: none !important;\n",
              "  margin-left: 0.5em;\n",
              "  text-align: center;\n",
              "  /* unfitted */\n",
              "  border: var(--sklearn-color-unfitted-level-1) 1pt solid;\n",
              "  color: var(--sklearn-color-unfitted-level-1);\n",
              "}\n",
              "\n",
              ".sk-estimator-doc-link.fitted,\n",
              "a:link.sk-estimator-doc-link.fitted,\n",
              "a:visited.sk-estimator-doc-link.fitted {\n",
              "  /* fitted */\n",
              "  border: var(--sklearn-color-fitted-level-1) 1pt solid;\n",
              "  color: var(--sklearn-color-fitted-level-1);\n",
              "}\n",
              "\n",
              "/* On hover */\n",
              "div.sk-estimator:hover .sk-estimator-doc-link:hover,\n",
              ".sk-estimator-doc-link:hover,\n",
              "div.sk-label-container:hover .sk-estimator-doc-link:hover,\n",
              ".sk-estimator-doc-link:hover {\n",
              "  /* unfitted */\n",
              "  background-color: var(--sklearn-color-unfitted-level-3);\n",
              "  color: var(--sklearn-color-background);\n",
              "  text-decoration: none;\n",
              "}\n",
              "\n",
              "div.sk-estimator.fitted:hover .sk-estimator-doc-link.fitted:hover,\n",
              ".sk-estimator-doc-link.fitted:hover,\n",
              "div.sk-label-container:hover .sk-estimator-doc-link.fitted:hover,\n",
              ".sk-estimator-doc-link.fitted:hover {\n",
              "  /* fitted */\n",
              "  background-color: var(--sklearn-color-fitted-level-3);\n",
              "  color: var(--sklearn-color-background);\n",
              "  text-decoration: none;\n",
              "}\n",
              "\n",
              "/* Span, style for the box shown on hovering the info icon */\n",
              ".sk-estimator-doc-link span {\n",
              "  display: none;\n",
              "  z-index: 9999;\n",
              "  position: relative;\n",
              "  font-weight: normal;\n",
              "  right: .2ex;\n",
              "  padding: .5ex;\n",
              "  margin: .5ex;\n",
              "  width: min-content;\n",
              "  min-width: 20ex;\n",
              "  max-width: 50ex;\n",
              "  color: var(--sklearn-color-text);\n",
              "  box-shadow: 2pt 2pt 4pt #999;\n",
              "  /* unfitted */\n",
              "  background: var(--sklearn-color-unfitted-level-0);\n",
              "  border: .5pt solid var(--sklearn-color-unfitted-level-3);\n",
              "}\n",
              "\n",
              ".sk-estimator-doc-link.fitted span {\n",
              "  /* fitted */\n",
              "  background: var(--sklearn-color-fitted-level-0);\n",
              "  border: var(--sklearn-color-fitted-level-3);\n",
              "}\n",
              "\n",
              ".sk-estimator-doc-link:hover span {\n",
              "  display: block;\n",
              "}\n",
              "\n",
              "/* \"?\"-specific style due to the `<a>` HTML tag */\n",
              "\n",
              "#sk-container-id-1 a.estimator_doc_link {\n",
              "  float: right;\n",
              "  font-size: 1rem;\n",
              "  line-height: 1em;\n",
              "  font-family: monospace;\n",
              "  background-color: var(--sklearn-color-background);\n",
              "  border-radius: 1rem;\n",
              "  height: 1rem;\n",
              "  width: 1rem;\n",
              "  text-decoration: none;\n",
              "  /* unfitted */\n",
              "  color: var(--sklearn-color-unfitted-level-1);\n",
              "  border: var(--sklearn-color-unfitted-level-1) 1pt solid;\n",
              "}\n",
              "\n",
              "#sk-container-id-1 a.estimator_doc_link.fitted {\n",
              "  /* fitted */\n",
              "  border: var(--sklearn-color-fitted-level-1) 1pt solid;\n",
              "  color: var(--sklearn-color-fitted-level-1);\n",
              "}\n",
              "\n",
              "/* On hover */\n",
              "#sk-container-id-1 a.estimator_doc_link:hover {\n",
              "  /* unfitted */\n",
              "  background-color: var(--sklearn-color-unfitted-level-3);\n",
              "  color: var(--sklearn-color-background);\n",
              "  text-decoration: none;\n",
              "}\n",
              "\n",
              "#sk-container-id-1 a.estimator_doc_link.fitted:hover {\n",
              "  /* fitted */\n",
              "  background-color: var(--sklearn-color-fitted-level-3);\n",
              "}\n",
              "\n",
              ".estimator-table summary {\n",
              "    padding: .5rem;\n",
              "    font-family: monospace;\n",
              "    cursor: pointer;\n",
              "}\n",
              "\n",
              ".estimator-table details[open] {\n",
              "    padding-left: 0.1rem;\n",
              "    padding-right: 0.1rem;\n",
              "    padding-bottom: 0.3rem;\n",
              "}\n",
              "\n",
              ".estimator-table .parameters-table {\n",
              "    margin-left: auto !important;\n",
              "    margin-right: auto !important;\n",
              "}\n",
              "\n",
              ".estimator-table .parameters-table tr:nth-child(odd) {\n",
              "    background-color: #fff;\n",
              "}\n",
              "\n",
              ".estimator-table .parameters-table tr:nth-child(even) {\n",
              "    background-color: #f6f6f6;\n",
              "}\n",
              "\n",
              ".estimator-table .parameters-table tr:hover {\n",
              "    background-color: #e0e0e0;\n",
              "}\n",
              "\n",
              ".estimator-table table td {\n",
              "    border: 1px solid rgba(106, 105, 104, 0.232);\n",
              "}\n",
              "\n",
              ".user-set td {\n",
              "    color:rgb(255, 94, 0);\n",
              "    text-align: left;\n",
              "}\n",
              "\n",
              ".user-set td.value pre {\n",
              "    color:rgb(255, 94, 0) !important;\n",
              "    background-color: transparent !important;\n",
              "}\n",
              "\n",
              ".default td {\n",
              "    color: black;\n",
              "    text-align: left;\n",
              "}\n",
              "\n",
              ".user-set td i,\n",
              ".default td i {\n",
              "    color: black;\n",
              "}\n",
              "\n",
              ".copy-paste-icon {\n",
              "    background-image: url(data:image/svg+xml;base64,PHN2ZyB4bWxucz0iaHR0cDovL3d3dy53My5vcmcvMjAwMC9zdmciIHZpZXdCb3g9IjAgMCA0NDggNTEyIj48IS0tIUZvbnQgQXdlc29tZSBGcmVlIDYuNy4yIGJ5IEBmb250YXdlc29tZSAtIGh0dHBzOi8vZm9udGF3ZXNvbWUuY29tIExpY2Vuc2UgLSBodHRwczovL2ZvbnRhd2Vzb21lLmNvbS9saWNlbnNlL2ZyZWUgQ29weXJpZ2h0IDIwMjUgRm9udGljb25zLCBJbmMuLS0+PHBhdGggZD0iTTIwOCAwTDMzMi4xIDBjMTIuNyAwIDI0LjkgNS4xIDMzLjkgMTQuMWw2Ny45IDY3LjljOSA5IDE0LjEgMjEuMiAxNC4xIDMzLjlMNDQ4IDMzNmMwIDI2LjUtMjEuNSA0OC00OCA0OGwtMTkyIDBjLTI2LjUgMC00OC0yMS41LTQ4LTQ4bDAtMjg4YzAtMjYuNSAyMS41LTQ4IDQ4LTQ4ek00OCAxMjhsODAgMCAwIDY0LTY0IDAgMCAyNTYgMTkyIDAgMC0zMiA2NCAwIDAgNDhjMCAyNi41LTIxLjUgNDgtNDggNDhMNDggNTEyYy0yNi41IDAtNDgtMjEuNS00OC00OEwwIDE3NmMwLTI2LjUgMjEuNS00OCA0OC00OHoiLz48L3N2Zz4=);\n",
              "    background-repeat: no-repeat;\n",
              "    background-size: 14px 14px;\n",
              "    background-position: 0;\n",
              "    display: inline-block;\n",
              "    width: 14px;\n",
              "    height: 14px;\n",
              "    cursor: pointer;\n",
              "}\n",
              "</style><body><div id=\"sk-container-id-1\" class=\"sk-top-container\"><div class=\"sk-text-repr-fallback\"><pre>LogisticRegression(random_state=0, solver=&#x27;liblinear&#x27;)</pre><b>In a Jupyter environment, please rerun this cell to show the HTML representation or trust the notebook. <br />On GitHub, the HTML representation is unable to render, please try loading this page with nbviewer.org.</b></div><div class=\"sk-container\" hidden><div class=\"sk-item\"><div class=\"sk-estimator fitted sk-toggleable\"><input class=\"sk-toggleable__control sk-hidden--visually\" id=\"sk-estimator-id-1\" type=\"checkbox\" checked><label for=\"sk-estimator-id-1\" class=\"sk-toggleable__label fitted sk-toggleable__label-arrow\"><div><div>LogisticRegression</div></div><div><a class=\"sk-estimator-doc-link fitted\" rel=\"noreferrer\" target=\"_blank\" href=\"https://scikit-learn.org/1.7/modules/generated/sklearn.linear_model.LogisticRegression.html\">?<span>Documentation for LogisticRegression</span></a><span class=\"sk-estimator-doc-link fitted\">i<span>Fitted</span></span></div></label><div class=\"sk-toggleable__content fitted\" data-param-prefix=\"\">\n",
              "        <div class=\"estimator-table\">\n",
              "            <details>\n",
              "                <summary>Parameters</summary>\n",
              "                <table class=\"parameters-table\">\n",
              "                  <tbody>\n",
              "                    \n",
              "        <tr class=\"default\">\n",
              "            <td><i class=\"copy-paste-icon\"\n",
              "                 onclick=\"copyToClipboard('penalty',\n",
              "                          this.parentElement.nextElementSibling)\"\n",
              "            ></i></td>\n",
              "            <td class=\"param\">penalty&nbsp;</td>\n",
              "            <td class=\"value\">&#x27;l2&#x27;</td>\n",
              "        </tr>\n",
              "    \n",
              "\n",
              "        <tr class=\"default\">\n",
              "            <td><i class=\"copy-paste-icon\"\n",
              "                 onclick=\"copyToClipboard('dual',\n",
              "                          this.parentElement.nextElementSibling)\"\n",
              "            ></i></td>\n",
              "            <td class=\"param\">dual&nbsp;</td>\n",
              "            <td class=\"value\">False</td>\n",
              "        </tr>\n",
              "    \n",
              "\n",
              "        <tr class=\"default\">\n",
              "            <td><i class=\"copy-paste-icon\"\n",
              "                 onclick=\"copyToClipboard('tol',\n",
              "                          this.parentElement.nextElementSibling)\"\n",
              "            ></i></td>\n",
              "            <td class=\"param\">tol&nbsp;</td>\n",
              "            <td class=\"value\">0.0001</td>\n",
              "        </tr>\n",
              "    \n",
              "\n",
              "        <tr class=\"default\">\n",
              "            <td><i class=\"copy-paste-icon\"\n",
              "                 onclick=\"copyToClipboard('C',\n",
              "                          this.parentElement.nextElementSibling)\"\n",
              "            ></i></td>\n",
              "            <td class=\"param\">C&nbsp;</td>\n",
              "            <td class=\"value\">1.0</td>\n",
              "        </tr>\n",
              "    \n",
              "\n",
              "        <tr class=\"default\">\n",
              "            <td><i class=\"copy-paste-icon\"\n",
              "                 onclick=\"copyToClipboard('fit_intercept',\n",
              "                          this.parentElement.nextElementSibling)\"\n",
              "            ></i></td>\n",
              "            <td class=\"param\">fit_intercept&nbsp;</td>\n",
              "            <td class=\"value\">True</td>\n",
              "        </tr>\n",
              "    \n",
              "\n",
              "        <tr class=\"default\">\n",
              "            <td><i class=\"copy-paste-icon\"\n",
              "                 onclick=\"copyToClipboard('intercept_scaling',\n",
              "                          this.parentElement.nextElementSibling)\"\n",
              "            ></i></td>\n",
              "            <td class=\"param\">intercept_scaling&nbsp;</td>\n",
              "            <td class=\"value\">1</td>\n",
              "        </tr>\n",
              "    \n",
              "\n",
              "        <tr class=\"default\">\n",
              "            <td><i class=\"copy-paste-icon\"\n",
              "                 onclick=\"copyToClipboard('class_weight',\n",
              "                          this.parentElement.nextElementSibling)\"\n",
              "            ></i></td>\n",
              "            <td class=\"param\">class_weight&nbsp;</td>\n",
              "            <td class=\"value\">None</td>\n",
              "        </tr>\n",
              "    \n",
              "\n",
              "        <tr class=\"user-set\">\n",
              "            <td><i class=\"copy-paste-icon\"\n",
              "                 onclick=\"copyToClipboard('random_state',\n",
              "                          this.parentElement.nextElementSibling)\"\n",
              "            ></i></td>\n",
              "            <td class=\"param\">random_state&nbsp;</td>\n",
              "            <td class=\"value\">0</td>\n",
              "        </tr>\n",
              "    \n",
              "\n",
              "        <tr class=\"user-set\">\n",
              "            <td><i class=\"copy-paste-icon\"\n",
              "                 onclick=\"copyToClipboard('solver',\n",
              "                          this.parentElement.nextElementSibling)\"\n",
              "            ></i></td>\n",
              "            <td class=\"param\">solver&nbsp;</td>\n",
              "            <td class=\"value\">&#x27;liblinear&#x27;</td>\n",
              "        </tr>\n",
              "    \n",
              "\n",
              "        <tr class=\"default\">\n",
              "            <td><i class=\"copy-paste-icon\"\n",
              "                 onclick=\"copyToClipboard('max_iter',\n",
              "                          this.parentElement.nextElementSibling)\"\n",
              "            ></i></td>\n",
              "            <td class=\"param\">max_iter&nbsp;</td>\n",
              "            <td class=\"value\">100</td>\n",
              "        </tr>\n",
              "    \n",
              "\n",
              "        <tr class=\"default\">\n",
              "            <td><i class=\"copy-paste-icon\"\n",
              "                 onclick=\"copyToClipboard('multi_class',\n",
              "                          this.parentElement.nextElementSibling)\"\n",
              "            ></i></td>\n",
              "            <td class=\"param\">multi_class&nbsp;</td>\n",
              "            <td class=\"value\">&#x27;deprecated&#x27;</td>\n",
              "        </tr>\n",
              "    \n",
              "\n",
              "        <tr class=\"default\">\n",
              "            <td><i class=\"copy-paste-icon\"\n",
              "                 onclick=\"copyToClipboard('verbose',\n",
              "                          this.parentElement.nextElementSibling)\"\n",
              "            ></i></td>\n",
              "            <td class=\"param\">verbose&nbsp;</td>\n",
              "            <td class=\"value\">0</td>\n",
              "        </tr>\n",
              "    \n",
              "\n",
              "        <tr class=\"default\">\n",
              "            <td><i class=\"copy-paste-icon\"\n",
              "                 onclick=\"copyToClipboard('warm_start',\n",
              "                          this.parentElement.nextElementSibling)\"\n",
              "            ></i></td>\n",
              "            <td class=\"param\">warm_start&nbsp;</td>\n",
              "            <td class=\"value\">False</td>\n",
              "        </tr>\n",
              "    \n",
              "\n",
              "        <tr class=\"default\">\n",
              "            <td><i class=\"copy-paste-icon\"\n",
              "                 onclick=\"copyToClipboard('n_jobs',\n",
              "                          this.parentElement.nextElementSibling)\"\n",
              "            ></i></td>\n",
              "            <td class=\"param\">n_jobs&nbsp;</td>\n",
              "            <td class=\"value\">None</td>\n",
              "        </tr>\n",
              "    \n",
              "\n",
              "        <tr class=\"default\">\n",
              "            <td><i class=\"copy-paste-icon\"\n",
              "                 onclick=\"copyToClipboard('l1_ratio',\n",
              "                          this.parentElement.nextElementSibling)\"\n",
              "            ></i></td>\n",
              "            <td class=\"param\">l1_ratio&nbsp;</td>\n",
              "            <td class=\"value\">None</td>\n",
              "        </tr>\n",
              "    \n",
              "                  </tbody>\n",
              "                </table>\n",
              "            </details>\n",
              "        </div>\n",
              "    </div></div></div></div></div><script>function copyToClipboard(text, element) {\n",
              "    // Get the parameter prefix from the closest toggleable content\n",
              "    const toggleableContent = element.closest('.sk-toggleable__content');\n",
              "    const paramPrefix = toggleableContent ? toggleableContent.dataset.paramPrefix : '';\n",
              "    const fullParamName = paramPrefix ? `${paramPrefix}${text}` : text;\n",
              "\n",
              "    const originalStyle = element.style;\n",
              "    const computedStyle = window.getComputedStyle(element);\n",
              "    const originalWidth = computedStyle.width;\n",
              "    const originalHTML = element.innerHTML.replace('Copied!', '');\n",
              "\n",
              "    navigator.clipboard.writeText(fullParamName)\n",
              "        .then(() => {\n",
              "            element.style.width = originalWidth;\n",
              "            element.style.color = 'green';\n",
              "            element.innerHTML = \"Copied!\";\n",
              "\n",
              "            setTimeout(() => {\n",
              "                element.innerHTML = originalHTML;\n",
              "                element.style = originalStyle;\n",
              "            }, 2000);\n",
              "        })\n",
              "        .catch(err => {\n",
              "            console.error('Failed to copy:', err);\n",
              "            element.style.color = 'red';\n",
              "            element.innerHTML = \"Failed!\";\n",
              "            setTimeout(() => {\n",
              "                element.innerHTML = originalHTML;\n",
              "                element.style = originalStyle;\n",
              "            }, 2000);\n",
              "        });\n",
              "    return false;\n",
              "}\n",
              "\n",
              "document.querySelectorAll('.fa-regular.fa-copy').forEach(function(element) {\n",
              "    const toggleableContent = element.closest('.sk-toggleable__content');\n",
              "    const paramPrefix = toggleableContent ? toggleableContent.dataset.paramPrefix : '';\n",
              "    const paramName = element.parentElement.nextElementSibling.textContent.trim();\n",
              "    const fullParamName = paramPrefix ? `${paramPrefix}${paramName}` : paramName;\n",
              "\n",
              "    element.setAttribute('title', fullParamName);\n",
              "});\n",
              "</script></body>"
            ],
            "text/plain": [
              "LogisticRegression(random_state=0, solver='liblinear')"
            ]
          },
          "execution_count": 86,
          "metadata": {},
          "output_type": "execute_result"
        }
      ],
      "source": [
        "#treinando o modelo\n",
        "from sklearn.linear_model import LogisticRegression\n",
        "\n",
        "logreg = LogisticRegression(solver='liblinear', random_state=0)\n",
        "\n",
        "logreg.fit(X_train, y_train)"
      ]
    },
    {
      "cell_type": "markdown",
      "metadata": {
        "id": "LL0efmISkKS5"
      },
      "source": [
        "### 3.2. Resultados Preditos Segundo os Dados de Teste"
      ]
    },
    {
      "cell_type": "markdown",
      "metadata": {
        "id": "m0YODsi_MSOZ"
      },
      "source": [
        "Podemos agorar retornar os resukltados preditos pelo modelo em forma de vetor."
      ]
    },
    {
      "cell_type": "code",
      "execution_count": 87,
      "metadata": {
        "colab": {
          "base_uri": "https://localhost:8080/"
        },
        "id": "Qy4MRrEhPUST",
        "outputId": "00ad0f37-d8ce-4b5d-afcd-c0df10b8f666"
      },
      "outputs": [
        {
          "data": {
            "text/plain": [
              "array([0, 0, 0, ..., 0, 0, 0], shape=(5901,))"
            ]
          },
          "execution_count": 87,
          "metadata": {},
          "output_type": "execute_result"
        }
      ],
      "source": [
        "y_preditos_teste = logreg.predict(X_test)\n",
        "y_preditos_teste"
      ]
    },
    {
      "cell_type": "markdown",
      "metadata": {
        "id": "h5HKPov0PjIn"
      },
      "source": [
        "#### Aplicando o método **predict_proba**"
      ]
    },
    {
      "cell_type": "markdown",
      "metadata": {
        "id": "TuSsaRFhMbh0"
      },
      "source": [
        "Esse método é usado para calcular a probabilidade da variavel ser 0 (não inadimplente) ou 1 (inadimplente)."
      ]
    },
    {
      "cell_type": "code",
      "execution_count": 88,
      "metadata": {
        "colab": {
          "base_uri": "https://localhost:8080/"
        },
        "id": "U3FlThuNQAVu",
        "outputId": "f00905e8-1679-4384-f94e-dd0408cd4f91"
      },
      "outputs": [
        {
          "data": {
            "text/plain": [
              "array([0.95760842, 0.97811882, 0.9918775 , ..., 0.85509786, 0.9165093 ,\n",
              "       0.9729408 ], shape=(5901,))"
            ]
          },
          "execution_count": 88,
          "metadata": {},
          "output_type": "execute_result"
        }
      ],
      "source": [
        "logreg.predict_proba(X_test)[:,0]"
      ]
    },
    {
      "cell_type": "code",
      "execution_count": 89,
      "metadata": {
        "colab": {
          "base_uri": "https://localhost:8080/"
        },
        "id": "9Wf0nDSzQgxK",
        "outputId": "af699b1d-0eca-43e4-f8c2-00b3940f0e4c"
      },
      "outputs": [
        {
          "data": {
            "text/plain": [
              "array([0.04239158, 0.02188118, 0.0081225 , ..., 0.14490214, 0.0834907 ,\n",
              "       0.0270592 ], shape=(5901,))"
            ]
          },
          "execution_count": 89,
          "metadata": {},
          "output_type": "execute_result"
        }
      ],
      "source": [
        "logreg.predict_proba(X_test)[:,1]"
      ]
    },
    {
      "cell_type": "markdown",
      "metadata": {
        "id": "EWqp-u_ik2JU"
      },
      "source": [
        "---\n",
        "## 4. Avaliando o Modelo"
      ]
    },
    {
      "cell_type": "markdown",
      "metadata": {
        "id": "Rfjj8MhumeZl"
      },
      "source": [
        "### 4.1. Verificando a Acurácia do Modelo"
      ]
    },
    {
      "cell_type": "markdown",
      "metadata": {
        "id": "or-vAg5CTFhk"
      },
      "source": [
        " A acurácia do modelo mede com qual freqência o modelo acerta em suas previsões,ela é dada pela fórmula $Acuracia = \\dfrac{VP + VN}{VP + FP + VN + FN}$, com:\n",
        "- $VP$: Verdadeiros Positivos\n",
        "- $VN$: Verdadeiros Negativos\n",
        "- $FP$ Falsos Positivos\n",
        "- $FN$ Falsos Negativos"
      ]
    },
    {
      "cell_type": "code",
      "execution_count": 90,
      "metadata": {
        "id": "BaxiJg6onKn3"
      },
      "outputs": [],
      "source": [
        "#convertendo dados de teste para o formato certo\n",
        "y_test = y_test.astype(int)"
      ]
    },
    {
      "cell_type": "code",
      "execution_count": 91,
      "metadata": {
        "colab": {
          "base_uri": "https://localhost:8080/"
        },
        "id": "c-MKLZC3mmP7",
        "outputId": "7706540f-370a-43b1-e39f-adf653040516"
      },
      "outputs": [
        {
          "name": "stdout",
          "output_type": "stream",
          "text": [
            "Score de acurácia do modelo: 0.9198\n"
          ]
        }
      ],
      "source": [
        "from sklearn.metrics import accuracy_score\n",
        "\n",
        "print('Score de acurácia do modelo: {0:0.4f}'. format(accuracy_score(y_test, y_preditos_teste)))"
      ]
    },
    {
      "cell_type": "markdown",
      "metadata": {
        "id": "zhDYA_z0oBJV"
      },
      "source": [
        "### 4.2. Comparando a Acurácia com o Conjunto de Teste e de Treino"
      ]
    },
    {
      "cell_type": "code",
      "execution_count": 92,
      "metadata": {
        "colab": {
          "base_uri": "https://localhost:8080/"
        },
        "id": "W2K8BIQIoKTY",
        "outputId": "ac5260de-a12a-4d82-d621-1964761d0dc2"
      },
      "outputs": [
        {
          "data": {
            "text/plain": [
              "array([0, 0, 0, ..., 0, 0, 0], shape=(23603,))"
            ]
          },
          "execution_count": 92,
          "metadata": {},
          "output_type": "execute_result"
        }
      ],
      "source": [
        "y_preditos_treino = logreg.predict(X_train)\n",
        "y_preditos_treino"
      ]
    },
    {
      "cell_type": "code",
      "execution_count": 93,
      "metadata": {
        "colab": {
          "base_uri": "https://localhost:8080/"
        },
        "id": "nshj1EfOopO_",
        "outputId": "959c16cb-3685-45d0-f694-7eca506855d0"
      },
      "outputs": [
        {
          "name": "stdout",
          "output_type": "stream",
          "text": [
            "Score de acurácia com o conjunto de treino: 0.9206\n"
          ]
        }
      ],
      "source": [
        "print('Score de acurácia com o conjunto de treino: {0:0.4f}'. format(accuracy_score(y_train, y_preditos_treino)))"
      ]
    },
    {
      "cell_type": "markdown",
      "metadata": {
        "id": "arEXQC9Fnkvc"
      },
      "source": [
        "### 4.3. Checando Overfitting e Underfitting"
      ]
    },
    {
      "cell_type": "markdown",
      "metadata": {
        "id": "ycTz4LzzM-L3"
      },
      "source": [
        "- **Overfitting:** Ocorre quando um modelo aprende os dados de treinamento muito bem, a ponto de memorizar os padrões específicos que são únicos ao conjunto de treinamento e não representam a verdadeira relação nos dados, com isso o modelo generaliza de forma ruim fora dos dados de treinamento.\n",
        "\n",
        "- **Underfitting:**  Nesse caso o modelo de é muito simples ou não foi treinado o suficiente para capturar a relação fundamental entre as features (entradas) e a variável alvo (saída) nos dados de treinamento. Ele vai mal tanto nos dados da anmostra quanto fora deles."
      ]
    },
    {
      "cell_type": "code",
      "execution_count": 94,
      "metadata": {
        "colab": {
          "base_uri": "https://localhost:8080/"
        },
        "id": "unyq5PeJm2Yg",
        "outputId": "3380607a-e45c-4fb1-9b83-2b27a2ae604e"
      },
      "outputs": [
        {
          "name": "stdout",
          "output_type": "stream",
          "text": [
            "Score para o conjunto de treino: 0.9206\n",
            "Score para o conjunto de teste: 0.9198\n"
          ]
        }
      ],
      "source": [
        "#retorna os scores para os conjuntos de treino e teste respectivamente\n",
        "\n",
        "print('Score para o conjunto de treino: {:.4f}'.format(logreg.score(X_train, y_train)))\n",
        "\n",
        "print('Score para o conjunto de teste: {:.4f}'.format(logreg.score(X_test, y_test)))"
      ]
    },
    {
      "cell_type": "markdown",
      "metadata": {
        "id": "8oHlsjHfpTd0"
      },
      "source": [
        "Note que os valores referentes ao conjunto de treino são de 0.9206 de acurácia, enquanto os de teste são de 0.9198 de acrurácia, sendo valores bem próximo, portanto **não temos um caso de Overfitting**."
      ]
    },
    {
      "cell_type": "markdown",
      "metadata": {
        "id": "WgbI-Fiorne5"
      },
      "source": [
        "### 4.4. Comparando a Acurácia do Modelo com a Acurácia Nula"
      ]
    },
    {
      "cell_type": "markdown",
      "metadata": {
        "id": "hy0Kq8fbRCz8"
      },
      "source": [
        "O modelo de acurácia nula representa a acurácia que um modelo \"burro\" ou \"ingênuo\", istop é, é acurácia de um modelo se ele sempre previsse a classe mais frequente no seu conjunto de dados de treino. Ele é dado pela fórmula abaixo:"
      ]
    },
    {
      "cell_type": "code",
      "execution_count": 95,
      "metadata": {
        "colab": {
          "base_uri": "https://localhost:8080/"
        },
        "id": "6UA_GL4iQVIU",
        "outputId": "57baab6b-a939-4080-a6b6-1e0ca045ac4d"
      },
      "outputs": [
        {
          "name": "stdout",
          "output_type": "stream",
          "text": [
            "Score de acurácia nula: 0.9095\n"
          ]
        }
      ],
      "source": [
        "acuracia_nula = (5367/ (5367 + 534))\n",
        "print('Score de acurácia nula: {0:0.4f}'. format(acuracia_nula))"
      ]
    },
    {
      "cell_type": "markdown",
      "metadata": {
        "id": "xa_UFEMgUWtT"
      },
      "source": [
        "Isso é um bom sinal, nosso modelo possui uma acurácia maior que o modelo de acurácia nula, isso mostra que ele não apenas prevê os valores maias frequentes nos dados"
      ]
    },
    {
      "cell_type": "markdown",
      "metadata": {
        "id": "RUxXJlSgUoYo"
      },
      "source": [
        "### 4.5. Matriz de Confusão"
      ]
    },
    {
      "cell_type": "markdown",
      "metadata": {
        "id": "SCQJji6Ks4X_"
      },
      "source": [
        "A matriz de confusão é util para detalhar os tipos de erros, a acurácia nos diz apenas a porcentagem de previsões corretas. A matriz de confusão, por outro lado, nos mostra especificamente quais tipos de erros o modelo está cometendo."
      ]
    },
    {
      "cell_type": "code",
      "execution_count": 96,
      "metadata": {
        "colab": {
          "base_uri": "https://localhost:8080/"
        },
        "id": "fxmz4BczVDpz",
        "outputId": "49f5d81f-411a-4819-af50-145898a3627a"
      },
      "outputs": [
        {
          "name": "stdout",
          "output_type": "stream",
          "text": [
            "Matriz de Confusão\n",
            "\n",
            " [[5325   42]\n",
            " [ 431  103]]\n",
            "\n",
            "Verdadeiros Positivos(VP) =  5325\n",
            "\n",
            "Verdadeiros Negativos(VN) =  103\n",
            "\n",
            "Falsos Positivos(FP) =  42\n",
            "\n",
            "Falsos Negativos(FN) =  431\n"
          ]
        }
      ],
      "source": [
        "from sklearn.metrics import confusion_matrix\n",
        "\n",
        "cm = confusion_matrix(y_test, y_preditos_teste)\n",
        "\n",
        "print('Matriz de Confusão\\n\\n', cm)\n",
        "\n",
        "print('\\nVerdadeiros Positivos(VP) = ', cm[0,0])\n",
        "\n",
        "print('\\nVerdadeiros Negativos(VN) = ', cm[1,1])\n",
        "\n",
        "print('\\nFalsos Positivos(FP) = ', cm[0,1])\n",
        "\n",
        "print('\\nFalsos Negativos(FN) = ', cm[1,0])"
      ]
    },
    {
      "cell_type": "code",
      "execution_count": 97,
      "metadata": {
        "colab": {
          "base_uri": "https://localhost:8080/",
          "height": 448
        },
        "id": "0r9CkePIVloE",
        "outputId": "7fdebd8b-b939-4cb9-8cb8-012e4807ab24"
      },
      "outputs": [
        {
          "data": {
            "text/plain": [
              "<Axes: >"
            ]
          },
          "execution_count": 97,
          "metadata": {},
          "output_type": "execute_result"
        },
        {
          "data": {
            "image/png": "[encoded data removed]",
            "text/plain": [
              "<Figure size 640x480 with 2 Axes>"
            ]
          },
          "metadata": {},
          "output_type": "display_data"
        }
      ],
      "source": [
        "cm_matrix = pd.DataFrame(data=cm, columns=['Reais Positivos:1', 'Reais Negativos:0'],\n",
        "                                 index=['Positivos Preditos:1', 'Negativos Preditos:0'])\n",
        "\n",
        "sns.heatmap(cm_matrix, annot=True, fmt='d', cmap='YlGnBu')"
      ]
    },
    {
      "cell_type": "markdown",
      "metadata": {
        "id": "0WJLPqXptMtd"
      },
      "source": [
        "A matriz de conduão nos mostrou que temos $5325 + 103  = 5428$ acertos e $431 + 42 = 473$ erros de predição com nosso modelo.\n",
        "\n"
      ]
    },
    {
      "cell_type": "markdown",
      "metadata": {
        "id": "4s8ThLo2lKaj"
      },
      "source": [
        "### 4.6. Métricas de Classificação"
      ]
    },
    {
      "cell_type": "markdown",
      "metadata": {
        "id": "38CGJkzYl8C4"
      },
      "source": [
        "#### Tipos de Métricas\n",
        "\n",
        "- **Precisão:** Mede a proporção das observações classificadas corretamente como positivas para com todas as observações, é dada por: $Precisão = \\dfrac{VP}{VP + FP}$\n",
        "\n",
        "- **Recall:** Mede a proporção entre as observações classsificadas corretamente como positivas para com as observações realmente positivas, sendo dada por: $Precisão = \\dfrac{VP}{VP + FN}$\n",
        "\n",
        "- **f1 Score:** É a média harmônica entre a precisão e o recall. Por ser a média harmônican ela é sensivel a peuqenas alterações na precisão e no recall, fora o fato dela considerar tanto falsos negativos e falsos positivos. Ela é dada por: $2 \\times \\dfrac{Precisão \\times Recall}{Precisã + Recall}$\n",
        "\n",
        "- **Support:** Não é uma métrica em si, mas no dá a quantidade de vezes que cada calsse (positivo ou negativo) ocorre."
      ]
    },
    {
      "cell_type": "markdown",
      "metadata": {
        "id": "jU4WXsf4lUyW"
      },
      "source": [
        "#### Classification Report\n",
        "É uma outra maneira de avaliar o modelo de classificação, o comando `classification_report` do `sklearn` nos retorna a **precisão**, **recall**, **f1** e o **support**.\n"
      ]
    },
    {
      "cell_type": "code",
      "execution_count": 98,
      "metadata": {
        "colab": {
          "base_uri": "https://localhost:8080/"
        },
        "id": "5DhgMou1okV6",
        "outputId": "7f9782a9-08f8-49e7-ca7d-106e657ac3f1"
      },
      "outputs": [
        {
          "name": "stdout",
          "output_type": "stream",
          "text": [
            "              precision    recall  f1-score   support\n",
            "\n",
            "           0       0.93      0.99      0.96      5367\n",
            "           1       0.71      0.19      0.30       534\n",
            "\n",
            "    accuracy                           0.92      5901\n",
            "   macro avg       0.82      0.59      0.63      5901\n",
            "weighted avg       0.91      0.92      0.90      5901\n",
            "\n"
          ]
        }
      ],
      "source": [
        "from sklearn.metrics import classification_report\n",
        "\n",
        "print(classification_report(y_test, y_preditos_teste))"
      ]
    },
    {
      "cell_type": "markdown",
      "metadata": {
        "id": "ev2Y-uOUpIBI"
      },
      "source": [
        "Esses resultados serão melhor explorados na seção de conclusão."
      ]
    },
    {
      "cell_type": "markdown",
      "metadata": {
        "id": "APwnaZjprQSM"
      },
      "source": [
        "#### Area sobre a curva ROC (Receiver Operating Characteristic)\n",
        "\n",
        "A area sobre a curva ROC nos diz o quão eficiente é nosso modelo de classificação, em comparação com o modelo nuulo (classifica cada valor de modo aleatório em positivo e negativo). Uma mnodelo ideal (que sempre acerta) tem area sobre a curva ROC iguala $1$, sá o modelo nulom tem area igial a $0,5$. \\\\\n",
        "Vamos avalaiar nosso modelo com essa métrica."
      ]
    },
    {
      "cell_type": "code",
      "execution_count": 99,
      "metadata": {
        "colab": {
          "base_uri": "https://localhost:8080/"
        },
        "id": "42Olq_j3bz-I",
        "outputId": "4f16a807-98fb-4baf-90a5-14502fe8502b"
      },
      "outputs": [
        {
          "name": "stdout",
          "output_type": "stream",
          "text": [
            "ROC AUC : 0.5925\n"
          ]
        }
      ],
      "source": [
        "from sklearn.metrics import roc_auc_score\n",
        "\n",
        "ROC_AUC = roc_auc_score(y_test, y_preditos_teste)\n",
        "\n",
        "print('ROC AUC : {:.4f}'.format(ROC_AUC))"
      ]
    },
    {
      "cell_type": "markdown",
      "metadata": {
        "id": "oG8afBbosJ0T"
      },
      "source": [
        "Isso não é um bom indicador, apesar de ser maior que o modelo nulo, nosso modelo não possui um poder de predição tão mais eficiente que este, o que ficou evidente também peolo seu baixo recall. \\\\\n",
        "Será preciso assim aplicar alguns métodos para aprimorar nosso modelo."
      ]
    },
    {
      "cell_type": "markdown",
      "metadata": {
        "id": "UpXS69Kau6k5"
      },
      "source": [
        "### 4.7. Verificando as Previsões do Modelo"
      ]
    },
    {
      "cell_type": "markdown",
      "metadata": {
        "id": "hvKpKTKAvAJ-"
      },
      "source": [
        "Vamos verificar através de um histograma a frequencia no qual o modelo classifica as probailidade de 0 (não inadimplente) e 1 (inadimplente)."
      ]
    },
    {
      "cell_type": "code",
      "execution_count": 100,
      "metadata": {
        "colab": {
          "base_uri": "https://localhost:8080/",
          "height": 363
        },
        "id": "zq0Hx04kvbNC",
        "outputId": "a8b6e326-87b2-42ca-c1d3-e0b0830334f0"
      },
      "outputs": [
        {
          "data": {
            "text/html": [
              "<div>\n",
              "<style scoped>\n",
              "    .dataframe tbody tr th:only-of-type {\n",
              "        vertical-align: middle;\n",
              "    }\n",
              "\n",
              "    .dataframe tbody tr th {\n",
              "        vertical-align: top;\n",
              "    }\n",
              "\n",
              "    .dataframe thead th {\n",
              "        text-align: right;\n",
              "    }\n",
              "</style>\n",
              "<table border=\"1\" class=\"dataframe\">\n",
              "  <thead>\n",
              "    <tr style=\"text-align: right;\">\n",
              "      <th></th>\n",
              "      <th>Probabiliade de ser - Não Inadimplente (0)</th>\n",
              "      <th>Probabiliade de ser - Inadimplente (1)</th>\n",
              "    </tr>\n",
              "  </thead>\n",
              "  <tbody>\n",
              "    <tr>\n",
              "      <th>0</th>\n",
              "      <td>0.957608</td>\n",
              "      <td>0.042392</td>\n",
              "    </tr>\n",
              "    <tr>\n",
              "      <th>1</th>\n",
              "      <td>0.978119</td>\n",
              "      <td>0.021881</td>\n",
              "    </tr>\n",
              "    <tr>\n",
              "      <th>2</th>\n",
              "      <td>0.991877</td>\n",
              "      <td>0.008123</td>\n",
              "    </tr>\n",
              "    <tr>\n",
              "      <th>3</th>\n",
              "      <td>0.972106</td>\n",
              "      <td>0.027894</td>\n",
              "    </tr>\n",
              "    <tr>\n",
              "      <th>4</th>\n",
              "      <td>0.941841</td>\n",
              "      <td>0.058159</td>\n",
              "    </tr>\n",
              "    <tr>\n",
              "      <th>5</th>\n",
              "      <td>0.839562</td>\n",
              "      <td>0.160438</td>\n",
              "    </tr>\n",
              "    <tr>\n",
              "      <th>6</th>\n",
              "      <td>0.991327</td>\n",
              "      <td>0.008673</td>\n",
              "    </tr>\n",
              "    <tr>\n",
              "      <th>7</th>\n",
              "      <td>0.840245</td>\n",
              "      <td>0.159755</td>\n",
              "    </tr>\n",
              "    <tr>\n",
              "      <th>8</th>\n",
              "      <td>0.950486</td>\n",
              "      <td>0.049514</td>\n",
              "    </tr>\n",
              "    <tr>\n",
              "      <th>9</th>\n",
              "      <td>0.920828</td>\n",
              "      <td>0.079172</td>\n",
              "    </tr>\n",
              "  </tbody>\n",
              "</table>\n",
              "</div>"
            ],
            "text/plain": [
              "   Probabiliade de ser - Não Inadimplente (0)  \\\n",
              "0                                    0.957608   \n",
              "1                                    0.978119   \n",
              "2                                    0.991877   \n",
              "3                                    0.972106   \n",
              "4                                    0.941841   \n",
              "5                                    0.839562   \n",
              "6                                    0.991327   \n",
              "7                                    0.840245   \n",
              "8                                    0.950486   \n",
              "9                                    0.920828   \n",
              "\n",
              "   Probabiliade de ser - Inadimplente (1)  \n",
              "0                                0.042392  \n",
              "1                                0.021881  \n",
              "2                                0.008123  \n",
              "3                                0.027894  \n",
              "4                                0.058159  \n",
              "5                                0.160438  \n",
              "6                                0.008673  \n",
              "7                                0.159755  \n",
              "8                                0.049514  \n",
              "9                                0.079172  "
            ]
          },
          "execution_count": 100,
          "metadata": {},
          "output_type": "execute_result"
        }
      ],
      "source": [
        "#retorna as 10 preimeiras probabiliades previstas para as classe 0 ou 1\n",
        "y_pred_prob = logreg.predict_proba(X_test)[0:10]\n",
        "\n",
        "#armazena essa probabilidades em um DataFrame\n",
        "y_pred_prob_df = pd.DataFrame(data=y_pred_prob, columns=['Probabiliade de ser - Não Inadimplente (0)', 'Probabiliade de ser - Inadimplente (1)'])\n",
        "\n",
        "y_pred_prob_df"
      ]
    },
    {
      "cell_type": "code",
      "execution_count": 101,
      "metadata": {
        "colab": {
          "base_uri": "https://localhost:8080/",
          "height": 499
        },
        "id": "inrJ3yYmwLCh",
        "outputId": "dbf0e9af-e5f3-499f-85a1-90f7d64e76b7"
      },
      "outputs": [
        {
          "data": {
            "text/plain": [
              "Text(0, 0.5, 'Frequência')"
            ]
          },
          "execution_count": 101,
          "metadata": {},
          "output_type": "execute_result"
        },
        {
          "data": {
            "image/png": "[encoded data removed]",
            "text/plain": [
              "<Figure size 640x480 with 1 Axes>"
            ]
          },
          "metadata": {},
          "output_type": "display_data"
        }
      ],
      "source": [
        "y_pred1 = logreg.predict_proba(X_test)[:, 1]\n",
        "\n",
        "plt.rcParams['font.size'] = 12\n",
        "\n",
        "plt.hist(y_pred1, bins = 10)\n",
        "\n",
        "plt.title('Histograma das Probabilidades Preditas de Inadimplencia')\n",
        "\n",
        "plt.xlim(0,1)\n",
        "\n",
        "plt.xlabel('Probabiliades preditas de Inadimplencia')\n",
        "plt.ylabel('Frequência')"
      ]
    },
    {
      "cell_type": "markdown",
      "metadata": {
        "id": "65ghZSu2woij"
      },
      "source": [
        "Vemos que o histograma é bem enviesado positivamente, isto é, possui um peueno número de probabilidades maiores que $0,5$, o que mostra que a maioria das predições é de que o cliente **não será inadimplente**"
      ]
    },
    {
      "cell_type": "markdown",
      "metadata": {
        "id": "0GgLubTFw_on"
      },
      "source": [
        "---\n",
        "## 5. Aprimorando o Modelo"
      ]
    },
    {
      "cell_type": "markdown",
      "metadata": {
        "id": "cGrCGeBhxIjd"
      },
      "source": [
        "### 5.1. Recursive Feature Elimination com Cross Validation\n"
      ]
    },
    {
      "cell_type": "markdown",
      "metadata": {
        "id": "yI12ZQfa2Xg5"
      },
      "source": [
        "- **Recursive feature elimination (RFE):** É uma técnica de seleção de características, que nos ajuda a selecionar as melhores características do modelo. Inicialmente, o modelo é construído com base em todas as características fornecidas, em seguida, o preditor menos útil é removido e o modelo é construído novamente. Esse processo é repetido até que todas as características sem importância sejam removidas do modelo.\n",
        "\n",
        "- **Recursive Feature Elimination with Cross-Validated (RFECV):** A técnica de seleção de características seleciona o melhor subconjunto de características para o estimador, removendo de $0$ a $n$ características iterativamente usando a eliminação recursiva de características. Em seguida, seleciona o melhor subconjunto com base na precisão, na pontuação de validação cruzada ou no roc-auc do modelo.\n",
        "\n",
        "Vamos usar isso para selecioanr as melhores característica para nosso modelo"
      ]
    },
    {
      "cell_type": "code",
      "execution_count": 102,
      "metadata": {
        "collapsed": true,
        "id": "mEGT9wOxyfFB"
      },
      "outputs": [],
      "source": [
        "#aplica os métodos\n",
        "from sklearn.feature_selection import RFECV\n",
        "\n",
        "y_train = y_train.to_numpy().ravel()\n",
        "\n",
        "rfecv = RFECV(estimator=logreg, step=1, cv=5, scoring='accuracy')\n",
        "\n",
        "rfecv = rfecv.fit(X_train, y_train)"
      ]
    },
    {
      "cell_type": "code",
      "execution_count": 103,
      "metadata": {
        "colab": {
          "base_uri": "https://localhost:8080/"
        },
        "id": "2hQo5YE8ytzW",
        "outputId": "5bcb57f7-44b6-4950-ab52-b74a62f1dd78"
      },
      "outputs": [
        {
          "name": "stdout",
          "output_type": "stream",
          "text": [
            "Número ideal de características : 178\n"
          ]
        }
      ],
      "source": [
        "#retorna o número de características escolhidas\n",
        "print(\"Número ideal de características : %d\" % rfecv.n_features_)"
      ]
    },
    {
      "cell_type": "code",
      "execution_count": 104,
      "metadata": {
        "colab": {
          "base_uri": "https://localhost:8080/",
          "height": 80
        },
        "id": "pJquibzhzgrb",
        "outputId": "db31f51e-f834-43b4-9c54-95332c7c603a"
      },
      "outputs": [
        {
          "data": {
            "text/html": [
              "<style>#sk-container-id-2 {\n",
              "  /* Definition of color scheme common for light and dark mode */\n",
              "  --sklearn-color-text: #000;\n",
              "  --sklearn-color-text-muted: #666;\n",
              "  --sklearn-color-line: gray;\n",
              "  /* Definition of color scheme for unfitted estimators */\n",
              "  --sklearn-color-unfitted-level-0: #fff5e6;\n",
              "  --sklearn-color-unfitted-level-1: #f6e4d2;\n",
              "  --sklearn-color-unfitted-level-2: #ffe0b3;\n",
              "  --sklearn-color-unfitted-level-3: chocolate;\n",
              "  /* Definition of color scheme for fitted estimators */\n",
              "  --sklearn-color-fitted-level-0: #f0f8ff;\n",
              "  --sklearn-color-fitted-level-1: #d4ebff;\n",
              "  --sklearn-color-fitted-level-2: #b3dbfd;\n",
              "  --sklearn-color-fitted-level-3: cornflowerblue;\n",
              "\n",
              "  /* Specific color for light theme */\n",
              "  --sklearn-color-text-on-default-background: var(--sg-text-color, var(--theme-code-foreground, var(--jp-content-font-color1, black)));\n",
              "  --sklearn-color-background: var(--sg-background-color, var(--theme-background, var(--jp-layout-color0, white)));\n",
              "  --sklearn-color-border-box: var(--sg-text-color, var(--theme-code-foreground, var(--jp-content-font-color1, black)));\n",
              "  --sklearn-color-icon: #696969;\n",
              "\n",
              "  @media (prefers-color-scheme: dark) {\n",
              "    /* Redefinition of color scheme for dark theme */\n",
              "    --sklearn-color-text-on-default-background: var(--sg-text-color, var(--theme-code-foreground, var(--jp-content-font-color1, white)));\n",
              "    --sklearn-color-background: var(--sg-background-color, var(--theme-background, var(--jp-layout-color0, #111)));\n",
              "    --sklearn-color-border-box: var(--sg-text-color, var(--theme-code-foreground, var(--jp-content-font-color1, white)));\n",
              "    --sklearn-color-icon: #878787;\n",
              "  }\n",
              "}\n",
              "\n",
              "#sk-container-id-2 {\n",
              "  color: var(--sklearn-color-text);\n",
              "}\n",
              "\n",
              "#sk-container-id-2 pre {\n",
              "  padding: 0;\n",
              "}\n",
              "\n",
              "#sk-container-id-2 input.sk-hidden--visually {\n",
              "  border: 0;\n",
              "  clip: rect(1px 1px 1px 1px);\n",
              "  clip: rect(1px, 1px, 1px, 1px);\n",
              "  height: 1px;\n",
              "  margin: -1px;\n",
              "  overflow: hidden;\n",
              "  padding: 0;\n",
              "  position: absolute;\n",
              "  width: 1px;\n",
              "}\n",
              "\n",
              "#sk-container-id-2 div.sk-dashed-wrapped {\n",
              "  border: 1px dashed var(--sklearn-color-line);\n",
              "  margin: 0 0.4em 0.5em 0.4em;\n",
              "  box-sizing: border-box;\n",
              "  padding-bottom: 0.4em;\n",
              "  background-color: var(--sklearn-color-background);\n",
              "}\n",
              "\n",
              "#sk-container-id-2 div.sk-container {\n",
              "  /* jupyter's `normalize.less` sets `[hidden] { display: none; }`\n",
              "     but bootstrap.min.css set `[hidden] { display: none !important; }`\n",
              "     so we also need the `!important` here to be able to override the\n",
              "     default hidden behavior on the sphinx rendered scikit-learn.org.\n",
              "     See: https://github.com/scikit-learn/scikit-learn/issues/21755 */\n",
              "  display: inline-block !important;\n",
              "  position: relative;\n",
              "}\n",
              "\n",
              "#sk-container-id-2 div.sk-text-repr-fallback {\n",
              "  display: none;\n",
              "}\n",
              "\n",
              "div.sk-parallel-item,\n",
              "div.sk-serial,\n",
              "div.sk-item {\n",
              "  /* draw centered vertical line to link estimators */\n",
              "  background-image: linear-gradient(var(--sklearn-color-text-on-default-background), var(--sklearn-color-text-on-default-background));\n",
              "  background-size: 2px 100%;\n",
              "  background-repeat: no-repeat;\n",
              "  background-position: center center;\n",
              "}\n",
              "\n",
              "/* Parallel-specific style estimator block */\n",
              "\n",
              "#sk-container-id-2 div.sk-parallel-item::after {\n",
              "  content: \"\";\n",
              "  width: 100%;\n",
              "  border-bottom: 2px solid var(--sklearn-color-text-on-default-background);\n",
              "  flex-grow: 1;\n",
              "}\n",
              "\n",
              "#sk-container-id-2 div.sk-parallel {\n",
              "  display: flex;\n",
              "  align-items: stretch;\n",
              "  justify-content: center;\n",
              "  background-color: var(--sklearn-color-background);\n",
              "  position: relative;\n",
              "}\n",
              "\n",
              "#sk-container-id-2 div.sk-parallel-item {\n",
              "  display: flex;\n",
              "  flex-direction: column;\n",
              "}\n",
              "\n",
              "#sk-container-id-2 div.sk-parallel-item:first-child::after {\n",
              "  align-self: flex-end;\n",
              "  width: 50%;\n",
              "}\n",
              "\n",
              "#sk-container-id-2 div.sk-parallel-item:last-child::after {\n",
              "  align-self: flex-start;\n",
              "  width: 50%;\n",
              "}\n",
              "\n",
              "#sk-container-id-2 div.sk-parallel-item:only-child::after {\n",
              "  width: 0;\n",
              "}\n",
              "\n",
              "/* Serial-specific style estimator block */\n",
              "\n",
              "#sk-container-id-2 div.sk-serial {\n",
              "  display: flex;\n",
              "  flex-direction: column;\n",
              "  align-items: center;\n",
              "  background-color: var(--sklearn-color-background);\n",
              "  padding-right: 1em;\n",
              "  padding-left: 1em;\n",
              "}\n",
              "\n",
              "\n",
              "/* Toggleable style: style used for estimator/Pipeline/ColumnTransformer box that is\n",
              "clickable and can be expanded/collapsed.\n",
              "- Pipeline and ColumnTransformer use this feature and define the default style\n",
              "- Estimators will overwrite some part of the style using the `sk-estimator` class\n",
              "*/\n",
              "\n",
              "/* Pipeline and ColumnTransformer style (default) */\n",
              "\n",
              "#sk-container-id-2 div.sk-toggleable {\n",
              "  /* Default theme specific background. It is overwritten whether we have a\n",
              "  specific estimator or a Pipeline/ColumnTransformer */\n",
              "  background-color: var(--sklearn-color-background);\n",
              "}\n",
              "\n",
              "/* Toggleable label */\n",
              "#sk-container-id-2 label.sk-toggleable__label {\n",
              "  cursor: pointer;\n",
              "  display: flex;\n",
              "  width: 100%;\n",
              "  margin-bottom: 0;\n",
              "  padding: 0.5em;\n",
              "  box-sizing: border-box;\n",
              "  text-align: center;\n",
              "  align-items: start;\n",
              "  justify-content: space-between;\n",
              "  gap: 0.5em;\n",
              "}\n",
              "\n",
              "#sk-container-id-2 label.sk-toggleable__label .caption {\n",
              "  font-size: 0.6rem;\n",
              "  font-weight: lighter;\n",
              "  color: var(--sklearn-color-text-muted);\n",
              "}\n",
              "\n",
              "#sk-container-id-2 label.sk-toggleable__label-arrow:before {\n",
              "  /* Arrow on the left of the label */\n",
              "  content: \"▸\";\n",
              "  float: left;\n",
              "  margin-right: 0.25em;\n",
              "  color: var(--sklearn-color-icon);\n",
              "}\n",
              "\n",
              "#sk-container-id-2 label.sk-toggleable__label-arrow:hover:before {\n",
              "  color: var(--sklearn-color-text);\n",
              "}\n",
              "\n",
              "/* Toggleable content - dropdown */\n",
              "\n",
              "#sk-container-id-2 div.sk-toggleable__content {\n",
              "  display: none;\n",
              "  text-align: left;\n",
              "  /* unfitted */\n",
              "  background-color: var(--sklearn-color-unfitted-level-0);\n",
              "}\n",
              "\n",
              "#sk-container-id-2 div.sk-toggleable__content.fitted {\n",
              "  /* fitted */\n",
              "  background-color: var(--sklearn-color-fitted-level-0);\n",
              "}\n",
              "\n",
              "#sk-container-id-2 div.sk-toggleable__content pre {\n",
              "  margin: 0.2em;\n",
              "  border-radius: 0.25em;\n",
              "  color: var(--sklearn-color-text);\n",
              "  /* unfitted */\n",
              "  background-color: var(--sklearn-color-unfitted-level-0);\n",
              "}\n",
              "\n",
              "#sk-container-id-2 div.sk-toggleable__content.fitted pre {\n",
              "  /* unfitted */\n",
              "  background-color: var(--sklearn-color-fitted-level-0);\n",
              "}\n",
              "\n",
              "#sk-container-id-2 input.sk-toggleable__control:checked~div.sk-toggleable__content {\n",
              "  /* Expand drop-down */\n",
              "  display: block;\n",
              "  width: 100%;\n",
              "  overflow: visible;\n",
              "}\n",
              "\n",
              "#sk-container-id-2 input.sk-toggleable__control:checked~label.sk-toggleable__label-arrow:before {\n",
              "  content: \"▾\";\n",
              "}\n",
              "\n",
              "/* Pipeline/ColumnTransformer-specific style */\n",
              "\n",
              "#sk-container-id-2 div.sk-label input.sk-toggleable__control:checked~label.sk-toggleable__label {\n",
              "  color: var(--sklearn-color-text);\n",
              "  background-color: var(--sklearn-color-unfitted-level-2);\n",
              "}\n",
              "\n",
              "#sk-container-id-2 div.sk-label.fitted input.sk-toggleable__control:checked~label.sk-toggleable__label {\n",
              "  background-color: var(--sklearn-color-fitted-level-2);\n",
              "}\n",
              "\n",
              "/* Estimator-specific style */\n",
              "\n",
              "/* Colorize estimator box */\n",
              "#sk-container-id-2 div.sk-estimator input.sk-toggleable__control:checked~label.sk-toggleable__label {\n",
              "  /* unfitted */\n",
              "  background-color: var(--sklearn-color-unfitted-level-2);\n",
              "}\n",
              "\n",
              "#sk-container-id-2 div.sk-estimator.fitted input.sk-toggleable__control:checked~label.sk-toggleable__label {\n",
              "  /* fitted */\n",
              "  background-color: var(--sklearn-color-fitted-level-2);\n",
              "}\n",
              "\n",
              "#sk-container-id-2 div.sk-label label.sk-toggleable__label,\n",
              "#sk-container-id-2 div.sk-label label {\n",
              "  /* The background is the default theme color */\n",
              "  color: var(--sklearn-color-text-on-default-background);\n",
              "}\n",
              "\n",
              "/* On hover, darken the color of the background */\n",
              "#sk-container-id-2 div.sk-label:hover label.sk-toggleable__label {\n",
              "  color: var(--sklearn-color-text);\n",
              "  background-color: var(--sklearn-color-unfitted-level-2);\n",
              "}\n",
              "\n",
              "/* Label box, darken color on hover, fitted */\n",
              "#sk-container-id-2 div.sk-label.fitted:hover label.sk-toggleable__label.fitted {\n",
              "  color: var(--sklearn-color-text);\n",
              "  background-color: var(--sklearn-color-fitted-level-2);\n",
              "}\n",
              "\n",
              "/* Estimator label */\n",
              "\n",
              "#sk-container-id-2 div.sk-label label {\n",
              "  font-family: monospace;\n",
              "  font-weight: bold;\n",
              "  display: inline-block;\n",
              "  line-height: 1.2em;\n",
              "}\n",
              "\n",
              "#sk-container-id-2 div.sk-label-container {\n",
              "  text-align: center;\n",
              "}\n",
              "\n",
              "/* Estimator-specific */\n",
              "#sk-container-id-2 div.sk-estimator {\n",
              "  font-family: monospace;\n",
              "  border: 1px dotted var(--sklearn-color-border-box);\n",
              "  border-radius: 0.25em;\n",
              "  box-sizing: border-box;\n",
              "  margin-bottom: 0.5em;\n",
              "  /* unfitted */\n",
              "  background-color: var(--sklearn-color-unfitted-level-0);\n",
              "}\n",
              "\n",
              "#sk-container-id-2 div.sk-estimator.fitted {\n",
              "  /* fitted */\n",
              "  background-color: var(--sklearn-color-fitted-level-0);\n",
              "}\n",
              "\n",
              "/* on hover */\n",
              "#sk-container-id-2 div.sk-estimator:hover {\n",
              "  /* unfitted */\n",
              "  background-color: var(--sklearn-color-unfitted-level-2);\n",
              "}\n",
              "\n",
              "#sk-container-id-2 div.sk-estimator.fitted:hover {\n",
              "  /* fitted */\n",
              "  background-color: var(--sklearn-color-fitted-level-2);\n",
              "}\n",
              "\n",
              "/* Specification for estimator info (e.g. \"i\" and \"?\") */\n",
              "\n",
              "/* Common style for \"i\" and \"?\" */\n",
              "\n",
              ".sk-estimator-doc-link,\n",
              "a:link.sk-estimator-doc-link,\n",
              "a:visited.sk-estimator-doc-link {\n",
              "  float: right;\n",
              "  font-size: smaller;\n",
              "  line-height: 1em;\n",
              "  font-family: monospace;\n",
              "  background-color: var(--sklearn-color-background);\n",
              "  border-radius: 1em;\n",
              "  height: 1em;\n",
              "  width: 1em;\n",
              "  text-decoration: none !important;\n",
              "  margin-left: 0.5em;\n",
              "  text-align: center;\n",
              "  /* unfitted */\n",
              "  border: var(--sklearn-color-unfitted-level-1) 1pt solid;\n",
              "  color: var(--sklearn-color-unfitted-level-1);\n",
              "}\n",
              "\n",
              ".sk-estimator-doc-link.fitted,\n",
              "a:link.sk-estimator-doc-link.fitted,\n",
              "a:visited.sk-estimator-doc-link.fitted {\n",
              "  /* fitted */\n",
              "  border: var(--sklearn-color-fitted-level-1) 1pt solid;\n",
              "  color: var(--sklearn-color-fitted-level-1);\n",
              "}\n",
              "\n",
              "/* On hover */\n",
              "div.sk-estimator:hover .sk-estimator-doc-link:hover,\n",
              ".sk-estimator-doc-link:hover,\n",
              "div.sk-label-container:hover .sk-estimator-doc-link:hover,\n",
              ".sk-estimator-doc-link:hover {\n",
              "  /* unfitted */\n",
              "  background-color: var(--sklearn-color-unfitted-level-3);\n",
              "  color: var(--sklearn-color-background);\n",
              "  text-decoration: none;\n",
              "}\n",
              "\n",
              "div.sk-estimator.fitted:hover .sk-estimator-doc-link.fitted:hover,\n",
              ".sk-estimator-doc-link.fitted:hover,\n",
              "div.sk-label-container:hover .sk-estimator-doc-link.fitted:hover,\n",
              ".sk-estimator-doc-link.fitted:hover {\n",
              "  /* fitted */\n",
              "  background-color: var(--sklearn-color-fitted-level-3);\n",
              "  color: var(--sklearn-color-background);\n",
              "  text-decoration: none;\n",
              "}\n",
              "\n",
              "/* Span, style for the box shown on hovering the info icon */\n",
              ".sk-estimator-doc-link span {\n",
              "  display: none;\n",
              "  z-index: 9999;\n",
              "  position: relative;\n",
              "  font-weight: normal;\n",
              "  right: .2ex;\n",
              "  padding: .5ex;\n",
              "  margin: .5ex;\n",
              "  width: min-content;\n",
              "  min-width: 20ex;\n",
              "  max-width: 50ex;\n",
              "  color: var(--sklearn-color-text);\n",
              "  box-shadow: 2pt 2pt 4pt #999;\n",
              "  /* unfitted */\n",
              "  background: var(--sklearn-color-unfitted-level-0);\n",
              "  border: .5pt solid var(--sklearn-color-unfitted-level-3);\n",
              "}\n",
              "\n",
              ".sk-estimator-doc-link.fitted span {\n",
              "  /* fitted */\n",
              "  background: var(--sklearn-color-fitted-level-0);\n",
              "  border: var(--sklearn-color-fitted-level-3);\n",
              "}\n",
              "\n",
              ".sk-estimator-doc-link:hover span {\n",
              "  display: block;\n",
              "}\n",
              "\n",
              "/* \"?\"-specific style due to the `<a>` HTML tag */\n",
              "\n",
              "#sk-container-id-2 a.estimator_doc_link {\n",
              "  float: right;\n",
              "  font-size: 1rem;\n",
              "  line-height: 1em;\n",
              "  font-family: monospace;\n",
              "  background-color: var(--sklearn-color-background);\n",
              "  border-radius: 1rem;\n",
              "  height: 1rem;\n",
              "  width: 1rem;\n",
              "  text-decoration: none;\n",
              "  /* unfitted */\n",
              "  color: var(--sklearn-color-unfitted-level-1);\n",
              "  border: var(--sklearn-color-unfitted-level-1) 1pt solid;\n",
              "}\n",
              "\n",
              "#sk-container-id-2 a.estimator_doc_link.fitted {\n",
              "  /* fitted */\n",
              "  border: var(--sklearn-color-fitted-level-1) 1pt solid;\n",
              "  color: var(--sklearn-color-fitted-level-1);\n",
              "}\n",
              "\n",
              "/* On hover */\n",
              "#sk-container-id-2 a.estimator_doc_link:hover {\n",
              "  /* unfitted */\n",
              "  background-color: var(--sklearn-color-unfitted-level-3);\n",
              "  color: var(--sklearn-color-background);\n",
              "  text-decoration: none;\n",
              "}\n",
              "\n",
              "#sk-container-id-2 a.estimator_doc_link.fitted:hover {\n",
              "  /* fitted */\n",
              "  background-color: var(--sklearn-color-fitted-level-3);\n",
              "}\n",
              "\n",
              ".estimator-table summary {\n",
              "    padding: .5rem;\n",
              "    font-family: monospace;\n",
              "    cursor: pointer;\n",
              "}\n",
              "\n",
              ".estimator-table details[open] {\n",
              "    padding-left: 0.1rem;\n",
              "    padding-right: 0.1rem;\n",
              "    padding-bottom: 0.3rem;\n",
              "}\n",
              "\n",
              ".estimator-table .parameters-table {\n",
              "    margin-left: auto !important;\n",
              "    margin-right: auto !important;\n",
              "}\n",
              "\n",
              ".estimator-table .parameters-table tr:nth-child(odd) {\n",
              "    background-color: #fff;\n",
              "}\n",
              "\n",
              ".estimator-table .parameters-table tr:nth-child(even) {\n",
              "    background-color: #f6f6f6;\n",
              "}\n",
              "\n",
              ".estimator-table .parameters-table tr:hover {\n",
              "    background-color: #e0e0e0;\n",
              "}\n",
              "\n",
              ".estimator-table table td {\n",
              "    border: 1px solid rgba(106, 105, 104, 0.232);\n",
              "}\n",
              "\n",
              ".user-set td {\n",
              "    color:rgb(255, 94, 0);\n",
              "    text-align: left;\n",
              "}\n",
              "\n",
              ".user-set td.value pre {\n",
              "    color:rgb(255, 94, 0) !important;\n",
              "    background-color: transparent !important;\n",
              "}\n",
              "\n",
              ".default td {\n",
              "    color: black;\n",
              "    text-align: left;\n",
              "}\n",
              "\n",
              ".user-set td i,\n",
              ".default td i {\n",
              "    color: black;\n",
              "}\n",
              "\n",
              ".copy-paste-icon {\n",
              "    background-image: url(data:image/svg+xml;base64,PHN2ZyB4bWxucz0iaHR0cDovL3d3dy53My5vcmcvMjAwMC9zdmciIHZpZXdCb3g9IjAgMCA0NDggNTEyIj48IS0tIUZvbnQgQXdlc29tZSBGcmVlIDYuNy4yIGJ5IEBmb250YXdlc29tZSAtIGh0dHBzOi8vZm9udGF3ZXNvbWUuY29tIExpY2Vuc2UgLSBodHRwczovL2ZvbnRhd2Vzb21lLmNvbS9saWNlbnNlL2ZyZWUgQ29weXJpZ2h0IDIwMjUgRm9udGljb25zLCBJbmMuLS0+PHBhdGggZD0iTTIwOCAwTDMzMi4xIDBjMTIuNyAwIDI0LjkgNS4xIDMzLjkgMTQuMWw2Ny45IDY3LjljOSA5IDE0LjEgMjEuMiAxNC4xIDMzLjlMNDQ4IDMzNmMwIDI2LjUtMjEuNSA0OC00OCA0OGwtMTkyIDBjLTI2LjUgMC00OC0yMS41LTQ4LTQ4bDAtMjg4YzAtMjYuNSAyMS41LTQ4IDQ4LTQ4ek00OCAxMjhsODAgMCAwIDY0LTY0IDAgMCAyNTYgMTkyIDAgMC0zMiA2NCAwIDAgNDhjMCAyNi41LTIxLjUgNDgtNDggNDhMNDggNTEyYy0yNi41IDAtNDgtMjEuNS00OC00OEwwIDE3NmMwLTI2LjUgMjEuNS00OCA0OC00OHoiLz48L3N2Zz4=);\n",
              "    background-repeat: no-repeat;\n",
              "    background-size: 14px 14px;\n",
              "    background-position: 0;\n",
              "    display: inline-block;\n",
              "    width: 14px;\n",
              "    height: 14px;\n",
              "    cursor: pointer;\n",
              "}\n",
              "</style><body><div id=\"sk-container-id-2\" class=\"sk-top-container\"><div class=\"sk-text-repr-fallback\"><pre>LogisticRegression(random_state=0, solver=&#x27;liblinear&#x27;)</pre><b>In a Jupyter environment, please rerun this cell to show the HTML representation or trust the notebook. <br />On GitHub, the HTML representation is unable to render, please try loading this page with nbviewer.org.</b></div><div class=\"sk-container\" hidden><div class=\"sk-item\"><div class=\"sk-estimator fitted sk-toggleable\"><input class=\"sk-toggleable__control sk-hidden--visually\" id=\"sk-estimator-id-2\" type=\"checkbox\" checked><label for=\"sk-estimator-id-2\" class=\"sk-toggleable__label fitted sk-toggleable__label-arrow\"><div><div>LogisticRegression</div></div><div><a class=\"sk-estimator-doc-link fitted\" rel=\"noreferrer\" target=\"_blank\" href=\"https://scikit-learn.org/1.7/modules/generated/sklearn.linear_model.LogisticRegression.html\">?<span>Documentation for LogisticRegression</span></a><span class=\"sk-estimator-doc-link fitted\">i<span>Fitted</span></span></div></label><div class=\"sk-toggleable__content fitted\" data-param-prefix=\"\">\n",
              "        <div class=\"estimator-table\">\n",
              "            <details>\n",
              "                <summary>Parameters</summary>\n",
              "                <table class=\"parameters-table\">\n",
              "                  <tbody>\n",
              "                    \n",
              "        <tr class=\"default\">\n",
              "            <td><i class=\"copy-paste-icon\"\n",
              "                 onclick=\"copyToClipboard('penalty',\n",
              "                          this.parentElement.nextElementSibling)\"\n",
              "            ></i></td>\n",
              "            <td class=\"param\">penalty&nbsp;</td>\n",
              "            <td class=\"value\">&#x27;l2&#x27;</td>\n",
              "        </tr>\n",
              "    \n",
              "\n",
              "        <tr class=\"default\">\n",
              "            <td><i class=\"copy-paste-icon\"\n",
              "                 onclick=\"copyToClipboard('dual',\n",
              "                          this.parentElement.nextElementSibling)\"\n",
              "            ></i></td>\n",
              "            <td class=\"param\">dual&nbsp;</td>\n",
              "            <td class=\"value\">False</td>\n",
              "        </tr>\n",
              "    \n",
              "\n",
              "        <tr class=\"default\">\n",
              "            <td><i class=\"copy-paste-icon\"\n",
              "                 onclick=\"copyToClipboard('tol',\n",
              "                          this.parentElement.nextElementSibling)\"\n",
              "            ></i></td>\n",
              "            <td class=\"param\">tol&nbsp;</td>\n",
              "            <td class=\"value\">0.0001</td>\n",
              "        </tr>\n",
              "    \n",
              "\n",
              "        <tr class=\"default\">\n",
              "            <td><i class=\"copy-paste-icon\"\n",
              "                 onclick=\"copyToClipboard('C',\n",
              "                          this.parentElement.nextElementSibling)\"\n",
              "            ></i></td>\n",
              "            <td class=\"param\">C&nbsp;</td>\n",
              "            <td class=\"value\">1.0</td>\n",
              "        </tr>\n",
              "    \n",
              "\n",
              "        <tr class=\"default\">\n",
              "            <td><i class=\"copy-paste-icon\"\n",
              "                 onclick=\"copyToClipboard('fit_intercept',\n",
              "                          this.parentElement.nextElementSibling)\"\n",
              "            ></i></td>\n",
              "            <td class=\"param\">fit_intercept&nbsp;</td>\n",
              "            <td class=\"value\">True</td>\n",
              "        </tr>\n",
              "    \n",
              "\n",
              "        <tr class=\"default\">\n",
              "            <td><i class=\"copy-paste-icon\"\n",
              "                 onclick=\"copyToClipboard('intercept_scaling',\n",
              "                          this.parentElement.nextElementSibling)\"\n",
              "            ></i></td>\n",
              "            <td class=\"param\">intercept_scaling&nbsp;</td>\n",
              "            <td class=\"value\">1</td>\n",
              "        </tr>\n",
              "    \n",
              "\n",
              "        <tr class=\"default\">\n",
              "            <td><i class=\"copy-paste-icon\"\n",
              "                 onclick=\"copyToClipboard('class_weight',\n",
              "                          this.parentElement.nextElementSibling)\"\n",
              "            ></i></td>\n",
              "            <td class=\"param\">class_weight&nbsp;</td>\n",
              "            <td class=\"value\">None</td>\n",
              "        </tr>\n",
              "    \n",
              "\n",
              "        <tr class=\"user-set\">\n",
              "            <td><i class=\"copy-paste-icon\"\n",
              "                 onclick=\"copyToClipboard('random_state',\n",
              "                          this.parentElement.nextElementSibling)\"\n",
              "            ></i></td>\n",
              "            <td class=\"param\">random_state&nbsp;</td>\n",
              "            <td class=\"value\">0</td>\n",
              "        </tr>\n",
              "    \n",
              "\n",
              "        <tr class=\"user-set\">\n",
              "            <td><i class=\"copy-paste-icon\"\n",
              "                 onclick=\"copyToClipboard('solver',\n",
              "                          this.parentElement.nextElementSibling)\"\n",
              "            ></i></td>\n",
              "            <td class=\"param\">solver&nbsp;</td>\n",
              "            <td class=\"value\">&#x27;liblinear&#x27;</td>\n",
              "        </tr>\n",
              "    \n",
              "\n",
              "        <tr class=\"default\">\n",
              "            <td><i class=\"copy-paste-icon\"\n",
              "                 onclick=\"copyToClipboard('max_iter',\n",
              "                          this.parentElement.nextElementSibling)\"\n",
              "            ></i></td>\n",
              "            <td class=\"param\">max_iter&nbsp;</td>\n",
              "            <td class=\"value\">100</td>\n",
              "        </tr>\n",
              "    \n",
              "\n",
              "        <tr class=\"default\">\n",
              "            <td><i class=\"copy-paste-icon\"\n",
              "                 onclick=\"copyToClipboard('multi_class',\n",
              "                          this.parentElement.nextElementSibling)\"\n",
              "            ></i></td>\n",
              "            <td class=\"param\">multi_class&nbsp;</td>\n",
              "            <td class=\"value\">&#x27;deprecated&#x27;</td>\n",
              "        </tr>\n",
              "    \n",
              "\n",
              "        <tr class=\"default\">\n",
              "            <td><i class=\"copy-paste-icon\"\n",
              "                 onclick=\"copyToClipboard('verbose',\n",
              "                          this.parentElement.nextElementSibling)\"\n",
              "            ></i></td>\n",
              "            <td class=\"param\">verbose&nbsp;</td>\n",
              "            <td class=\"value\">0</td>\n",
              "        </tr>\n",
              "    \n",
              "\n",
              "        <tr class=\"default\">\n",
              "            <td><i class=\"copy-paste-icon\"\n",
              "                 onclick=\"copyToClipboard('warm_start',\n",
              "                          this.parentElement.nextElementSibling)\"\n",
              "            ></i></td>\n",
              "            <td class=\"param\">warm_start&nbsp;</td>\n",
              "            <td class=\"value\">False</td>\n",
              "        </tr>\n",
              "    \n",
              "\n",
              "        <tr class=\"default\">\n",
              "            <td><i class=\"copy-paste-icon\"\n",
              "                 onclick=\"copyToClipboard('n_jobs',\n",
              "                          this.parentElement.nextElementSibling)\"\n",
              "            ></i></td>\n",
              "            <td class=\"param\">n_jobs&nbsp;</td>\n",
              "            <td class=\"value\">None</td>\n",
              "        </tr>\n",
              "    \n",
              "\n",
              "        <tr class=\"default\">\n",
              "            <td><i class=\"copy-paste-icon\"\n",
              "                 onclick=\"copyToClipboard('l1_ratio',\n",
              "                          this.parentElement.nextElementSibling)\"\n",
              "            ></i></td>\n",
              "            <td class=\"param\">l1_ratio&nbsp;</td>\n",
              "            <td class=\"value\">None</td>\n",
              "        </tr>\n",
              "    \n",
              "                  </tbody>\n",
              "                </table>\n",
              "            </details>\n",
              "        </div>\n",
              "    </div></div></div></div></div><script>function copyToClipboard(text, element) {\n",
              "    // Get the parameter prefix from the closest toggleable content\n",
              "    const toggleableContent = element.closest('.sk-toggleable__content');\n",
              "    const paramPrefix = toggleableContent ? toggleableContent.dataset.paramPrefix : '';\n",
              "    const fullParamName = paramPrefix ? `${paramPrefix}${text}` : text;\n",
              "\n",
              "    const originalStyle = element.style;\n",
              "    const computedStyle = window.getComputedStyle(element);\n",
              "    const originalWidth = computedStyle.width;\n",
              "    const originalHTML = element.innerHTML.replace('Copied!', '');\n",
              "\n",
              "    navigator.clipboard.writeText(fullParamName)\n",
              "        .then(() => {\n",
              "            element.style.width = originalWidth;\n",
              "            element.style.color = 'green';\n",
              "            element.innerHTML = \"Copied!\";\n",
              "\n",
              "            setTimeout(() => {\n",
              "                element.innerHTML = originalHTML;\n",
              "                element.style = originalStyle;\n",
              "            }, 2000);\n",
              "        })\n",
              "        .catch(err => {\n",
              "            console.error('Failed to copy:', err);\n",
              "            element.style.color = 'red';\n",
              "            element.innerHTML = \"Failed!\";\n",
              "            setTimeout(() => {\n",
              "                element.innerHTML = originalHTML;\n",
              "                element.style = originalStyle;\n",
              "            }, 2000);\n",
              "        });\n",
              "    return false;\n",
              "}\n",
              "\n",
              "document.querySelectorAll('.fa-regular.fa-copy').forEach(function(element) {\n",
              "    const toggleableContent = element.closest('.sk-toggleable__content');\n",
              "    const paramPrefix = toggleableContent ? toggleableContent.dataset.paramPrefix : '';\n",
              "    const paramName = element.parentElement.nextElementSibling.textContent.trim();\n",
              "    const fullParamName = paramPrefix ? `${paramPrefix}${paramName}` : paramName;\n",
              "\n",
              "    element.setAttribute('title', fullParamName);\n",
              "});\n",
              "</script></body>"
            ],
            "text/plain": [
              "LogisticRegression(random_state=0, solver='liblinear')"
            ]
          },
          "execution_count": 104,
          "metadata": {},
          "output_type": "execute_result"
        }
      ],
      "source": [
        "# trasforma os dados de treino\n",
        "X_train_rfecv = rfecv.transform(X_train)\n",
        "\n",
        "# treina o modelo\n",
        "logreg.fit(X_train_rfecv, y_train)"
      ]
    },
    {
      "cell_type": "code",
      "execution_count": 105,
      "metadata": {
        "id": "bphcMP8hzw9i"
      },
      "outputs": [],
      "source": [
        "#testa o modelo nos dados de teste\n",
        "X_test_rfecv = rfecv.transform(X_test)\n",
        "\n",
        "y_pred_rfecv = logreg.predict(X_test_rfecv)"
      ]
    },
    {
      "cell_type": "code",
      "execution_count": 106,
      "metadata": {
        "colab": {
          "base_uri": "https://localhost:8080/"
        },
        "id": "AgsxBl_9z3m5",
        "outputId": "1a1db0a9-944e-4a25-c47c-e2b5788e655d"
      },
      "outputs": [
        {
          "name": "stdout",
          "output_type": "stream",
          "text": [
            "Classifier score: 0.9198\n"
          ]
        }
      ],
      "source": [
        "#retorna a acurácia dos modelo nos dados de teste\n",
        "print (\"Classifier score: {:.4f}\".format(logreg.score(X_test_rfecv,y_test)))"
      ]
    },
    {
      "cell_type": "markdown",
      "metadata": {
        "id": "nr7a9nsO0Psz"
      },
      "source": [
        "Nossa acurácia original era de $0.9095$, logo ouve um aumento na acurácia porém com um conjunto reduzido de paraâmetros no modelo"
      ]
    },
    {
      "cell_type": "markdown",
      "metadata": {
        "id": "rRRfL7lv9mRs"
      },
      "source": [
        "### 5.2. k-Fold Cross Validation"
      ]
    },
    {
      "cell_type": "markdown",
      "metadata": {
        "id": "32ua5vHRCN7B"
      },
      "source": [
        "A ideia principal da k-Fold Cross Validatio é dividir o dataset em K subconjuntos (ou \"folds\") de tamanhos aproximadamente iguais, onde um desse subconjuntos é escolhido como teste e os demias como treino. O processo então se repete K vezes. Neste caso vamos escolher $k = 10$\n"
      ]
    },
    {
      "cell_type": "code",
      "execution_count": 107,
      "metadata": {
        "colab": {
          "base_uri": "https://localhost:8080/"
        },
        "id": "aDsVs2IA9lRS",
        "outputId": "e4fb93bb-325d-422f-bc7b-527d2dea7c2e"
      },
      "outputs": [
        {
          "name": "stdout",
          "output_type": "stream",
          "text": [
            "Cross-validation scores:[0.9176022  0.92014404 0.9262868  0.92033898 0.91716102]\n"
          ]
        }
      ],
      "source": [
        "#aplicando 10-Fold Cross Validation\n",
        "\n",
        "from sklearn.model_selection import cross_val_score\n",
        "\n",
        "scores = cross_val_score(logreg, X_train, y_train, cv = 5, scoring='accuracy')\n",
        "\n",
        "print('Cross-validation scores:{}'.format(scores))"
      ]
    },
    {
      "cell_type": "code",
      "execution_count": 108,
      "metadata": {
        "colab": {
          "base_uri": "https://localhost:8080/"
        },
        "id": "y0b204hNAqma",
        "outputId": "59277f0b-9b83-43ac-d4f3-eace572d2bfa"
      },
      "outputs": [
        {
          "name": "stdout",
          "output_type": "stream",
          "text": [
            "Média da cross-validation: 0.9203\n"
          ]
        }
      ],
      "source": [
        "#retorna a média da cross-validation\n",
        "\n",
        "print('Média da cross-validation: {:.4f}'.format(scores.mean()))"
      ]
    },
    {
      "cell_type": "markdown",
      "metadata": {
        "id": "mobm6zjtBZ8w"
      },
      "source": [
        "Podemos ver que a métrica de desempenho do modelo que era originalmente de $0.9206$ não se alterou muito. Deste modo, poemos concluir que a cross-validation não gerou um aumento de performance do modelo."
      ]
    },
    {
      "cell_type": "markdown",
      "metadata": {
        "id": "XIlOLizD0kgO"
      },
      "source": [
        "### 5.2. Revisitando a Matriz de Confusão"
      ]
    },
    {
      "cell_type": "markdown",
      "metadata": {
        "id": "ymUd2wHuEhQQ"
      },
      "source": [
        "Vamos verificar como ficou a matriz de confrusão depois de aplicadas essas técnicas de aprimoramento do modelo."
      ]
    },
    {
      "cell_type": "code",
      "execution_count": 109,
      "metadata": {
        "colab": {
          "base_uri": "https://localhost:8080/"
        },
        "id": "0v2jejMx0rev",
        "outputId": "0158d871-4371-4945-875b-2a4cbbe6f2e5"
      },
      "outputs": [
        {
          "name": "stdout",
          "output_type": "stream",
          "text": [
            "Confusion matrix\n",
            "\n",
            " [[5325   42]\n",
            " [ 431  103]]\n",
            "\n",
            "True Positives(TP1) =  5325\n",
            "\n",
            "True Negatives(TN1) =  103\n",
            "\n",
            "False Positives(FP1) =  42\n",
            "\n",
            "False Negatives(FN1) =  431\n"
          ]
        }
      ],
      "source": [
        "from sklearn.metrics import confusion_matrix\n",
        "\n",
        "cm1 = confusion_matrix(y_test, y_pred_rfecv)\n",
        "\n",
        "print('Confusion matrix\\n\\n', cm1)\n",
        "\n",
        "print('\\nTrue Positives(TP1) = ', cm1[0,0])\n",
        "\n",
        "print('\\nTrue Negatives(TN1) = ', cm1[1,1])\n",
        "\n",
        "print('\\nFalse Positives(FP1) = ', cm1[0,1])\n",
        "\n",
        "print('\\nFalse Negatives(FN1) = ', cm1[1,0])"
      ]
    },
    {
      "cell_type": "markdown",
      "metadata": {
        "id": "G6vti9ay0_7L"
      },
      "source": [
        "Conseguimos basicamente os mesmos valores presentes antes do ajuste, mas agora com parametros reduzidos"
      ]
    },
    {
      "cell_type": "markdown",
      "metadata": {
        "id": "D7Dv_KQL2gmP"
      },
      "source": [
        "---\n",
        "## 6. Aplicando o Modelo"
      ]
    },
    {
      "cell_type": "markdown",
      "metadata": {
        "id": "rbZCyzRd2oHh"
      },
      "source": [
        "Agora podemos alicar o modelo nos dados originalmente salvos no data frame `df_validacao` e que agora estão em `X_val` que contém informações originalmente na base de dados `base_pagamentos_teste.csv`."
      ]
    },
    {
      "cell_type": "markdown",
      "metadata": {
        "id": "UgDs6HqE5JVu"
      },
      "source": [
        "#### 6.1. Preparando os Dados de Validação para a Aplicação do Modelo"
      ]
    },
    {
      "cell_type": "markdown",
      "metadata": {
        "id": "MA81GiUnDs8d"
      },
      "source": [
        "Primeiro vamos aplicar o MinMax para deixar os dados na escala correta de aplicação do modelo."
      ]
    },
    {
      "cell_type": "code",
      "execution_count": 110,
      "metadata": {
        "colab": {
          "base_uri": "https://localhost:8080/",
          "height": 349
        },
        "id": "AXUcbZJR5x1A",
        "outputId": "c23ec0d9-17c5-482d-ec19-0ddad2dd7234"
      },
      "outputs": [
        {
          "data": {
            "text/html": [
              "<div>\n",
              "<style scoped>\n",
              "    .dataframe tbody tr th:only-of-type {\n",
              "        vertical-align: middle;\n",
              "    }\n",
              "\n",
              "    .dataframe tbody tr th {\n",
              "        vertical-align: top;\n",
              "    }\n",
              "\n",
              "    .dataframe thead th {\n",
              "        text-align: right;\n",
              "    }\n",
              "</style>\n",
              "<table border=\"1\" class=\"dataframe\">\n",
              "  <thead>\n",
              "    <tr style=\"text-align: right;\">\n",
              "      <th></th>\n",
              "      <th>VALOR_A_PAGAR</th>\n",
              "      <th>TAXA</th>\n",
              "      <th>RENDA_MES_ANTERIOR</th>\n",
              "      <th>NO_FUNCIONARIOS</th>\n",
              "      <th>PRAZO_DE_CREDITO</th>\n",
              "      <th>TEMPO_COMO_CLIENTE</th>\n",
              "      <th>(1</th>\n",
              "      <th>(2</th>\n",
              "      <th>(3</th>\n",
              "      <th>(4</th>\n",
              "      <th>...</th>\n",
              "      <th>3</th>\n",
              "      <th>4</th>\n",
              "      <th>5</th>\n",
              "      <th>6</th>\n",
              "      <th>7</th>\n",
              "      <th>8</th>\n",
              "      <th>9</th>\n",
              "      <th>10</th>\n",
              "      <th>11</th>\n",
              "      <th>12</th>\n",
              "    </tr>\n",
              "  </thead>\n",
              "  <tbody>\n",
              "    <tr>\n",
              "      <th>count</th>\n",
              "      <td>5304.000000</td>\n",
              "      <td>5304.000000</td>\n",
              "      <td>5.304000e+03</td>\n",
              "      <td>5304.000000</td>\n",
              "      <td>5304.000000</td>\n",
              "      <td>5304.000000</td>\n",
              "      <td>5304.000000</td>\n",
              "      <td>5304.000000</td>\n",
              "      <td>5304.000000</td>\n",
              "      <td>5304.000000</td>\n",
              "      <td>...</td>\n",
              "      <td>5304.0</td>\n",
              "      <td>5304.0</td>\n",
              "      <td>5304.0</td>\n",
              "      <td>5304.0</td>\n",
              "      <td>5304.000000</td>\n",
              "      <td>5304.000000</td>\n",
              "      <td>5304.000000</td>\n",
              "      <td>5304.000000</td>\n",
              "      <td>5304.000000</td>\n",
              "      <td>5304.0</td>\n",
              "    </tr>\n",
              "    <tr>\n",
              "      <th>mean</th>\n",
              "      <td>63425.118778</td>\n",
              "      <td>5.898190</td>\n",
              "      <td>2.816712e+05</td>\n",
              "      <td>124.384992</td>\n",
              "      <td>22.492459</td>\n",
              "      <td>2459.679864</td>\n",
              "      <td>0.021870</td>\n",
              "      <td>0.003582</td>\n",
              "      <td>0.002262</td>\n",
              "      <td>0.002640</td>\n",
              "      <td>...</td>\n",
              "      <td>0.0</td>\n",
              "      <td>0.0</td>\n",
              "      <td>0.0</td>\n",
              "      <td>0.0</td>\n",
              "      <td>0.210219</td>\n",
              "      <td>0.217006</td>\n",
              "      <td>0.214932</td>\n",
              "      <td>0.225490</td>\n",
              "      <td>0.132353</td>\n",
              "      <td>0.0</td>\n",
              "    </tr>\n",
              "    <tr>\n",
              "      <th>std</th>\n",
              "      <td>56689.030035</td>\n",
              "      <td>1.880707</td>\n",
              "      <td>2.073143e+05</td>\n",
              "      <td>20.032144</td>\n",
              "      <td>11.881682</td>\n",
              "      <td>1714.981422</td>\n",
              "      <td>0.146274</td>\n",
              "      <td>0.059750</td>\n",
              "      <td>0.047516</td>\n",
              "      <td>0.051313</td>\n",
              "      <td>...</td>\n",
              "      <td>0.0</td>\n",
              "      <td>0.0</td>\n",
              "      <td>0.0</td>\n",
              "      <td>0.0</td>\n",
              "      <td>0.407502</td>\n",
              "      <td>0.412246</td>\n",
              "      <td>0.410814</td>\n",
              "      <td>0.417944</td>\n",
              "      <td>0.338906</td>\n",
              "      <td>0.0</td>\n",
              "    </tr>\n",
              "    <tr>\n",
              "      <th>min</th>\n",
              "      <td>6.000000</td>\n",
              "      <td>4.000000</td>\n",
              "      <td>9.270000e+02</td>\n",
              "      <td>0.000000</td>\n",
              "      <td>15.000000</td>\n",
              "      <td>3.000000</td>\n",
              "      <td>0.000000</td>\n",
              "      <td>0.000000</td>\n",
              "      <td>0.000000</td>\n",
              "      <td>0.000000</td>\n",
              "      <td>...</td>\n",
              "      <td>0.0</td>\n",
              "      <td>0.0</td>\n",
              "      <td>0.0</td>\n",
              "      <td>0.0</td>\n",
              "      <td>0.000000</td>\n",
              "      <td>0.000000</td>\n",
              "      <td>0.000000</td>\n",
              "      <td>0.000000</td>\n",
              "      <td>0.000000</td>\n",
              "      <td>0.0</td>\n",
              "    </tr>\n",
              "    <tr>\n",
              "      <th>25%</th>\n",
              "      <td>25233.750000</td>\n",
              "      <td>5.000000</td>\n",
              "      <td>1.354505e+05</td>\n",
              "      <td>114.000000</td>\n",
              "      <td>16.000000</td>\n",
              "      <td>1078.000000</td>\n",
              "      <td>0.000000</td>\n",
              "      <td>0.000000</td>\n",
              "      <td>0.000000</td>\n",
              "      <td>0.000000</td>\n",
              "      <td>...</td>\n",
              "      <td>0.0</td>\n",
              "      <td>0.0</td>\n",
              "      <td>0.0</td>\n",
              "      <td>0.0</td>\n",
              "      <td>0.000000</td>\n",
              "      <td>0.000000</td>\n",
              "      <td>0.000000</td>\n",
              "      <td>0.000000</td>\n",
              "      <td>0.000000</td>\n",
              "      <td>0.0</td>\n",
              "    </tr>\n",
              "    <tr>\n",
              "      <th>50%</th>\n",
              "      <td>46445.000000</td>\n",
              "      <td>5.000000</td>\n",
              "      <td>2.405020e+05</td>\n",
              "      <td>123.000000</td>\n",
              "      <td>18.000000</td>\n",
              "      <td>2172.000000</td>\n",
              "      <td>0.000000</td>\n",
              "      <td>0.000000</td>\n",
              "      <td>0.000000</td>\n",
              "      <td>0.000000</td>\n",
              "      <td>...</td>\n",
              "      <td>0.0</td>\n",
              "      <td>0.0</td>\n",
              "      <td>0.0</td>\n",
              "      <td>0.0</td>\n",
              "      <td>0.000000</td>\n",
              "      <td>0.000000</td>\n",
              "      <td>0.000000</td>\n",
              "      <td>0.000000</td>\n",
              "      <td>0.000000</td>\n",
              "      <td>0.0</td>\n",
              "    </tr>\n",
              "    <tr>\n",
              "      <th>75%</th>\n",
              "      <td>80312.000000</td>\n",
              "      <td>6.000000</td>\n",
              "      <td>3.751088e+05</td>\n",
              "      <td>136.000000</td>\n",
              "      <td>25.000000</td>\n",
              "      <td>3434.000000</td>\n",
              "      <td>0.000000</td>\n",
              "      <td>0.000000</td>\n",
              "      <td>0.000000</td>\n",
              "      <td>0.000000</td>\n",
              "      <td>...</td>\n",
              "      <td>0.0</td>\n",
              "      <td>0.0</td>\n",
              "      <td>0.0</td>\n",
              "      <td>0.0</td>\n",
              "      <td>0.000000</td>\n",
              "      <td>0.000000</td>\n",
              "      <td>0.000000</td>\n",
              "      <td>0.000000</td>\n",
              "      <td>0.000000</td>\n",
              "      <td>0.0</td>\n",
              "    </tr>\n",
              "    <tr>\n",
              "      <th>max</th>\n",
              "      <td>484050.000000</td>\n",
              "      <td>11.000000</td>\n",
              "      <td>1.564439e+06</td>\n",
              "      <td>182.000000</td>\n",
              "      <td>196.000000</td>\n",
              "      <td>7544.000000</td>\n",
              "      <td>1.000000</td>\n",
              "      <td>1.000000</td>\n",
              "      <td>1.000000</td>\n",
              "      <td>1.000000</td>\n",
              "      <td>...</td>\n",
              "      <td>0.0</td>\n",
              "      <td>0.0</td>\n",
              "      <td>0.0</td>\n",
              "      <td>0.0</td>\n",
              "      <td>1.000000</td>\n",
              "      <td>1.000000</td>\n",
              "      <td>1.000000</td>\n",
              "      <td>1.000000</td>\n",
              "      <td>1.000000</td>\n",
              "      <td>0.0</td>\n",
              "    </tr>\n",
              "  </tbody>\n",
              "</table>\n",
              "<p>8 rows × 193 columns</p>\n",
              "</div>"
            ],
            "text/plain": [
              "       VALOR_A_PAGAR         TAXA  RENDA_MES_ANTERIOR  NO_FUNCIONARIOS  \\\n",
              "count    5304.000000  5304.000000        5.304000e+03      5304.000000   \n",
              "mean    63425.118778     5.898190        2.816712e+05       124.384992   \n",
              "std     56689.030035     1.880707        2.073143e+05        20.032144   \n",
              "min         6.000000     4.000000        9.270000e+02         0.000000   \n",
              "25%     25233.750000     5.000000        1.354505e+05       114.000000   \n",
              "50%     46445.000000     5.000000        2.405020e+05       123.000000   \n",
              "75%     80312.000000     6.000000        3.751088e+05       136.000000   \n",
              "max    484050.000000    11.000000        1.564439e+06       182.000000   \n",
              "\n",
              "       PRAZO_DE_CREDITO  TEMPO_COMO_CLIENTE           (1           (2  \\\n",
              "count       5304.000000         5304.000000  5304.000000  5304.000000   \n",
              "mean          22.492459         2459.679864     0.021870     0.003582   \n",
              "std           11.881682         1714.981422     0.146274     0.059750   \n",
              "min           15.000000            3.000000     0.000000     0.000000   \n",
              "25%           16.000000         1078.000000     0.000000     0.000000   \n",
              "50%           18.000000         2172.000000     0.000000     0.000000   \n",
              "75%           25.000000         3434.000000     0.000000     0.000000   \n",
              "max          196.000000         7544.000000     1.000000     1.000000   \n",
              "\n",
              "                (3           (4  ...       3       4       5       6  \\\n",
              "count  5304.000000  5304.000000  ...  5304.0  5304.0  5304.0  5304.0   \n",
              "mean      0.002262     0.002640  ...     0.0     0.0     0.0     0.0   \n",
              "std       0.047516     0.051313  ...     0.0     0.0     0.0     0.0   \n",
              "min       0.000000     0.000000  ...     0.0     0.0     0.0     0.0   \n",
              "25%       0.000000     0.000000  ...     0.0     0.0     0.0     0.0   \n",
              "50%       0.000000     0.000000  ...     0.0     0.0     0.0     0.0   \n",
              "75%       0.000000     0.000000  ...     0.0     0.0     0.0     0.0   \n",
              "max       1.000000     1.000000  ...     0.0     0.0     0.0     0.0   \n",
              "\n",
              "                 7            8            9           10           11      12  \n",
              "count  5304.000000  5304.000000  5304.000000  5304.000000  5304.000000  5304.0  \n",
              "mean      0.210219     0.217006     0.214932     0.225490     0.132353     0.0  \n",
              "std       0.407502     0.412246     0.410814     0.417944     0.338906     0.0  \n",
              "min       0.000000     0.000000     0.000000     0.000000     0.000000     0.0  \n",
              "25%       0.000000     0.000000     0.000000     0.000000     0.000000     0.0  \n",
              "50%       0.000000     0.000000     0.000000     0.000000     0.000000     0.0  \n",
              "75%       0.000000     0.000000     0.000000     0.000000     0.000000     0.0  \n",
              "max       1.000000     1.000000     1.000000     1.000000     1.000000     0.0  \n",
              "\n",
              "[8 rows x 193 columns]"
            ]
          },
          "execution_count": 110,
          "metadata": {},
          "output_type": "execute_result"
        }
      ],
      "source": [
        "#averiguando escalas dos dados antes do tratamento\n",
        "X_val.describe()"
      ]
    },
    {
      "cell_type": "code",
      "execution_count": 111,
      "metadata": {
        "id": "i8f90fWL5Ryb"
      },
      "outputs": [],
      "source": [
        "#mudando os tipos de nomes das colunas para strings para aplicar o MinMax\n",
        "X_val.columns = X_val.columns.astype(str)\n",
        "\n",
        "#selecionando os nomes atuais das colunas para depois aplicar no data frame com\n",
        "cols = X_val.columns"
      ]
    },
    {
      "cell_type": "code",
      "execution_count": 112,
      "metadata": {
        "id": "4fVE9TFQ5c02"
      },
      "outputs": [],
      "source": [
        "from sklearn.preprocessing import MinMaxScaler\n",
        "\n",
        "scalar = MinMaxScaler()\n",
        "\n",
        "#aplicando MinMax\n",
        "X_val = scalar.fit_transform(X_val)\n",
        "\n",
        "#convertendo novamente para um conjunto de dados\n",
        "X_val = pd.DataFrame(X_val, columns = cols)"
      ]
    },
    {
      "cell_type": "code",
      "execution_count": 113,
      "metadata": {
        "colab": {
          "base_uri": "https://localhost:8080/",
          "height": 349
        },
        "id": "zrFP3TeQ5pg5",
        "outputId": "cf0feba3-249b-42f9-e423-4af9879e5345"
      },
      "outputs": [
        {
          "data": {
            "text/html": [
              "<div>\n",
              "<style scoped>\n",
              "    .dataframe tbody tr th:only-of-type {\n",
              "        vertical-align: middle;\n",
              "    }\n",
              "\n",
              "    .dataframe tbody tr th {\n",
              "        vertical-align: top;\n",
              "    }\n",
              "\n",
              "    .dataframe thead th {\n",
              "        text-align: right;\n",
              "    }\n",
              "</style>\n",
              "<table border=\"1\" class=\"dataframe\">\n",
              "  <thead>\n",
              "    <tr style=\"text-align: right;\">\n",
              "      <th></th>\n",
              "      <th>VALOR_A_PAGAR</th>\n",
              "      <th>TAXA</th>\n",
              "      <th>RENDA_MES_ANTERIOR</th>\n",
              "      <th>NO_FUNCIONARIOS</th>\n",
              "      <th>PRAZO_DE_CREDITO</th>\n",
              "      <th>TEMPO_COMO_CLIENTE</th>\n",
              "      <th>(1</th>\n",
              "      <th>(2</th>\n",
              "      <th>(3</th>\n",
              "      <th>(4</th>\n",
              "      <th>...</th>\n",
              "      <th>3</th>\n",
              "      <th>4</th>\n",
              "      <th>5</th>\n",
              "      <th>6</th>\n",
              "      <th>7</th>\n",
              "      <th>8</th>\n",
              "      <th>9</th>\n",
              "      <th>10</th>\n",
              "      <th>11</th>\n",
              "      <th>12</th>\n",
              "    </tr>\n",
              "  </thead>\n",
              "  <tbody>\n",
              "    <tr>\n",
              "      <th>count</th>\n",
              "      <td>5304.000000</td>\n",
              "      <td>5304.000000</td>\n",
              "      <td>5304.000000</td>\n",
              "      <td>5304.000000</td>\n",
              "      <td>5304.000000</td>\n",
              "      <td>5304.000000</td>\n",
              "      <td>5304.000000</td>\n",
              "      <td>5304.000000</td>\n",
              "      <td>5304.000000</td>\n",
              "      <td>5304.000000</td>\n",
              "      <td>...</td>\n",
              "      <td>5304.0</td>\n",
              "      <td>5304.0</td>\n",
              "      <td>5304.0</td>\n",
              "      <td>5304.0</td>\n",
              "      <td>5304.000000</td>\n",
              "      <td>5304.000000</td>\n",
              "      <td>5304.000000</td>\n",
              "      <td>5304.000000</td>\n",
              "      <td>5304.000000</td>\n",
              "      <td>5304.0</td>\n",
              "    </tr>\n",
              "    <tr>\n",
              "      <th>mean</th>\n",
              "      <td>0.131019</td>\n",
              "      <td>0.271170</td>\n",
              "      <td>0.179560</td>\n",
              "      <td>0.683434</td>\n",
              "      <td>0.041395</td>\n",
              "      <td>0.325776</td>\n",
              "      <td>0.021870</td>\n",
              "      <td>0.003582</td>\n",
              "      <td>0.002262</td>\n",
              "      <td>0.002640</td>\n",
              "      <td>...</td>\n",
              "      <td>0.0</td>\n",
              "      <td>0.0</td>\n",
              "      <td>0.0</td>\n",
              "      <td>0.0</td>\n",
              "      <td>0.210219</td>\n",
              "      <td>0.217006</td>\n",
              "      <td>0.214932</td>\n",
              "      <td>0.225490</td>\n",
              "      <td>0.132353</td>\n",
              "      <td>0.0</td>\n",
              "    </tr>\n",
              "    <tr>\n",
              "      <th>std</th>\n",
              "      <td>0.117115</td>\n",
              "      <td>0.268672</td>\n",
              "      <td>0.132595</td>\n",
              "      <td>0.110067</td>\n",
              "      <td>0.065645</td>\n",
              "      <td>0.227421</td>\n",
              "      <td>0.146274</td>\n",
              "      <td>0.059750</td>\n",
              "      <td>0.047516</td>\n",
              "      <td>0.051313</td>\n",
              "      <td>...</td>\n",
              "      <td>0.0</td>\n",
              "      <td>0.0</td>\n",
              "      <td>0.0</td>\n",
              "      <td>0.0</td>\n",
              "      <td>0.407502</td>\n",
              "      <td>0.412246</td>\n",
              "      <td>0.410814</td>\n",
              "      <td>0.417944</td>\n",
              "      <td>0.338906</td>\n",
              "      <td>0.0</td>\n",
              "    </tr>\n",
              "    <tr>\n",
              "      <th>min</th>\n",
              "      <td>0.000000</td>\n",
              "      <td>0.000000</td>\n",
              "      <td>0.000000</td>\n",
              "      <td>0.000000</td>\n",
              "      <td>0.000000</td>\n",
              "      <td>0.000000</td>\n",
              "      <td>0.000000</td>\n",
              "      <td>0.000000</td>\n",
              "      <td>0.000000</td>\n",
              "      <td>0.000000</td>\n",
              "      <td>...</td>\n",
              "      <td>0.0</td>\n",
              "      <td>0.0</td>\n",
              "      <td>0.0</td>\n",
              "      <td>0.0</td>\n",
              "      <td>0.000000</td>\n",
              "      <td>0.000000</td>\n",
              "      <td>0.000000</td>\n",
              "      <td>0.000000</td>\n",
              "      <td>0.000000</td>\n",
              "      <td>0.0</td>\n",
              "    </tr>\n",
              "    <tr>\n",
              "      <th>25%</th>\n",
              "      <td>0.052119</td>\n",
              "      <td>0.142857</td>\n",
              "      <td>0.086039</td>\n",
              "      <td>0.626374</td>\n",
              "      <td>0.005525</td>\n",
              "      <td>0.142554</td>\n",
              "      <td>0.000000</td>\n",
              "      <td>0.000000</td>\n",
              "      <td>0.000000</td>\n",
              "      <td>0.000000</td>\n",
              "      <td>...</td>\n",
              "      <td>0.0</td>\n",
              "      <td>0.0</td>\n",
              "      <td>0.0</td>\n",
              "      <td>0.0</td>\n",
              "      <td>0.000000</td>\n",
              "      <td>0.000000</td>\n",
              "      <td>0.000000</td>\n",
              "      <td>0.000000</td>\n",
              "      <td>0.000000</td>\n",
              "      <td>0.0</td>\n",
              "    </tr>\n",
              "    <tr>\n",
              "      <th>50%</th>\n",
              "      <td>0.095940</td>\n",
              "      <td>0.142857</td>\n",
              "      <td>0.153229</td>\n",
              "      <td>0.675824</td>\n",
              "      <td>0.016575</td>\n",
              "      <td>0.287628</td>\n",
              "      <td>0.000000</td>\n",
              "      <td>0.000000</td>\n",
              "      <td>0.000000</td>\n",
              "      <td>0.000000</td>\n",
              "      <td>...</td>\n",
              "      <td>0.0</td>\n",
              "      <td>0.0</td>\n",
              "      <td>0.0</td>\n",
              "      <td>0.0</td>\n",
              "      <td>0.000000</td>\n",
              "      <td>0.000000</td>\n",
              "      <td>0.000000</td>\n",
              "      <td>0.000000</td>\n",
              "      <td>0.000000</td>\n",
              "      <td>0.0</td>\n",
              "    </tr>\n",
              "    <tr>\n",
              "      <th>75%</th>\n",
              "      <td>0.165906</td>\n",
              "      <td>0.285714</td>\n",
              "      <td>0.239321</td>\n",
              "      <td>0.747253</td>\n",
              "      <td>0.055249</td>\n",
              "      <td>0.454979</td>\n",
              "      <td>0.000000</td>\n",
              "      <td>0.000000</td>\n",
              "      <td>0.000000</td>\n",
              "      <td>0.000000</td>\n",
              "      <td>...</td>\n",
              "      <td>0.0</td>\n",
              "      <td>0.0</td>\n",
              "      <td>0.0</td>\n",
              "      <td>0.0</td>\n",
              "      <td>0.000000</td>\n",
              "      <td>0.000000</td>\n",
              "      <td>0.000000</td>\n",
              "      <td>0.000000</td>\n",
              "      <td>0.000000</td>\n",
              "      <td>0.0</td>\n",
              "    </tr>\n",
              "    <tr>\n",
              "      <th>max</th>\n",
              "      <td>1.000000</td>\n",
              "      <td>1.000000</td>\n",
              "      <td>1.000000</td>\n",
              "      <td>1.000000</td>\n",
              "      <td>1.000000</td>\n",
              "      <td>1.000000</td>\n",
              "      <td>1.000000</td>\n",
              "      <td>1.000000</td>\n",
              "      <td>1.000000</td>\n",
              "      <td>1.000000</td>\n",
              "      <td>...</td>\n",
              "      <td>0.0</td>\n",
              "      <td>0.0</td>\n",
              "      <td>0.0</td>\n",
              "      <td>0.0</td>\n",
              "      <td>1.000000</td>\n",
              "      <td>1.000000</td>\n",
              "      <td>1.000000</td>\n",
              "      <td>1.000000</td>\n",
              "      <td>1.000000</td>\n",
              "      <td>0.0</td>\n",
              "    </tr>\n",
              "  </tbody>\n",
              "</table>\n",
              "<p>8 rows × 193 columns</p>\n",
              "</div>"
            ],
            "text/plain": [
              "       VALOR_A_PAGAR         TAXA  RENDA_MES_ANTERIOR  NO_FUNCIONARIOS  \\\n",
              "count    5304.000000  5304.000000         5304.000000      5304.000000   \n",
              "mean        0.131019     0.271170            0.179560         0.683434   \n",
              "std         0.117115     0.268672            0.132595         0.110067   \n",
              "min         0.000000     0.000000            0.000000         0.000000   \n",
              "25%         0.052119     0.142857            0.086039         0.626374   \n",
              "50%         0.095940     0.142857            0.153229         0.675824   \n",
              "75%         0.165906     0.285714            0.239321         0.747253   \n",
              "max         1.000000     1.000000            1.000000         1.000000   \n",
              "\n",
              "       PRAZO_DE_CREDITO  TEMPO_COMO_CLIENTE           (1           (2  \\\n",
              "count       5304.000000         5304.000000  5304.000000  5304.000000   \n",
              "mean           0.041395            0.325776     0.021870     0.003582   \n",
              "std            0.065645            0.227421     0.146274     0.059750   \n",
              "min            0.000000            0.000000     0.000000     0.000000   \n",
              "25%            0.005525            0.142554     0.000000     0.000000   \n",
              "50%            0.016575            0.287628     0.000000     0.000000   \n",
              "75%            0.055249            0.454979     0.000000     0.000000   \n",
              "max            1.000000            1.000000     1.000000     1.000000   \n",
              "\n",
              "                (3           (4  ...       3       4       5       6  \\\n",
              "count  5304.000000  5304.000000  ...  5304.0  5304.0  5304.0  5304.0   \n",
              "mean      0.002262     0.002640  ...     0.0     0.0     0.0     0.0   \n",
              "std       0.047516     0.051313  ...     0.0     0.0     0.0     0.0   \n",
              "min       0.000000     0.000000  ...     0.0     0.0     0.0     0.0   \n",
              "25%       0.000000     0.000000  ...     0.0     0.0     0.0     0.0   \n",
              "50%       0.000000     0.000000  ...     0.0     0.0     0.0     0.0   \n",
              "75%       0.000000     0.000000  ...     0.0     0.0     0.0     0.0   \n",
              "max       1.000000     1.000000  ...     0.0     0.0     0.0     0.0   \n",
              "\n",
              "                 7            8            9           10           11      12  \n",
              "count  5304.000000  5304.000000  5304.000000  5304.000000  5304.000000  5304.0  \n",
              "mean      0.210219     0.217006     0.214932     0.225490     0.132353     0.0  \n",
              "std       0.407502     0.412246     0.410814     0.417944     0.338906     0.0  \n",
              "min       0.000000     0.000000     0.000000     0.000000     0.000000     0.0  \n",
              "25%       0.000000     0.000000     0.000000     0.000000     0.000000     0.0  \n",
              "50%       0.000000     0.000000     0.000000     0.000000     0.000000     0.0  \n",
              "75%       0.000000     0.000000     0.000000     0.000000     0.000000     0.0  \n",
              "max       1.000000     1.000000     1.000000     1.000000     1.000000     0.0  \n",
              "\n",
              "[8 rows x 193 columns]"
            ]
          },
          "execution_count": 113,
          "metadata": {},
          "output_type": "execute_result"
        }
      ],
      "source": [
        "#verificando mudanças feitas nos dados\n",
        "X_val.describe()"
      ]
    },
    {
      "cell_type": "markdown",
      "metadata": {
        "id": "4pRYvThy59JM"
      },
      "source": [
        "#### 6.2. Aplicando o Modelo nos Dados de Validação"
      ]
    },
    {
      "cell_type": "markdown",
      "metadata": {
        "id": "ZsxBtWZMD1vH"
      },
      "source": [
        "Agora podemos aplicar o modelo já treinado nas etapas anteriores nos dados de validação."
      ]
    },
    {
      "cell_type": "code",
      "execution_count": 114,
      "metadata": {
        "id": "ZrJVrJZX7SuE"
      },
      "outputs": [],
      "source": [
        "#Aplicando a redução de características rfecv\n",
        "X_val_rfecv = rfecv.transform(X_val)"
      ]
    },
    {
      "cell_type": "code",
      "execution_count": 115,
      "metadata": {
        "colab": {
          "base_uri": "https://localhost:8080/"
        },
        "id": "WDT1ZgXR6bAJ",
        "outputId": "6c276972-09e7-431a-ef5b-c42acf131f8e"
      },
      "outputs": [
        {
          "data": {
            "text/plain": [
              "array([0, 0, 0, ..., 0, 0, 0], shape=(5304,))"
            ]
          },
          "execution_count": 115,
          "metadata": {},
          "output_type": "execute_result"
        }
      ],
      "source": [
        "#Aplicando o modelo nos dados de validação\n",
        "y_preditos_validacao = logreg.predict(X_val_rfecv)\n",
        "y_preditos_validacao"
      ]
    },
    {
      "cell_type": "markdown",
      "metadata": {
        "id": "CLuv6F9U7tdd"
      },
      "source": [
        "Aplicando o método predict_proba para calcular a probabilidade da variavel ser 0 (não inadimplente) ou 1 (inadimplente)."
      ]
    },
    {
      "cell_type": "code",
      "execution_count": 116,
      "metadata": {
        "colab": {
          "base_uri": "https://localhost:8080/"
        },
        "id": "LeHJo9BN7uWP",
        "outputId": "3a9e0f2b-63ef-411f-d29d-72a815166cf3"
      },
      "outputs": [
        {
          "data": {
            "text/plain": [
              "array([0.99570094, 0.98696974, 0.9872082 , ..., 0.91095531, 0.99651507,\n",
              "       0.99312153], shape=(5304,))"
            ]
          },
          "execution_count": 116,
          "metadata": {},
          "output_type": "execute_result"
        }
      ],
      "source": [
        "logreg.predict_proba(X_val_rfecv)[:,0]"
      ]
    },
    {
      "cell_type": "code",
      "execution_count": 117,
      "metadata": {
        "colab": {
          "base_uri": "https://localhost:8080/"
        },
        "id": "gbcqnSZ770GS",
        "outputId": "78a2e96d-1c5f-49e1-ee2b-c67e32fbf761"
      },
      "outputs": [
        {
          "data": {
            "text/plain": [
              "array([0.00429906, 0.01303026, 0.0127918 , ..., 0.08904469, 0.00348493,\n",
              "       0.00687847], shape=(5304,))"
            ]
          },
          "execution_count": 117,
          "metadata": {},
          "output_type": "execute_result"
        }
      ],
      "source": [
        "logreg.predict_proba(X_val_rfecv)[:,1]"
      ]
    },
    {
      "cell_type": "markdown",
      "metadata": {
        "id": "RA9nj81M8Mgp"
      },
      "source": [
        "#### 6.3. Vendo as predições"
      ]
    },
    {
      "cell_type": "markdown",
      "metadata": {
        "id": "YeabYSGqEEAm"
      },
      "source": [
        "Podemos ver também a quantidade de clientes que são possiveis Inadimplentes ou não, assim como ter uma idéia da frequência em que o modelo calssificou cada cliente por meio de um histograma."
      ]
    },
    {
      "cell_type": "code",
      "execution_count": 118,
      "metadata": {
        "colab": {
          "base_uri": "https://localhost:8080/",
          "height": 178
        },
        "id": "6V-gnAiA87mm",
        "outputId": "5a79963c-1972-4dbb-f824-273dbdc4fdd5"
      },
      "outputs": [
        {
          "data": {
            "text/plain": [
              "INADIMPLENTES\n",
              "0                5279\n",
              "1                  25\n",
              "Name: count, dtype: int64"
            ]
          },
          "execution_count": 118,
          "metadata": {},
          "output_type": "execute_result"
        }
      ],
      "source": [
        "y_preditos_validacao_df = pd.DataFrame(data = y_preditos_validacao, columns= ['INADIMPLENTES'])\n",
        "y_preditos_validacao_df.value_counts()"
      ]
    },
    {
      "cell_type": "code",
      "execution_count": 119,
      "metadata": {
        "colab": {
          "base_uri": "https://localhost:8080/",
          "height": 363
        },
        "id": "cWIbFrH58QfR",
        "outputId": "218deb0f-5e0b-4a12-a200-527d1d1551fd"
      },
      "outputs": [
        {
          "data": {
            "text/html": [
              "<div>\n",
              "<style scoped>\n",
              "    .dataframe tbody tr th:only-of-type {\n",
              "        vertical-align: middle;\n",
              "    }\n",
              "\n",
              "    .dataframe tbody tr th {\n",
              "        vertical-align: top;\n",
              "    }\n",
              "\n",
              "    .dataframe thead th {\n",
              "        text-align: right;\n",
              "    }\n",
              "</style>\n",
              "<table border=\"1\" class=\"dataframe\">\n",
              "  <thead>\n",
              "    <tr style=\"text-align: right;\">\n",
              "      <th></th>\n",
              "      <th>Probabiliade de ser - Não Inadimplente (0)</th>\n",
              "      <th>Probabiliade de ser - Inadimplente (1)</th>\n",
              "    </tr>\n",
              "  </thead>\n",
              "  <tbody>\n",
              "    <tr>\n",
              "      <th>0</th>\n",
              "      <td>0.995701</td>\n",
              "      <td>0.004299</td>\n",
              "    </tr>\n",
              "    <tr>\n",
              "      <th>1</th>\n",
              "      <td>0.986970</td>\n",
              "      <td>0.013030</td>\n",
              "    </tr>\n",
              "    <tr>\n",
              "      <th>2</th>\n",
              "      <td>0.987208</td>\n",
              "      <td>0.012792</td>\n",
              "    </tr>\n",
              "    <tr>\n",
              "      <th>3</th>\n",
              "      <td>0.987380</td>\n",
              "      <td>0.012620</td>\n",
              "    </tr>\n",
              "    <tr>\n",
              "      <th>4</th>\n",
              "      <td>0.996045</td>\n",
              "      <td>0.003955</td>\n",
              "    </tr>\n",
              "    <tr>\n",
              "      <th>5</th>\n",
              "      <td>0.996025</td>\n",
              "      <td>0.003975</td>\n",
              "    </tr>\n",
              "    <tr>\n",
              "      <th>6</th>\n",
              "      <td>0.995876</td>\n",
              "      <td>0.004124</td>\n",
              "    </tr>\n",
              "    <tr>\n",
              "      <th>7</th>\n",
              "      <td>0.995900</td>\n",
              "      <td>0.004100</td>\n",
              "    </tr>\n",
              "    <tr>\n",
              "      <th>8</th>\n",
              "      <td>0.970092</td>\n",
              "      <td>0.029908</td>\n",
              "    </tr>\n",
              "    <tr>\n",
              "      <th>9</th>\n",
              "      <td>0.968587</td>\n",
              "      <td>0.031413</td>\n",
              "    </tr>\n",
              "  </tbody>\n",
              "</table>\n",
              "</div>"
            ],
            "text/plain": [
              "   Probabiliade de ser - Não Inadimplente (0)  \\\n",
              "0                                    0.995701   \n",
              "1                                    0.986970   \n",
              "2                                    0.987208   \n",
              "3                                    0.987380   \n",
              "4                                    0.996045   \n",
              "5                                    0.996025   \n",
              "6                                    0.995876   \n",
              "7                                    0.995900   \n",
              "8                                    0.970092   \n",
              "9                                    0.968587   \n",
              "\n",
              "   Probabiliade de ser - Inadimplente (1)  \n",
              "0                                0.004299  \n",
              "1                                0.013030  \n",
              "2                                0.012792  \n",
              "3                                0.012620  \n",
              "4                                0.003955  \n",
              "5                                0.003975  \n",
              "6                                0.004124  \n",
              "7                                0.004100  \n",
              "8                                0.029908  \n",
              "9                                0.031413  "
            ]
          },
          "execution_count": 119,
          "metadata": {},
          "output_type": "execute_result"
        }
      ],
      "source": [
        "#retorna as 10 preimeiras probabiliades previstas para as classe 0 ou 1\n",
        "y_pred_prob_val = logreg.predict_proba(X_val_rfecv)[0:10]\n",
        "\n",
        "#armazena essa probabilidades em um DataFrame\n",
        "y_pred_prob_df_val = pd.DataFrame(data=y_pred_prob_val, columns=['Probabiliade de ser - Não Inadimplente (0)', 'Probabiliade de ser - Inadimplente (1)'])\n",
        "\n",
        "y_pred_prob_df_val"
      ]
    },
    {
      "cell_type": "code",
      "execution_count": 120,
      "metadata": {
        "colab": {
          "base_uri": "https://localhost:8080/",
          "height": 499
        },
        "id": "hYQ0LUy98bZM",
        "outputId": "f874daed-c501-4b84-8a84-4db9ab8005bf"
      },
      "outputs": [
        {
          "data": {
            "text/plain": [
              "Text(0, 0.5, 'Frequência')"
            ]
          },
          "execution_count": 120,
          "metadata": {},
          "output_type": "execute_result"
        },
        {
          "data": {
            "image/png": "[encoded data removed]",
            "text/plain": [
              "<Figure size 640x480 with 1 Axes>"
            ]
          },
          "metadata": {},
          "output_type": "display_data"
        }
      ],
      "source": [
        "#cria um histograma comm as frequências das classificações feitas pelo modelo\n",
        "y_pred2 = logreg.predict_proba(X_val_rfecv)[:, 1]\n",
        "\n",
        "plt.rcParams['font.size'] = 12\n",
        "\n",
        "plt.hist(y_pred2, bins = 10)\n",
        "\n",
        "plt.title('Histograma das Probabilidades Preditas de Inadimplencia')\n",
        "\n",
        "plt.xlim(0,1)\n",
        "\n",
        "plt.xlabel('Probabiliades preditas de Inadimplencia')\n",
        "plt.ylabel('Frequência')"
      ]
    },
    {
      "cell_type": "markdown",
      "metadata": {
        "id": "RJ4Nn0Er94kk"
      },
      "source": [
        "---\n",
        "## 7. Considerações Finais"
      ]
    },
    {
      "cell_type": "markdown",
      "metadata": {
        "id": "ibY9CM2--S05"
      },
      "source": [
        "### 7.1. Resultados e Conclusão"
      ]
    },
    {
      "cell_type": "markdown",
      "metadata": {
        "id": "gBroL-b4OSwg"
      },
      "source": [
        "1. O modelo possui uma alta acurácia de $0.9198$, fazendo assim um bom trabalho em prever clientes inadimplentes ou não.\n",
        "\n",
        "\n",
        "2. Temos uma alta precisão, especialmente referente aos dados classificados como negativos (não inadimplentes), com isso o modelo menos clientes não inadimplentes são classificados de forma errada.\n",
        "\n",
        "\n",
        "3. Um ponto preocupante é o baixo recall nos dados positivos (inadimplentes), isso indica que uma grande taxa de falsos negativos para com os clientes inadimplentes.\n",
        "\n",
        "\n",
        "4. O baixo f1 nos dados positivos (inadimplentes) é consequência do baixo recall nestes, o que mostra que apesar do modelo ter uma baixa taxa de falsos positivos, possivelmente ele tem uma alta taxa de falsos negativos.\n",
        "\n",
        "\n",
        "5. O baixo valor da àrea sobre a curva ROC de $0.5925$, indica que o modelo apesar de preciso e de boa acurácia, não tem desempenho muito elevado se comparado com o modelo puramente aleatório, que para comparação tem área sobre a curva ROC de $0.5$.\n",
        "\n",
        "\n",
        "6. Os métodos de aprimoramento do modelo, apesar de reduzirem o número de parâmetros que era originalmente 193 para 178, melhorando assim a eficiência do modelo sem prejudicar sua acurácia e demais métricas, pouco foram efetivos na melhora do recall ou área sobre a curva ROC.\n",
        "\n",
        "\n",
        "7. De modo geral, o modelo é bom para a classificação de clientes tido como inadimplentes, seus indicadores são resultado possivelmente de uma baixa frequência de clientes inadimplentes, em comparação com os não inadimplentes, fazendo assim o modelo a tender a classificar pelos dados mais frequentes.\n",
        "\n",
        "\n",
        "8. Dito isso, as recomendações futuras devem focar em abordar o desequilíbrio de classes e melhorar a capacidade do modelo de identificar a classe minoritária, nesse caso os clientes não inadimplentes. Para isso podem ser empregadas técnicas como:\n",
        "  - Ponderação de classes (Class Weighting), fornecer um dicionário de pesos para dar mais importância à classe minoritária (inadimplentes) durante o treinamento. Isso fará com que o modelo penalize mais os erros na previsão da classe positiva.\n",
        "\n",
        "  - Técnicas de reamostragem como sobreamostragem ou subamostragem, que aumente o número de amostras da classe inadimplente ou diminui os de não inadimplente.\n",
        "\n",
        "  - Otimização do Ponto de Corte (Threshold), fazendo com que seja mais provavel que um cliente seja classificado como inadimplente, pois por padrão, um cliente é classificado como inadimplente se a probabilidade for $≥0.5$."
      ]
    },
    {
      "cell_type": "markdown",
      "metadata": {
        "id": "rVB7ULuS-TCm"
      },
      "source": [
        "### 7.2. Fontes"
      ]
    },
    {
      "cell_type": "markdown",
      "metadata": {
        "id": "4WXi0ZXATC50"
      },
      "source": [
        "Seguem as fontes usadas como consulta para a criação desse modelo.\n",
        "\n",
        "- [Logistic Regression with Python and Scikit-Learn](https://gist.github.com/pb111/62067d128be7f7f86e81916ff946af7b)\n",
        "\n",
        "- [1.1. Linear Models — scikit-learn 1.7.0 documentation](https://scikit-learn.org/stable/modules/linear_model.html#logistic-regression)\n",
        "\n",
        "- [Repositório Institucional da Universidade Federal de Rondônia: Modelo para previsão de inadimplência utilizando a regressão logística aplicado a tomadores de crédito de uma instituição financeira da cidade de Ji Paraná](https://ri.unir.br/jspui/handle/123456789/3062)\n",
        "\n",
        "- [Wikipedia Logistic Regression](https://en.wikipedia.org/wiki/Logistic_regression)"
      ]
    }
  ],
  "metadata": {
    "colab": {
      "collapsed_sections": [
        "Vw6CwE41lG9X",
        "sywzgR0gjHmw",
        "FVVBfdqwBrWy",
        "96FbbH5AioES",
        "EWqp-u_ik2JU",
        "0GgLubTFw_on",
        "D7Dv_KQL2gmP"
      ],
      "provenance": [],
      "toc_visible": true
    },
    "kernelspec": {
      "display_name": "Python 3",
      "language": "python",
      "name": "python3"
    },
    "language_info": {
      "codemirror_mode": {
        "name": "ipython",
        "version": 3
      },
      "file_extension": ".py",
      "mimetype": "text/x-python",
      "name": "python",
      "nbconvert_exporter": "python",
      "pygments_lexer": "ipython3",
      "version": "3.12.2"
    }
  },
  "nbformat": 4,
  "nbformat_minor": 0
}
